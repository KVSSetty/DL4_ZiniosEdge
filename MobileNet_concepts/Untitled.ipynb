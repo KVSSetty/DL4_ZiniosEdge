{
 "cells": [
  {
   "cell_type": "markdown",
   "metadata": {},
   "source": [
    "## MobilenetV1 and MobilenetV2"
   ]
  },
  {
   "cell_type": "markdown",
   "metadata": {},
   "source": [
    "#### Normal Convolution"
   ]
  },
  {
   "cell_type": "markdown",
   "metadata": {},
   "source": [
    "![normal_convolution](image01.jpg)"
   ]
  },
  {
   "cell_type": "markdown",
   "metadata": {},
   "source": [
    "The number of multiplications in 1 convolution operation = Dk x Dk x M\n",
    "\n",
    "Since there are N filters and each filter slides vertically and horizontally Dp times,\n",
    "\n",
    "the total number of multiplications become N x Dp x Dp x (Multiplications per convolution)"
   ]
  },
  {
   "cell_type": "markdown",
   "metadata": {},
   "source": [
    "So for normal convolution operation\n",
    "\n",
    "Total no of multiplications = $N x Dp^2 x Dk^2 x M$"
   ]
  },
  {
   "cell_type": "markdown",
   "metadata": {},
   "source": [
    "#### Depth-Wise Separable Convolutions"
   ]
  },
  {
   "cell_type": "markdown",
   "metadata": {},
   "source": [
    "Now look at depth-wise separable convolutions. This process is broken down into 2 operations –\n",
    "\n",
    "- **Depth-wise convolutions**\n",
    "- **Point-wise convolutions**"
   ]
  },
  {
   "cell_type": "markdown",
   "metadata": {},
   "source": [
    "##### DEPTH WISE CONVOLUTION"
   ]
  },
  {
   "cell_type": "markdown",
   "metadata": {},
   "source": [
    "In **depth-wise operation**, convolution is applied to a single channel at a time unlike standard/normal/regular convolution operations, in which it is done for all the M channels. So here the filters/kernels will be of size: \n",
    "**Dk x Dk x 1**. Given there are M channels in the input data, then M such filters are required. Output will be of size:\n",
    "**Dp x Dp x M**."
   ]
  },
  {
   "cell_type": "markdown",
   "metadata": {},
   "source": [
    "![depthwise_conv](image02.png)"
   ]
  },
  {
   "cell_type": "markdown",
   "metadata": {},
   "source": [
    "**Cost of this operation:**"
   ]
  },
  {
   "cell_type": "markdown",
   "metadata": {},
   "source": [
    "A single convolution operation require **Dk x Dk x 1** multiplications."
   ]
  },
  {
   "cell_type": "markdown",
   "metadata": {},
   "source": [
    "Since the filter are slided by Dp x Dp times across all the M channels,\n",
    "\n",
    "the total number of multiplications is equal to **M x Dp x Dp x Dk x Dk x 1**"
   ]
  },
  {
   "cell_type": "markdown",
   "metadata": {},
   "source": [
    "So for depth wise convolution operation\n",
    "\n",
    "Total no of multiplications = $M x Dk^2 x Dp^2$"
   ]
  },
  {
   "cell_type": "markdown",
   "metadata": {},
   "source": [
    "##### POINT WISE CONVOLUTION"
   ]
  },
  {
   "cell_type": "markdown",
   "metadata": {},
   "source": [
    "In **point-wise operation**, a **1×1** convolution operation is applied on the M channels. So the filter size for this operation will be **1 x 1 x M**. Say we use N such filters, the output size becomes **Dp x Dp x N.**"
   ]
  },
  {
   "cell_type": "markdown",
   "metadata": {},
   "source": [
    "![point_wise_conv](image03.png)"
   ]
  },
  {
   "cell_type": "markdown",
   "metadata": {},
   "source": [
    "**Cost of this operation:**\n",
    "\n",
    "A single convolution operation require **1 x 1 x M** multiplications."
   ]
  },
  {
   "cell_type": "markdown",
   "metadata": {},
   "source": [
    "Since the filter is being slided by Dp x Dp times,\n",
    "\n",
    "the total number of multiplications is equal to **(1x 1x M) x (Dp x Dp x N)**"
   ]
  },
  {
   "cell_type": "markdown",
   "metadata": {},
   "source": [
    "So for point wise convolution operation\n",
    "\n",
    "Total no of multiplications = **M x $Dp^2$ x N**"
   ]
  },
  {
   "cell_type": "markdown",
   "metadata": {},
   "source": [
    "Therefore, for overall operation:\n",
    "\n",
    "\n",
    "Total multiplications = Depth wise conv. multiplications + Point wise conv. multiplications\n",
    "\n",
    "Total multiplications = $M x Dk^2 x Dp^2 + M x Dp^2 x N$ "
   ]
  },
  {
   "cell_type": "markdown",
   "metadata": {},
   "source": [
    "**Comparison between the complexities of these types of convolution operations**"
   ]
  },
  {
   "cell_type": "markdown",
   "metadata": {},
   "source": [
    "**Depth wise separable:    $M x Dk^2 x Dp^2 + M x Dp^2 x N$** \n",
    "\n",
    "**normal convolution:        $N x Dp^2 x Dk^2 x M$**\n"
   ]
  },
  {
   "cell_type": "markdown",
   "metadata": {},
   "source": [
    " **RATIO ( R )**=*Complexity of depth wise separable convolutions*/*Complexity of standard convolution* \n",
    "\n",
    " \n",
    "\n"
   ]
  },
  {
   "cell_type": "markdown",
   "metadata": {},
   "source": [
    "Upon solving:"
   ]
  },
  {
   "cell_type": "markdown",
   "metadata": {},
   "source": [
    "**Ratio(R) = $1/N + 1/Dk^2$**"
   ]
  },
  {
   "cell_type": "markdown",
   "metadata": {},
   "source": [
    "Example if N=512 and Dk=3,\n",
    "Ratio = 0.113, means **depthwise separable conv has just 11.3 percent FLOPS of regular convlotions**"
   ]
  },
  {
   "cell_type": "markdown",
   "metadata": {},
   "source": [
    "![depthwise_separable_conv](depthwise_separable_conv.png)"
   ]
  },
  {
   "cell_type": "markdown",
   "metadata": {},
   "source": [
    "\n",
    "![mobilenet_table01](mobilenet_Table1-1.png)"
   ]
  },
  {
   "cell_type": "markdown",
   "metadata": {},
   "source": [
    "**exercise: build the mobilenetv1 model using keras or tf.keras libarry and the above table**"
   ]
  },
  {
   "cell_type": "markdown",
   "metadata": {},
   "source": [
    "[moblenetV1 review by Sik-Ho Tsang\n",
    "](https://towardsdatascience.com/review-mobilenetv1-depthwise-separable-convolution-light-weight-model-a382df364b69)"
   ]
  },
  {
   "cell_type": "markdown",
   "metadata": {},
   "source": [
    "[mobilenetV2 review by Sik-HO Tsang](https://towardsdatascience.com/review-mobilenetv2-light-weight-model-image-classification-8febb490e61c)"
   ]
  },
  {
   "cell_type": "markdown",
   "metadata": {},
   "source": [
    "[MobilenetV1 concept](https://machinethink.net/blog/googles-mobile-net-architecture-on-iphone/)"
   ]
  },
  {
   "cell_type": "markdown",
   "metadata": {},
   "source": [
    "[MobilenetV2 details](http://www.machinethink.net/blog/mobilenet-v2/)"
   ]
  },
  {
   "cell_type": "code",
   "execution_count": null,
   "metadata": {},
   "outputs": [],
   "source": [
    "#%run mobilenet.py"
   ]
  },
  {
   "cell_type": "code",
   "execution_count": null,
   "metadata": {},
   "outputs": [],
   "source": [
    "import tensorflow as tf\n",
    "from tensorflow.keras.optimizers import *\n",
    "from tensorflow.keras.models import Model\n",
    "from tensorflow.keras.layers import *\n",
    "from tensorflow.keras.activations import *\n",
    "from tensorflow.keras.callbacks import *\n",
    "\n",
    "\n",
    "def get_conv_block(tensor, channels, strides, alpha=1.0, name=''):\n",
    "    channels = int(channels * alpha)\n",
    "\n",
    "    x = Conv2D(channels,\n",
    "               kernel_size=(3, 3),\n",
    "               strides=strides,\n",
    "               use_bias=False,\n",
    "               padding='same',\n",
    "               name='{}_conv'.format(name))(tensor)\n",
    "    x = BatchNormalization(name='{}_bn'.format(name))(x)\n",
    "    x = Activation('relu', name='{}_act'.format(name))(x)\n",
    "    return x\n",
    "\n",
    "\n",
    "def get_dw_sep_block(tensor, channels, strides, alpha=1.0, name=''):\n",
    "    \"\"\"Depthwise separable conv: A Depthwise conv followed by a Pointwise conv.\"\"\"\n",
    "    channels = int(channels * alpha)\n",
    "\n",
    "    # Depthwise\n",
    "    x = DepthwiseConv2D(kernel_size=(3, 3),\n",
    "                        strides=strides,\n",
    "                        use_bias=False,\n",
    "                        padding='same',\n",
    "                        name='{}_dw'.format(name))(tensor)\n",
    "    x = BatchNormalization(name='{}_bn1'.format(name))(x)\n",
    "    x = Activation('relu', name='{}_act1'.format(name))(x)\n",
    "\n",
    "    # Pointwise\n",
    "    x = Conv2D(channels,\n",
    "               kernel_size=(1, 1),\n",
    "               strides=(1, 1),\n",
    "               use_bias=False,\n",
    "               padding='same',\n",
    "               name='{}_pw'.format(name))(x)\n",
    "    x = BatchNormalization(name='{}_bn2'.format(name))(x)\n",
    "    x = Activation('relu', name='{}_act2'.format(name))(x)\n",
    "    return x\n",
    "\n",
    "\n",
    "def MobileNet(shape, num_classes, alpha=1.0, include_top=True, weights=None):\n",
    "    x_in = Input(shape=shape)\n",
    "\n",
    "    x = get_conv_block(x_in, 32, (2, 2), alpha=alpha, name='initial')\n",
    "\n",
    "    layers = [\n",
    "        (64, (1, 1)),\n",
    "        (128, (2, 2)),\n",
    "        (128, (1, 1)),\n",
    "        (256, (2, 2)),\n",
    "        (256, (1, 1)),\n",
    "        (512, (2, 2)),\n",
    "        *[(512, (1, 1)) for _ in range(5)],\n",
    "        (1024, (2, 2)),\n",
    "        (1024, (2, 2))\n",
    "    ]\n",
    "\n",
    "    for i, (channels, strides) in enumerate(layers):\n",
    "        x = get_dw_sep_block(x, channels, strides, alpha=alpha, name='block{}'.format(i))\n",
    "\n",
    "    if include_top:\n",
    "        x = GlobalAvgPool2D(name='global_avg')(x)\n",
    "        x = Dense(num_classes, activation='softmax', name='softmax')(x)\n",
    "\n",
    "    model = Model(inputs=x_in, outputs=x)\n",
    "\n",
    "    if weights is not None:\n",
    "        model.load_weights(weights, by_name=True)\n",
    "\n",
    "    return model"
   ]
  },
  {
   "cell_type": "code",
   "execution_count": null,
   "metadata": {},
   "outputs": [],
   "source": [
    "mobilenetv1= MobileNet(shape=(224,224,3) , num_classes= 100, alpha=1.0, include_top=True, weights=None)"
   ]
  },
  {
   "cell_type": "code",
   "execution_count": null,
   "metadata": {},
   "outputs": [],
   "source": [
    "mobilenetv1.summary()"
   ]
  },
  {
   "cell_type": "code",
   "execution_count": null,
   "metadata": {},
   "outputs": [],
   "source": []
  }
 ],
 "metadata": {
  "kernelspec": {
   "display_name": "Python 3",
   "language": "python",
   "name": "python3"
  },
  "language_info": {
   "codemirror_mode": {
    "name": "ipython",
    "version": 3
   },
   "file_extension": ".py",
   "mimetype": "text/x-python",
   "name": "python",
   "nbconvert_exporter": "python",
   "pygments_lexer": "ipython3",
   "version": "3.6.9"
  }
 },
 "nbformat": 4,
 "nbformat_minor": 4
}
