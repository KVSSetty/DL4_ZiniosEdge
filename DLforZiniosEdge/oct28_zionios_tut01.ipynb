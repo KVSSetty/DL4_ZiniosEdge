{
 "cells": [
  {
   "cell_type": "markdown",
   "metadata": {},
   "source": [
    "# Todays's topic"
   ]
  },
  {
   "cell_type": "markdown",
   "metadata": {},
   "source": [
    "this is **interesting** topic"
   ]
  },
  {
   "cell_type": "code",
   "execution_count": 1,
   "metadata": {},
   "outputs": [
    {
     "data": {
      "text/plain": [
       "'2.0.0'"
      ]
     },
     "execution_count": 1,
     "metadata": {},
     "output_type": "execute_result"
    }
   ],
   "source": [
    "import tensorflow as tf\n",
    "tf.__version__\n"
   ]
  },
  {
   "cell_type": "code",
   "execution_count": 2,
   "metadata": {},
   "outputs": [],
   "source": [
    "from tensorflow import keras\n",
    "from tensorflow.keras import layers"
   ]
  },
  {
   "cell_type": "code",
   "execution_count": 3,
   "metadata": {},
   "outputs": [],
   "source": [
    "my_model = keras.models.Sequential()"
   ]
  },
  {
   "cell_type": "code",
   "execution_count": 4,
   "metadata": {},
   "outputs": [],
   "source": [
    "my_model.add(keras.layers.Dense(12, activation=\"relu\",input_dim=(24,)))\n",
    "my_model.add(keras.layers.Dense(6, activation=\"relu\"))\n",
    "my_model.add(keras.layers.Dense(1, activation=\"linear\"))"
   ]
  },
  {
   "cell_type": "code",
   "execution_count": 5,
   "metadata": {},
   "outputs": [
    {
     "name": "stdout",
     "output_type": "stream",
     "text": [
      "Model: \"sequential\"\n",
      "_________________________________________________________________\n",
      "Layer (type)                 Output Shape              Param #   \n",
      "=================================================================\n",
      "dense (Dense)                (None, 12)                300       \n",
      "_________________________________________________________________\n",
      "dense_1 (Dense)              (None, 6)                 78        \n",
      "_________________________________________________________________\n",
      "dense_2 (Dense)              (None, 1)                 7         \n",
      "=================================================================\n",
      "Total params: 385\n",
      "Trainable params: 385\n",
      "Non-trainable params: 0\n",
      "_________________________________________________________________\n"
     ]
    }
   ],
   "source": [
    "my_model.summary()"
   ]
  },
  {
   "cell_type": "code",
   "execution_count": 6,
   "metadata": {},
   "outputs": [],
   "source": [
    "optimizer = tf.keras.optimizers.RMSprop(0.001)\n",
    "\n",
    "my_model.compile(loss='mse',\n",
    "                optimizer=optimizer,\n",
    "                metrics=['mae', 'mse'])"
   ]
  },
  {
   "cell_type": "code",
   "execution_count": 7,
   "metadata": {},
   "outputs": [],
   "source": [
    "from tensorflow.keras import layers"
   ]
  },
  {
   "cell_type": "code",
   "execution_count": 8,
   "metadata": {},
   "outputs": [],
   "source": [
    "layer_0 = my_model.layers[0]"
   ]
  },
  {
   "cell_type": "code",
   "execution_count": 9,
   "metadata": {},
   "outputs": [
    {
     "data": {
      "text/plain": [
       "{'name': 'dense',\n",
       " 'trainable': True,\n",
       " 'batch_input_shape': (None, 24),\n",
       " 'dtype': 'float32',\n",
       " 'units': 12,\n",
       " 'activation': 'relu',\n",
       " 'use_bias': True,\n",
       " 'kernel_initializer': {'class_name': 'GlorotUniform',\n",
       "  'config': {'seed': None}},\n",
       " 'bias_initializer': {'class_name': 'Zeros', 'config': {}},\n",
       " 'kernel_regularizer': None,\n",
       " 'bias_regularizer': None,\n",
       " 'activity_regularizer': None,\n",
       " 'kernel_constraint': None,\n",
       " 'bias_constraint': None}"
      ]
     },
     "execution_count": 9,
     "metadata": {},
     "output_type": "execute_result"
    }
   ],
   "source": [
    "config_layer_0 =layer_0.get_config()\n",
    "config_layer_0"
   ]
  },
  {
   "cell_type": "code",
   "execution_count": 10,
   "metadata": {},
   "outputs": [],
   "source": [
    "layer_1 = my_model.layers[1]"
   ]
  },
  {
   "cell_type": "code",
   "execution_count": 11,
   "metadata": {},
   "outputs": [
    {
     "data": {
      "text/plain": [
       "{'name': 'dense_1',\n",
       " 'trainable': True,\n",
       " 'dtype': 'float32',\n",
       " 'units': 6,\n",
       " 'activation': 'relu',\n",
       " 'use_bias': True,\n",
       " 'kernel_initializer': {'class_name': 'GlorotUniform',\n",
       "  'config': {'seed': None}},\n",
       " 'bias_initializer': {'class_name': 'Zeros', 'config': {}},\n",
       " 'kernel_regularizer': None,\n",
       " 'bias_regularizer': None,\n",
       " 'activity_regularizer': None,\n",
       " 'kernel_constraint': None,\n",
       " 'bias_constraint': None}"
      ]
     },
     "execution_count": 11,
     "metadata": {},
     "output_type": "execute_result"
    }
   ],
   "source": [
    "config_layer_1 = layer_1.get_config()\n",
    "config_layer_1"
   ]
  },
  {
   "cell_type": "code",
   "execution_count": 12,
   "metadata": {},
   "outputs": [],
   "source": [
    "layer_2 = my_model.layers[2]"
   ]
  },
  {
   "cell_type": "code",
   "execution_count": 13,
   "metadata": {},
   "outputs": [
    {
     "data": {
      "text/plain": [
       "{'name': 'dense_2',\n",
       " 'trainable': True,\n",
       " 'dtype': 'float32',\n",
       " 'units': 1,\n",
       " 'activation': 'linear',\n",
       " 'use_bias': True,\n",
       " 'kernel_initializer': {'class_name': 'GlorotUniform',\n",
       "  'config': {'seed': None}},\n",
       " 'bias_initializer': {'class_name': 'Zeros', 'config': {}},\n",
       " 'kernel_regularizer': None,\n",
       " 'bias_regularizer': None,\n",
       " 'activity_regularizer': None,\n",
       " 'kernel_constraint': None,\n",
       " 'bias_constraint': None}"
      ]
     },
     "execution_count": 13,
     "metadata": {},
     "output_type": "execute_result"
    }
   ],
   "source": [
    "config_layer_2 = layer_2.get_config()\n",
    "config_layer_2"
   ]
  },
  {
   "cell_type": "code",
   "execution_count": 14,
   "metadata": {},
   "outputs": [
    {
     "data": {
      "text/plain": [
       "(None, 24)"
      ]
     },
     "execution_count": 14,
     "metadata": {},
     "output_type": "execute_result"
    }
   ],
   "source": [
    "layer_0.input_shape"
   ]
  },
  {
   "cell_type": "code",
   "execution_count": 15,
   "metadata": {},
   "outputs": [
    {
     "data": {
      "text/plain": [
       "(None, 12)"
      ]
     },
     "execution_count": 15,
     "metadata": {},
     "output_type": "execute_result"
    }
   ],
   "source": [
    "layer_1.input_shape"
   ]
  },
  {
   "cell_type": "code",
   "execution_count": 16,
   "metadata": {},
   "outputs": [
    {
     "data": {
      "text/plain": [
       "(None, 6)"
      ]
     },
     "execution_count": 16,
     "metadata": {},
     "output_type": "execute_result"
    }
   ],
   "source": [
    "layer_2.input_shape"
   ]
  },
  {
   "cell_type": "code",
   "execution_count": 17,
   "metadata": {},
   "outputs": [
    {
     "data": {
      "text/plain": [
       "(None, 12)"
      ]
     },
     "execution_count": 17,
     "metadata": {},
     "output_type": "execute_result"
    }
   ],
   "source": [
    "layer_0.output_shape"
   ]
  },
  {
   "cell_type": "code",
   "execution_count": 19,
   "metadata": {},
   "outputs": [
    {
     "data": {
      "text/plain": [
       "(None, 6)"
      ]
     },
     "execution_count": 19,
     "metadata": {},
     "output_type": "execute_result"
    }
   ],
   "source": [
    "layer_1.output_shape"
   ]
  },
  {
   "cell_type": "code",
   "execution_count": 20,
   "metadata": {},
   "outputs": [
    {
     "data": {
      "text/plain": [
       "(None, 1)"
      ]
     },
     "execution_count": 20,
     "metadata": {},
     "output_type": "execute_result"
    }
   ],
   "source": [
    "layer_2.output_shape"
   ]
  },
  {
   "cell_type": "code",
   "execution_count": 21,
   "metadata": {},
   "outputs": [
    {
     "data": {
      "text/plain": [
       "<tf.Tensor 'dense_1/Identity:0' shape=(None, 6) dtype=float32>"
      ]
     },
     "execution_count": 21,
     "metadata": {},
     "output_type": "execute_result"
    }
   ],
   "source": [
    "layer_2.input"
   ]
  },
  {
   "cell_type": "code",
   "execution_count": 22,
   "metadata": {},
   "outputs": [
    {
     "data": {
      "text/plain": [
       "<tf.Tensor 'dense_2/Identity:0' shape=(None, 1) dtype=float32>"
      ]
     },
     "execution_count": 22,
     "metadata": {},
     "output_type": "execute_result"
    }
   ],
   "source": [
    "layer_2.output"
   ]
  },
  {
   "cell_type": "code",
   "execution_count": 24,
   "metadata": {},
   "outputs": [
    {
     "data": {
      "text/plain": [
       "[array([[-0.74474645],\n",
       "        [ 0.30278873],\n",
       "        [ 0.8781209 ],\n",
       "        [-0.7665522 ],\n",
       "        [ 0.4530815 ],\n",
       "        [ 0.357481  ]], dtype=float32), array([0.], dtype=float32)]"
      ]
     },
     "execution_count": 24,
     "metadata": {},
     "output_type": "execute_result"
    }
   ],
   "source": [
    "layer_2_weights = layer_2.get_weights()\n",
    "layer_2_weights"
   ]
  },
  {
   "cell_type": "code",
   "execution_count": 25,
   "metadata": {},
   "outputs": [
    {
     "data": {
      "text/plain": [
       "[array([[-0.0062803 , -0.08553827, -0.5436658 ,  0.48207486, -0.5553156 ,\n",
       "         -0.33190966],\n",
       "        [-0.26703927, -0.00802463, -0.5112494 ,  0.5709641 ,  0.26891172,\n",
       "          0.49503016],\n",
       "        [ 0.01250726,  0.2635684 , -0.52974844,  0.34922642, -0.5030556 ,\n",
       "         -0.46250704],\n",
       "        [-0.41676202, -0.08415297, -0.00682998, -0.33485222, -0.11658368,\n",
       "         -0.39341503],\n",
       "        [-0.5034953 ,  0.00818002, -0.20164788, -0.15895611, -0.49438357,\n",
       "         -0.09708238],\n",
       "        [-0.4823109 ,  0.5057292 , -0.34779018,  0.04617161, -0.24864951,\n",
       "          0.4415661 ],\n",
       "        [-0.30871615, -0.43919295,  0.10890275,  0.5318291 ,  0.04599762,\n",
       "          0.0926587 ],\n",
       "        [ 0.18046159, -0.5611063 ,  0.0028652 , -0.45552304, -0.5462622 ,\n",
       "         -0.30386767],\n",
       "        [ 0.05215472, -0.44934553, -0.567778  ,  0.06979322, -0.34432358,\n",
       "         -0.5369125 ],\n",
       "        [ 0.33150578, -0.38661247, -0.43479788,  0.32579702,  0.09543085,\n",
       "         -0.38185072],\n",
       "        [-0.10332197, -0.33572865, -0.40026027,  0.06144547,  0.38660228,\n",
       "         -0.25121245],\n",
       "        [ 0.4448154 ,  0.28004122, -0.17568895,  0.41714525,  0.5750406 ,\n",
       "         -0.20884883]], dtype=float32),\n",
       " array([0., 0., 0., 0., 0., 0.], dtype=float32)]"
      ]
     },
     "execution_count": 25,
     "metadata": {},
     "output_type": "execute_result"
    }
   ],
   "source": [
    "layer_1_weights = layer_1.get_weights()\n",
    "layer_1_weights"
   ]
  },
  {
   "cell_type": "code",
   "execution_count": null,
   "metadata": {},
   "outputs": [],
   "source": []
  },
  {
   "cell_type": "code",
   "execution_count": 27,
   "metadata": {},
   "outputs": [
    {
     "data": {
      "text/plain": [
       "[array([[-0.04271153, -0.38907808,  0.36964154, -0.08837196, -0.19920693,\n",
       "         -0.05959955,  0.11597031,  0.1608659 , -0.00067344,  0.14578158,\n",
       "         -0.25512588, -0.23131138],\n",
       "        [ 0.38434124,  0.08339196, -0.19207634,  0.22413522,  0.20229554,\n",
       "          0.3410567 , -0.35305205, -0.06355909,  0.14383245,  0.11531645,\n",
       "         -0.39085385,  0.3946342 ],\n",
       "        [ 0.35482734,  0.28602487,  0.23474997,  0.35116428,  0.02767751,\n",
       "         -0.13084579,  0.22694302, -0.3378626 , -0.01108253,  0.32938576,\n",
       "          0.28267902,  0.39062327],\n",
       "        [ 0.32787633,  0.13147253, -0.17911156, -0.01211116, -0.20686546,\n",
       "         -0.2779035 , -0.0261915 ,  0.14007372,  0.05200759,  0.1317895 ,\n",
       "         -0.20962246,  0.26055175],\n",
       "        [ 0.3961835 , -0.34676078,  0.04752165, -0.18824889,  0.26368797,\n",
       "          0.08233258, -0.3024775 ,  0.26106948,  0.23799998,  0.38830245,\n",
       "          0.10451537, -0.2214208 ],\n",
       "        [ 0.07656145, -0.2562688 ,  0.27551132,  0.34917563, -0.32541484,\n",
       "          0.11198217, -0.08996034,  0.10076004, -0.3867804 ,  0.01567876,\n",
       "         -0.04603049, -0.14488202],\n",
       "        [-0.12076062,  0.37886173, -0.09006596,  0.36262357,  0.26845646,\n",
       "         -0.3831448 , -0.02288282, -0.40450776, -0.13243574, -0.1219548 ,\n",
       "         -0.29103395,  0.12447715],\n",
       "        [ 0.22451252, -0.400881  , -0.16504203,  0.3179165 ,  0.31646013,\n",
       "         -0.25222993, -0.16584893, -0.38879544, -0.39450037,  0.24367505,\n",
       "         -0.0454506 , -0.02706954],\n",
       "        [-0.21216987, -0.08070797,  0.05330992, -0.2510653 , -0.20623699,\n",
       "         -0.36311978, -0.14049655, -0.12245306,  0.21102756,  0.10161179,\n",
       "          0.32780528, -0.15883641],\n",
       "        [ 0.2888258 ,  0.17644608,  0.05995998, -0.38348168,  0.40514547,\n",
       "         -0.21712437,  0.12876582,  0.12397146,  0.26211888, -0.18400756,\n",
       "         -0.02122203,  0.06283981],\n",
       "        [-0.16475703,  0.4042036 , -0.34593013,  0.28692132, -0.2918293 ,\n",
       "          0.3228175 , -0.34795234,  0.03665772, -0.00773153,  0.12362915,\n",
       "         -0.11963671,  0.25837725],\n",
       "        [-0.17861457, -0.29564068,  0.26172376,  0.07871604, -0.01295632,\n",
       "         -0.22641587, -0.03553927,  0.21299559,  0.16967368,  0.31439131,\n",
       "          0.2644602 ,  0.29300946],\n",
       "        [-0.2423329 ,  0.12832737,  0.3142025 ,  0.22112244, -0.30188844,\n",
       "         -0.23820525,  0.12462407, -0.21199682,  0.37789565,  0.12690806,\n",
       "          0.2966553 ,  0.04841986],\n",
       "        [-0.258452  ,  0.32263327,  0.19700855,  0.09241921,  0.20729268,\n",
       "          0.38178706,  0.1558581 ,  0.00544584, -0.19826397, -0.33353388,\n",
       "          0.05468136,  0.15629864],\n",
       "        [-0.0092628 , -0.11254552,  0.00740886,  0.17878258,  0.31513494,\n",
       "          0.2902224 , -0.09619614, -0.3136099 ,  0.14657152, -0.04395455,\n",
       "         -0.23039985, -0.06029782],\n",
       "        [ 0.06944907,  0.01070702,  0.4047227 , -0.38588426,  0.1898576 ,\n",
       "          0.37617636, -0.21393143,  0.24800384, -0.18825394, -0.14322627,\n",
       "         -0.26138484, -0.27840906],\n",
       "        [ 0.21075863, -0.37833524, -0.19230129, -0.14359167, -0.25967938,\n",
       "          0.02271444, -0.21570174,  0.11827284, -0.25718546,  0.09339613,\n",
       "         -0.24954048,  0.19002318],\n",
       "        [-0.04674804,  0.40026408, -0.20493513,  0.07672906, -0.2954397 ,\n",
       "         -0.11176753,  0.33938402,  0.12951231,  0.09700847, -0.38561475,\n",
       "          0.09261584, -0.3190571 ],\n",
       "        [ 0.34434515, -0.20406438, -0.03775293,  0.22478443, -0.08641699,\n",
       "         -0.37516293, -0.25616628,  0.38036942,  0.3905812 ,  0.36252207,\n",
       "         -0.30400166, -0.4079052 ],\n",
       "        [ 0.1200611 , -0.11734837,  0.00735116, -0.10600644,  0.01973611,\n",
       "         -0.32233298, -0.16777837, -0.38228923, -0.4048564 ,  0.0575093 ,\n",
       "          0.39851558, -0.13845885],\n",
       "        [-0.31181076,  0.20843923, -0.20408882, -0.29562023, -0.32642925,\n",
       "         -0.34058046, -0.13150036, -0.36293057,  0.12801957,  0.38736075,\n",
       "         -0.36571676, -0.06724834],\n",
       "        [ 0.05276972,  0.26775467,  0.2719345 , -0.17629734,  0.10059273,\n",
       "          0.08558634, -0.35648406, -0.38542163,  0.3746683 , -0.16630845,\n",
       "         -0.03732905, -0.05058339],\n",
       "        [ 0.05157942, -0.05297208, -0.3421602 , -0.10892528,  0.14407766,\n",
       "          0.0374878 , -0.05905524, -0.18659216,  0.25297052, -0.01519266,\n",
       "         -0.15414044,  0.29496437],\n",
       "        [ 0.17465514,  0.02319527,  0.33962864,  0.3029098 , -0.38229185,\n",
       "         -0.23984125, -0.25670367,  0.26972485,  0.23374587, -0.30230543,\n",
       "         -0.3260266 , -0.30544573]], dtype=float32),\n",
       " array([0., 0., 0., 0., 0., 0., 0., 0., 0., 0., 0., 0.], dtype=float32)]"
      ]
     },
     "execution_count": 27,
     "metadata": {},
     "output_type": "execute_result"
    }
   ],
   "source": [
    "layer_0_weights = layer_0.get_weights()\n",
    "layer_0_weights"
   ]
  },
  {
   "cell_type": "code",
   "execution_count": 34,
   "metadata": {},
   "outputs": [
    {
     "data": {
      "text/plain": [
       "(24, 12)"
      ]
     },
     "execution_count": 34,
     "metadata": {},
     "output_type": "execute_result"
    }
   ],
   "source": [
    "import numpy as np\n",
    "layer0_matrix = np.array(layer_0_weights[0])\n",
    "layer0_matrix.shape"
   ]
  },
  {
   "cell_type": "code",
   "execution_count": 33,
   "metadata": {},
   "outputs": [
    {
     "data": {
      "text/plain": [
       "array([array([[-0.04271153, -0.38907808,  0.36964154, -0.08837196, -0.19920693,\n",
       "        -0.05959955,  0.11597031,  0.1608659 , -0.00067344,  0.14578158,\n",
       "        -0.25512588, -0.23131138],\n",
       "       [ 0.38434124,  0.08339196, -0.19207634,  0.22413522,  0.20229554,\n",
       "         0.3410567 , -0.35305205, -0.06355909,  0.14383245,  0.11531645,\n",
       "        -0.39085385,  0.3946342 ],\n",
       "       [ 0.35482734,  0.28602487,  0.23474997,  0.35116428,  0.02767751,\n",
       "        -0.13084579,  0.22694302, -0.3378626 , -0.01108253,  0.32938576,\n",
       "         0.28267902,  0.39062327],\n",
       "       [ 0.32787633,  0.13147253, -0.17911156, -0.01211116, -0.20686546,\n",
       "        -0.2779035 , -0.0261915 ,  0.14007372,  0.05200759,  0.1317895 ,\n",
       "        -0.20962246,  0.26055175],\n",
       "       [ 0.3961835 , -0.34676078,  0.04752165, -0.18824889,  0.26368797,\n",
       "         0.08233258, -0.3024775 ,  0.26106948,  0.23799998,  0.38830245,\n",
       "         0.10451537, -0.2214208 ],\n",
       "       [ 0.07656145, -0.2562688 ,  0.27551132,  0.34917563, -0.32541484,\n",
       "         0.11198217, -0.08996034,  0.10076004, -0.3867804 ,  0.01567876,\n",
       "        -0.04603049, -0.14488202],\n",
       "       [-0.12076062,  0.37886173, -0.09006596,  0.36262357,  0.26845646,\n",
       "        -0.3831448 , -0.02288282, -0.40450776, -0.13243574, -0.1219548 ,\n",
       "        -0.29103395,  0.12447715],\n",
       "       [ 0.22451252, -0.400881  , -0.16504203,  0.3179165 ,  0.31646013,\n",
       "        -0.25222993, -0.16584893, -0.38879544, -0.39450037,  0.24367505,\n",
       "        -0.0454506 , -0.02706954],\n",
       "       [-0.21216987, -0.08070797,  0.05330992, -0.2510653 , -0.20623699,\n",
       "        -0.36311978, -0.14049655, -0.12245306,  0.21102756,  0.10161179,\n",
       "         0.32780528, -0.15883641],\n",
       "       [ 0.2888258 ,  0.17644608,  0.05995998, -0.38348168,  0.40514547,\n",
       "        -0.21712437,  0.12876582,  0.12397146,  0.26211888, -0.18400756,\n",
       "        -0.02122203,  0.06283981],\n",
       "       [-0.16475703,  0.4042036 , -0.34593013,  0.28692132, -0.2918293 ,\n",
       "         0.3228175 , -0.34795234,  0.03665772, -0.00773153,  0.12362915,\n",
       "        -0.11963671,  0.25837725],\n",
       "       [-0.17861457, -0.29564068,  0.26172376,  0.07871604, -0.01295632,\n",
       "        -0.22641587, -0.03553927,  0.21299559,  0.16967368,  0.31439131,\n",
       "         0.2644602 ,  0.29300946],\n",
       "       [-0.2423329 ,  0.12832737,  0.3142025 ,  0.22112244, -0.30188844,\n",
       "        -0.23820525,  0.12462407, -0.21199682,  0.37789565,  0.12690806,\n",
       "         0.2966553 ,  0.04841986],\n",
       "       [-0.258452  ,  0.32263327,  0.19700855,  0.09241921,  0.20729268,\n",
       "         0.38178706,  0.1558581 ,  0.00544584, -0.19826397, -0.33353388,\n",
       "         0.05468136,  0.15629864],\n",
       "       [-0.0092628 , -0.11254552,  0.00740886,  0.17878258,  0.31513494,\n",
       "         0.2902224 , -0.09619614, -0.3136099 ,  0.14657152, -0.04395455,\n",
       "        -0.23039985, -0.06029782],\n",
       "       [ 0.06944907,  0.01070702,  0.4047227 , -0.38588426,  0.1898576 ,\n",
       "         0.37617636, -0.21393143,  0.24800384, -0.18825394, -0.14322627,\n",
       "        -0.26138484, -0.27840906],\n",
       "       [ 0.21075863, -0.37833524, -0.19230129, -0.14359167, -0.25967938,\n",
       "         0.02271444, -0.21570174,  0.11827284, -0.25718546,  0.09339613,\n",
       "        -0.24954048,  0.19002318],\n",
       "       [-0.04674804,  0.40026408, -0.20493513,  0.07672906, -0.2954397 ,\n",
       "        -0.11176753,  0.33938402,  0.12951231,  0.09700847, -0.38561475,\n",
       "         0.09261584, -0.3190571 ],\n",
       "       [ 0.34434515, -0.20406438, -0.03775293,  0.22478443, -0.08641699,\n",
       "        -0.37516293, -0.25616628,  0.38036942,  0.3905812 ,  0.36252207,\n",
       "        -0.30400166, -0.4079052 ],\n",
       "       [ 0.1200611 , -0.11734837,  0.00735116, -0.10600644,  0.01973611,\n",
       "        -0.32233298, -0.16777837, -0.38228923, -0.4048564 ,  0.0575093 ,\n",
       "         0.39851558, -0.13845885],\n",
       "       [-0.31181076,  0.20843923, -0.20408882, -0.29562023, -0.32642925,\n",
       "        -0.34058046, -0.13150036, -0.36293057,  0.12801957,  0.38736075,\n",
       "        -0.36571676, -0.06724834],\n",
       "       [ 0.05276972,  0.26775467,  0.2719345 , -0.17629734,  0.10059273,\n",
       "         0.08558634, -0.35648406, -0.38542163,  0.3746683 , -0.16630845,\n",
       "        -0.03732905, -0.05058339],\n",
       "       [ 0.05157942, -0.05297208, -0.3421602 , -0.10892528,  0.14407766,\n",
       "         0.0374878 , -0.05905524, -0.18659216,  0.25297052, -0.01519266,\n",
       "        -0.15414044,  0.29496437],\n",
       "       [ 0.17465514,  0.02319527,  0.33962864,  0.3029098 , -0.38229185,\n",
       "        -0.23984125, -0.25670367,  0.26972485,  0.23374587, -0.30230543,\n",
       "        -0.3260266 , -0.30544573]], dtype=float32)], dtype=object)"
      ]
     },
     "execution_count": 33,
     "metadata": {},
     "output_type": "execute_result"
    }
   ],
   "source": [
    "layer0_matrix[0:1]"
   ]
  },
  {
   "cell_type": "code",
   "execution_count": 37,
   "metadata": {},
   "outputs": [
    {
     "data": {
      "text/plain": [
       "(12, 6)"
      ]
     },
     "execution_count": 37,
     "metadata": {},
     "output_type": "execute_result"
    }
   ],
   "source": [
    "layer_1_matrix_size = layer_1_weights[0].shape\n",
    "layer_1_matrix_size"
   ]
  },
  {
   "cell_type": "code",
   "execution_count": 38,
   "metadata": {},
   "outputs": [
    {
     "data": {
      "text/plain": [
       "(6, 1)"
      ]
     },
     "execution_count": 38,
     "metadata": {},
     "output_type": "execute_result"
    }
   ],
   "source": [
    "layer_2_weights[0].shape"
   ]
  },
  {
   "cell_type": "code",
   "execution_count": 40,
   "metadata": {},
   "outputs": [
    {
     "data": {
      "text/plain": [
       "(12,)"
      ]
     },
     "execution_count": 40,
     "metadata": {},
     "output_type": "execute_result"
    }
   ],
   "source": [
    "layer_0_weights[1].shape"
   ]
  },
  {
   "cell_type": "code",
   "execution_count": 41,
   "metadata": {},
   "outputs": [
    {
     "data": {
      "text/plain": [
       "(6,)"
      ]
     },
     "execution_count": 41,
     "metadata": {},
     "output_type": "execute_result"
    }
   ],
   "source": [
    "layer_1_weights[1].shape"
   ]
  },
  {
   "cell_type": "code",
   "execution_count": 42,
   "metadata": {},
   "outputs": [
    {
     "data": {
      "text/plain": [
       "(1,)"
      ]
     },
     "execution_count": 42,
     "metadata": {},
     "output_type": "execute_result"
    }
   ],
   "source": [
    "layer_2_weights[1].shape"
   ]
  },
  {
   "cell_type": "code",
   "execution_count": null,
   "metadata": {},
   "outputs": [],
   "source": []
  }
 ],
 "metadata": {
  "kernelspec": {
   "display_name": "Python 3",
   "language": "python",
   "name": "python3"
  },
  "language_info": {
   "codemirror_mode": {
    "name": "ipython",
    "version": 3
   },
   "file_extension": ".py",
   "mimetype": "text/x-python",
   "name": "python",
   "nbconvert_exporter": "python",
   "pygments_lexer": "ipython3",
   "version": "3.6.9"
  }
 },
 "nbformat": 4,
 "nbformat_minor": 4
}
