{
 "cells": [
  {
   "cell_type": "markdown",
   "metadata": {},
   "source": [
    "## Building an Image Classifier for FashionMNIST data And TensorBoard Demo"
   ]
  },
  {
   "cell_type": "markdown",
   "metadata": {},
   "source": [
    "**MLPs are also known as SNNs,FNNs and FFNNs**"
   ]
  },
  {
   "cell_type": "code",
   "execution_count": 1,
   "metadata": {},
   "outputs": [],
   "source": [
    "import tensorflow as tf\n",
    "from tensorflow import keras\n",
    "\n",
    "import numpy as np\n",
    "import pandas as pd\n",
    "\n",
    "%matplotlib inline\n",
    "import matplotlib.pyplot as plt"
   ]
  },
  {
   "cell_type": "markdown",
   "metadata": {},
   "source": [
    "### Get the Data.... "
   ]
  },
  {
   "cell_type": "markdown",
   "metadata": {},
   "source": [
    "Let's start by loading the fashion MNIST dataset. Keras has a number of functions to load popular datasets in keras.datasets. The dataset is already split for you between a training set and a test set, but it can be useful to split the training set further to have a validation set or mentioning the `validation_ratio` argument in the `fit()` method."
   ]
  },
  {
   "cell_type": "code",
   "execution_count": 2,
   "metadata": {},
   "outputs": [],
   "source": [
    "fashion_mnist = keras.datasets.fashion_mnist\n",
    "(X_train, y_train), (X_test, y_test) = fashion_mnist.load_data()"
   ]
  },
  {
   "cell_type": "code",
   "execution_count": 3,
   "metadata": {},
   "outputs": [],
   "source": [
    "class_names = [\"T-shirt/top\", \"Trouser\", \"Pullover\", \"Dress\", \"Coat\",\n",
    "               \"Sandal\", \"Shirt\", \"Sneaker\", \"Bag\", \"Ankle boot\"]"
   ]
  },
  {
   "cell_type": "markdown",
   "metadata": {},
   "source": [
    "And the class of 1025th image in train set is:"
   ]
  },
  {
   "cell_type": "code",
   "execution_count": 4,
   "metadata": {},
   "outputs": [
    {
     "data": {
      "text/plain": [
       "'Trouser'"
      ]
     },
     "execution_count": 4,
     "metadata": {},
     "output_type": "execute_result"
    }
   ],
   "source": [
    "class_names[y_train[1024]]"
   ]
  },
  {
   "cell_type": "markdown",
   "metadata": {},
   "source": [
    "Let us display and see the image for that:\n",
    "You can plot an image using Matplotlib's imshow() function, with a 'binary' color map:"
   ]
  },
  {
   "cell_type": "code",
   "execution_count": 5,
   "metadata": {},
   "outputs": [
    {
     "data": {
      "image/png": "[encoded data removed]",
      "text/plain": [
       "<Figure size 432x288 with 1 Axes>"
      ]
     },
     "metadata": {
      "needs_background": "light"
     },
     "output_type": "display_data"
    }
   ],
   "source": [
    "plt.imshow(X_train[1024], cmap=\"binary\")\n",
    "plt.axis('off')\n",
    "plt.show()"
   ]
  },
  {
   "cell_type": "markdown",
   "metadata": {},
   "source": [
    "### Build A Model"
   ]
  },
  {
   "cell_type": "code",
   "execution_count": 6,
   "metadata": {},
   "outputs": [],
   "source": [
    "model = keras.models.Sequential([\n",
    "    keras.layers.Flatten(input_shape=[28, 28]),\n",
    "    keras.layers.Dense(300, activation=\"relu\"),\n",
    "    keras.layers.Dense(100, activation=\"relu\"),\n",
    "    keras.layers.Dense(10, activation=\"softmax\")\n",
    "])"
   ]
  },
  {
   "cell_type": "markdown",
   "metadata": {},
   "source": [
    "### Compiling the model"
   ]
  },
  {
   "cell_type": "markdown",
   "metadata": {},
   "source": [
    "After a model is created you must call its `compile()`method to specify the **loss function** and **optimizer** to use.\n",
    "\n",
    "Optionally, you can specify a ***list*** of of extra metrics to compute during training and evaluation like this:"
   ]
  },
  {
   "cell_type": "code",
   "execution_count": 7,
   "metadata": {},
   "outputs": [],
   "source": [
    "model.compile(loss=\"sparse_categorical_crossentropy\",\n",
    "              optimizer=\"sgd\",\n",
    "              metrics=[\"accuracy\"])"
   ]
  },
  {
   "cell_type": "markdown",
   "metadata": {},
   "source": [
    "### TensorBoard"
   ]
  },
  {
   "cell_type": "code",
   "execution_count": 8,
   "metadata": {},
   "outputs": [],
   "source": [
    "import os\n",
    "root_logdir = os.path.join(os.curdir, \"my_logs\")"
   ]
  },
  {
   "cell_type": "code",
   "execution_count": 9,
   "metadata": {},
   "outputs": [
    {
     "data": {
      "text/plain": [
       "'.\\\\my_logs\\\\run_2019_11_05-16_09_17'"
      ]
     },
     "execution_count": 9,
     "metadata": {},
     "output_type": "execute_result"
    }
   ],
   "source": [
    "def get_run_logdir():\n",
    "    import time\n",
    "    run_id = time.strftime(\"run_%Y_%m_%d-%H_%M_%S\")\n",
    "    return os.path.join(root_logdir, run_id)\n",
    "\n",
    "run_logdir = get_run_logdir()\n",
    "run_logdir"
   ]
  },
  {
   "cell_type": "code",
   "execution_count": 10,
   "metadata": {},
   "outputs": [],
   "source": [
    "keras.backend.clear_session()\n",
    "np.random.seed(42)\n",
    "tf.random.set_seed(42)"
   ]
  },
  {
   "cell_type": "code",
   "execution_count": 11,
   "metadata": {},
   "outputs": [],
   "source": [
    "checkpoint_cb = keras.callbacks.ModelCheckpoint(\"my_kera_model_03.h5\", save_best_only=True)"
   ]
  },
  {
   "cell_type": "code",
   "execution_count": 12,
   "metadata": {},
   "outputs": [],
   "source": [
    "early_stopping_cb = keras.callbacks.EarlyStopping(patience=10, restore_best_weights=True)"
   ]
  },
  {
   "cell_type": "code",
   "execution_count": 16,
   "metadata": {},
   "outputs": [],
   "source": [
    "tensorboard_cb = keras.callbacks.TensorBoard(run_logdir,histogram_freq=5)\n"
   ]
  },
  {
   "cell_type": "code",
   "execution_count": 17,
   "metadata": {},
   "outputs": [
    {
     "name": "stdout",
     "output_type": "stream",
     "text": [
      "Train on 54000 samples, validate on 6000 samples\n",
      "Epoch 1/30\n",
      "54000/54000 [==============================] - 5s 85us/sample - loss: 2.3027 - accuracy: 0.0993 - val_loss: 2.3136 - val_accuracy: 0.1003\n",
      "Epoch 2/30\n",
      "54000/54000 [==============================] - 5s 86us/sample - loss: 2.3027 - accuracy: 0.0978 - val_loss: 2.3137 - val_accuracy: 0.0942\n",
      "Epoch 3/30\n",
      "54000/54000 [==============================] - 4s 82us/sample - loss: 2.3027 - accuracy: 0.0995 - val_loss: 2.3137 - val_accuracy: 0.0925\n",
      "Epoch 4/30\n",
      "54000/54000 [==============================] - 4s 83us/sample - loss: 2.3027 - accuracy: 0.0990 - val_loss: 2.3137 - val_accuracy: 0.0942\n",
      "Epoch 5/30\n",
      "54000/54000 [==============================] - 4s 81us/sample - loss: 2.3027 - accuracy: 0.0981 - val_loss: 2.3138 - val_accuracy: 0.0942\n",
      "Epoch 6/30\n",
      "54000/54000 [==============================] - 4s 82us/sample - loss: 2.3027 - accuracy: 0.1004 - val_loss: 2.3137 - val_accuracy: 0.0942\n",
      "Epoch 7/30\n",
      "54000/54000 [==============================] - 4s 83us/sample - loss: 2.3027 - accuracy: 0.0976 - val_loss: 2.3136 - val_accuracy: 0.0973\n",
      "Epoch 8/30\n",
      "54000/54000 [==============================] - 4s 79us/sample - loss: 2.3027 - accuracy: 0.0970 - val_loss: 2.3138 - val_accuracy: 0.0942\n",
      "Epoch 9/30\n",
      "54000/54000 [==============================] - 4s 80us/sample - loss: 2.3027 - accuracy: 0.0996 - val_loss: 2.3137 - val_accuracy: 0.0925\n",
      "Epoch 10/30\n",
      "54000/54000 [==============================] - 4s 82us/sample - loss: 2.3027 - accuracy: 0.0991 - val_loss: 2.3137 - val_accuracy: 0.0942\n",
      "Epoch 11/30\n",
      "54000/54000 [==============================] - 5s 83us/sample - loss: 2.3027 - accuracy: 0.0988 - val_loss: 2.3136 - val_accuracy: 0.0973\n",
      "Epoch 12/30\n",
      "54000/54000 [==============================] - 4s 83us/sample - loss: 2.3027 - accuracy: 0.0986 - val_loss: 2.3137 - val_accuracy: 0.0925\n",
      "Epoch 13/30\n",
      "54000/54000 [==============================] - 4s 83us/sample - loss: 2.3027 - accuracy: 0.0990 - val_loss: 2.3135 - val_accuracy: 0.0925\n",
      "Epoch 14/30\n",
      "54000/54000 [==============================] - 4s 83us/sample - loss: 2.3027 - accuracy: 0.0993 - val_loss: 2.3136 - val_accuracy: 0.0925\n",
      "Epoch 15/30\n",
      "54000/54000 [==============================] - 5s 84us/sample - loss: 2.3027 - accuracy: 0.0984 - val_loss: 2.3137 - val_accuracy: 0.0973\n",
      "Epoch 16/30\n",
      "54000/54000 [==============================] - 4s 83us/sample - loss: 2.3027 - accuracy: 0.0981 - val_loss: 2.3137 - val_accuracy: 0.0983\n",
      "Epoch 17/30\n",
      "54000/54000 [==============================] - 5s 85us/sample - loss: 2.3027 - accuracy: 0.0992 - val_loss: 2.3137 - val_accuracy: 0.0942\n",
      "Epoch 18/30\n",
      "54000/54000 [==============================] - 5s 84us/sample - loss: 2.3027 - accuracy: 0.0988 - val_loss: 2.3137 - val_accuracy: 0.0925\n",
      "Epoch 19/30\n",
      "54000/54000 [==============================] - 5s 87us/sample - loss: 2.3027 - accuracy: 0.0978 - val_loss: 2.3137 - val_accuracy: 0.0942\n",
      "Epoch 20/30\n",
      "54000/54000 [==============================] - 5s 87us/sample - loss: 2.3027 - accuracy: 0.0985 - val_loss: 2.3136 - val_accuracy: 0.0925\n",
      "Epoch 21/30\n",
      "54000/54000 [==============================] - 5s 86us/sample - loss: 2.3027 - accuracy: 0.0991 - val_loss: 2.3136 - val_accuracy: 0.0983\n",
      "Epoch 22/30\n",
      "54000/54000 [==============================] - 5s 84us/sample - loss: 2.3027 - accuracy: 0.0985 - val_loss: 2.3137 - val_accuracy: 0.0942\n",
      "Epoch 23/30\n",
      "54000/54000 [==============================] - 5s 85us/sample - loss: 2.3027 - accuracy: 0.0993 - val_loss: 2.3137 - val_accuracy: 0.0942\n"
     ]
    }
   ],
   "source": [
    "history = model.fit(X_train, y_train, epochs=30,\n",
    "                    validation_split=0.1,\n",
    "                    callbacks=[checkpoint_cb, early_stopping_cb, tensorboard_cb])"
   ]
  },
  {
   "cell_type": "code",
   "execution_count": 18,
   "metadata": {},
   "outputs": [
    {
     "data": {
      "text/plain": [
       "Reusing TensorBoard on port 6007 (pid 9696), started 0:24:48 ago. (Use '!kill 9696' to kill it.)"
      ]
     },
     "metadata": {},
     "output_type": "display_data"
    },
    {
     "data": {
      "text/html": [
       "\n",
       "      <iframe id=\"tensorboard-frame-13c49c4363b98590\" width=\"100%\" height=\"800\" frameborder=\"0\">\n",
       "      </iframe>\n",
       "      <script>\n",
       "        (function() {\n",
       "          const frame = document.getElementById(\"tensorboard-frame-13c49c4363b98590\");\n",
       "          const url = new URL(\"/\", window.location);\n",
       "          url.port = 6007;\n",
       "          frame.src = url;\n",
       "        })();\n",
       "      </script>\n",
       "  "
      ],
      "text/plain": [
       "<IPython.core.display.HTML object>"
      ]
     },
     "metadata": {},
     "output_type": "display_data"
    }
   ],
   "source": [
    "%reload_ext tensorboard\n",
    "%tensorboard --logdir=./my_logs --port=6007"
   ]
  },
  {
   "cell_type": "code",
   "execution_count": null,
   "metadata": {},
   "outputs": [],
   "source": []
  }
 ],
 "metadata": {
  "kernelspec": {
   "display_name": "Python 3",
   "language": "python",
   "name": "python3"
  },
  "language_info": {
   "codemirror_mode": {
    "name": "ipython",
    "version": 3
   },
   "file_extension": ".py",
   "mimetype": "text/x-python",
   "name": "python",
   "nbconvert_exporter": "python",
   "pygments_lexer": "ipython3",
   "version": "3.6.9"
  }
 },
 "nbformat": 4,
 "nbformat_minor": 4
}
