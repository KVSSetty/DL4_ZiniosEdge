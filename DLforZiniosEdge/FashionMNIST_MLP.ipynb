{
 "cells": [
  {
   "cell_type": "markdown",
   "metadata": {},
   "source": [
    "## Building an Image Classifier Using MLP "
   ]
  },
  {
   "cell_type": "markdown",
   "metadata": {},
   "source": [
    "**MLPs are also known as SNNs,FNNs and FFNNs**"
   ]
  },
  {
   "cell_type": "markdown",
   "metadata": {},
   "source": [
    "Let us import the requried libraries"
   ]
  },
  {
   "cell_type": "code",
   "execution_count": 1,
   "metadata": {
    "collapsed": true,
    "jupyter": {
     "outputs_hidden": true
    }
   },
   "outputs": [],
   "source": [
    "import tensorflow as tf\n",
    "from tensorflow import keras\n",
    "\n",
    "import numpy as np\n",
    "import pandas as pd\n",
    "\n",
    "%matplotlib inline\n",
    "import matplotlib.pyplot as plt"
   ]
  },
  {
   "cell_type": "code",
   "execution_count": 2,
   "metadata": {
    "collapsed": true,
    "jupyter": {
     "outputs_hidden": true
    }
   },
   "outputs": [
    {
     "data": {
      "text/plain": [
       "'2.0.0'"
      ]
     },
     "execution_count": 2,
     "metadata": {},
     "output_type": "execute_result"
    }
   ],
   "source": [
    "tf.__version__"
   ]
  },
  {
   "cell_type": "code",
   "execution_count": 3,
   "metadata": {
    "collapsed": true,
    "jupyter": {
     "outputs_hidden": true
    }
   },
   "outputs": [
    {
     "data": {
      "text/plain": [
       "'2.2.4-tf'"
      ]
     },
     "execution_count": 3,
     "metadata": {},
     "output_type": "execute_result"
    }
   ],
   "source": [
    "keras.__version__"
   ]
  },
  {
   "cell_type": "markdown",
   "metadata": {},
   "source": [
    "### Get the Data.... "
   ]
  },
  {
   "cell_type": "markdown",
   "metadata": {},
   "source": [
    "Let's start by loading the fashion MNIST dataset. Keras has a number of functions to load popular datasets in keras.datasets. The dataset is already split for you between a training set and a test set, but it can be useful to split the training set further to have a validation set:"
   ]
  },
  {
   "cell_type": "code",
   "execution_count": 4,
   "metadata": {
    "collapsed": true,
    "jupyter": {
     "outputs_hidden": true
    }
   },
   "outputs": [],
   "source": [
    "fashion_mnist = keras.datasets.fashion_mnist\n",
    "(X_train_full, y_train_full), (X_test, y_test) = fashion_mnist.load_data()"
   ]
  },
  {
   "cell_type": "markdown",
   "metadata": {},
   "source": [
    "The training set contains 60,000 grayscale images, each 28x28 pixels:"
   ]
  },
  {
   "cell_type": "code",
   "execution_count": 5,
   "metadata": {
    "collapsed": true,
    "jupyter": {
     "outputs_hidden": true
    }
   },
   "outputs": [
    {
     "data": {
      "text/plain": [
       "(60000, 28, 28)"
      ]
     },
     "execution_count": 5,
     "metadata": {},
     "output_type": "execute_result"
    }
   ],
   "source": [
    "X_train_full.shape"
   ]
  },
  {
   "cell_type": "code",
   "execution_count": 6,
   "metadata": {
    "collapsed": true,
    "jupyter": {
     "outputs_hidden": true
    }
   },
   "outputs": [
    {
     "data": {
      "text/plain": [
       "3"
      ]
     },
     "execution_count": 6,
     "metadata": {},
     "output_type": "execute_result"
    }
   ],
   "source": [
    "X_train_full.ndim"
   ]
  },
  {
   "cell_type": "markdown",
   "metadata": {},
   "source": [
    "Note: `ndim` of an N-dimentional array is also called rank of the array or axes of the array. Do not get confused ndim/rank/axes of an Ndimentional tensor with the number of dimentions in a n-dimentional vector space"
   ]
  },
  {
   "cell_type": "markdown",
   "metadata": {},
   "source": [
    "Each pixel intensity is represented as a byte (0 to 255):"
   ]
  },
  {
   "cell_type": "code",
   "execution_count": 7,
   "metadata": {
    "collapsed": true,
    "jupyter": {
     "outputs_hidden": true
    }
   },
   "outputs": [
    {
     "data": {
      "text/plain": [
       "dtype('uint8')"
      ]
     },
     "execution_count": 7,
     "metadata": {},
     "output_type": "execute_result"
    }
   ],
   "source": [
    "X_train_full.dtype"
   ]
  },
  {
   "cell_type": "markdown",
   "metadata": {},
   "source": [
    "Let's split the full training set into a smaller validation set and a training set. We also scale the pixel intensities down to the 0-1 range and convert them to floats, by dividing by 255.0"
   ]
  },
  {
   "cell_type": "code",
   "execution_count": 8,
   "metadata": {
    "collapsed": true,
    "jupyter": {
     "outputs_hidden": true
    }
   },
   "outputs": [],
   "source": [
    "X_valid, X_train = X_train_full[:5000] / 255.0, X_train_full[5000:] / 255.0\n",
    "y_valid, y_train = y_train_full[:5000], y_train_full[5000:]\n",
    "X_test = X_test / 255."
   ]
  },
  {
   "cell_type": "markdown",
   "metadata": {},
   "source": [
    "You can plot an image using Matplotlib's `imshow()` function, with a `'binary'`\n",
    " color map:"
   ]
  },
  {
   "cell_type": "code",
   "execution_count": 9,
   "metadata": {
    "collapsed": true,
    "jupyter": {
     "outputs_hidden": true
    }
   },
   "outputs": [
    {
     "data": {
      "image/png": "[encoded data removed]",
      "text/plain": [
       "<Figure size 432x288 with 1 Axes>"
      ]
     },
     "metadata": {
      "needs_background": "light"
     },
     "output_type": "display_data"
    }
   ],
   "source": [
    "plt.imshow(X_train[2], cmap=\"binary\")\n",
    "plt.axis('off')\n",
    "plt.show()"
   ]
  },
  {
   "cell_type": "markdown",
   "metadata": {},
   "source": [
    "The labels are the class IDs (represented as uint8), from 0 to 9:"
   ]
  },
  {
   "cell_type": "code",
   "execution_count": 10,
   "metadata": {
    "collapsed": true,
    "jupyter": {
     "outputs_hidden": true
    }
   },
   "outputs": [
    {
     "data": {
      "text/plain": [
       "array([4, 0, 7, ..., 3, 0, 5], dtype=uint8)"
      ]
     },
     "execution_count": 10,
     "metadata": {},
     "output_type": "execute_result"
    }
   ],
   "source": [
    "y_train"
   ]
  },
  {
   "cell_type": "markdown",
   "metadata": {},
   "source": [
    "Here are the corresponding class names:"
   ]
  },
  {
   "cell_type": "code",
   "execution_count": 11,
   "metadata": {
    "collapsed": true,
    "jupyter": {
     "outputs_hidden": true
    }
   },
   "outputs": [],
   "source": [
    "class_names = [\"T-shirt/top\", \"Trouser\", \"Pullover\", \"Dress\", \"Coat\",\n",
    "               \"Sandal\", \"Shirt\", \"Sneaker\", \"Bag\", \"Ankle boot\"]"
   ]
  },
  {
   "cell_type": "markdown",
   "metadata": {},
   "source": [
    "So the first image in the training set is a coat:"
   ]
  },
  {
   "cell_type": "code",
   "execution_count": 12,
   "metadata": {
    "collapsed": true,
    "jupyter": {
     "outputs_hidden": true
    }
   },
   "outputs": [
    {
     "data": {
      "text/plain": [
       "'Coat'"
      ]
     },
     "execution_count": 12,
     "metadata": {},
     "output_type": "execute_result"
    }
   ],
   "source": [
    "class_names[y_train[0]]"
   ]
  },
  {
   "cell_type": "markdown",
   "metadata": {},
   "source": [
    "And the class of 25th image in train set is:"
   ]
  },
  {
   "cell_type": "code",
   "execution_count": 13,
   "metadata": {
    "collapsed": true,
    "jupyter": {
     "outputs_hidden": true
    }
   },
   "outputs": [
    {
     "data": {
      "text/plain": [
       "'Trouser'"
      ]
     },
     "execution_count": 13,
     "metadata": {},
     "output_type": "execute_result"
    }
   ],
   "source": [
    "class_names[y_train[24]]"
   ]
  },
  {
   "cell_type": "markdown",
   "metadata": {},
   "source": [
    "**Exercise:** Wirte a matplotlib or seaborn script to display a image grid of 40 images with 4 rows and 10 columns with class names at the bottom of each image, use training set or validation set."
   ]
  },
  {
   "cell_type": "markdown",
   "metadata": {},
   "source": [
    "### Build A Model"
   ]
  },
  {
   "cell_type": "code",
   "execution_count": 14,
   "metadata": {
    "collapsed": true,
    "jupyter": {
     "outputs_hidden": true
    }
   },
   "outputs": [],
   "source": [
    "model = keras.models.Sequential()\n",
    "model.add(keras.layers.Flatten(input_shape=[28, 28]))\n",
    "model.add(keras.layers.Dense(300, activation=\"relu\"))\n",
    "model.add(keras.layers.Dense(100, activation=\"relu\"))\n",
    "model.add(keras.layers.Dense(10, activation=\"softmax\"))"
   ]
  },
  {
   "cell_type": "code",
   "execution_count": 15,
   "metadata": {
    "collapsed": true,
    "jupyter": {
     "outputs_hidden": true
    }
   },
   "outputs": [],
   "source": [
    "keras.backend.clear_session()\n",
    "np.random.seed(42)\n",
    "tf.random.set_seed(42)"
   ]
  },
  {
   "cell_type": "markdown",
   "metadata": {},
   "source": [
    "Instead of adding the layers one by one as we  just did above, you can pass a list of layers when creating the Sequential model:"
   ]
  },
  {
   "cell_type": "code",
   "execution_count": 16,
   "metadata": {
    "collapsed": true,
    "jupyter": {
     "outputs_hidden": true
    }
   },
   "outputs": [],
   "source": [
    "model = keras.models.Sequential([\n",
    "    keras.layers.Flatten(input_shape=[28, 28]),\n",
    "    keras.layers.Dense(300, activation=\"relu\"),\n",
    "    keras.layers.Dense(100, activation=\"relu\"),\n",
    "    keras.layers.Dense(10, activation=\"softmax\")\n",
    "])"
   ]
  },
  {
   "cell_type": "markdown",
   "metadata": {},
   "source": [
    "You can easily get a model's list of layers,summary of the model and also the structure of the model as a graph with input and output tensor shapes as below: "
   ]
  },
  {
   "cell_type": "code",
   "execution_count": 17,
   "metadata": {
    "collapsed": true,
    "jupyter": {
     "outputs_hidden": true
    }
   },
   "outputs": [
    {
     "data": {
      "text/plain": [
       "[<tensorflow.python.keras.layers.core.Flatten at 0x23db91bcba8>,\n",
       " <tensorflow.python.keras.layers.core.Dense at 0x23db91bcc18>,\n",
       " <tensorflow.python.keras.layers.core.Dense at 0x23db91bcf98>,\n",
       " <tensorflow.python.keras.layers.core.Dense at 0x23db91da2e8>]"
      ]
     },
     "execution_count": 17,
     "metadata": {},
     "output_type": "execute_result"
    }
   ],
   "source": [
    "model.layers"
   ]
  },
  {
   "cell_type": "code",
   "execution_count": 18,
   "metadata": {
    "collapsed": true,
    "jupyter": {
     "outputs_hidden": true
    }
   },
   "outputs": [
    {
     "name": "stdout",
     "output_type": "stream",
     "text": [
      "Model: \"sequential\"\n",
      "_________________________________________________________________\n",
      "Layer (type)                 Output Shape              Param #   \n",
      "=================================================================\n",
      "flatten (Flatten)            (None, 784)               0         \n",
      "_________________________________________________________________\n",
      "dense (Dense)                (None, 300)               235500    \n",
      "_________________________________________________________________\n",
      "dense_1 (Dense)              (None, 100)               30100     \n",
      "_________________________________________________________________\n",
      "dense_2 (Dense)              (None, 10)                1010      \n",
      "=================================================================\n",
      "Total params: 266,610\n",
      "Trainable params: 266,610\n",
      "Non-trainable params: 0\n",
      "_________________________________________________________________\n"
     ]
    }
   ],
   "source": [
    "model.summary()"
   ]
  },
  {
   "cell_type": "code",
   "execution_count": null,
   "metadata": {
    "collapsed": true,
    "jupyter": {
     "outputs_hidden": true
    }
   },
   "outputs": [],
   "source": []
  },
  {
   "cell_type": "code",
   "execution_count": 19,
   "metadata": {
    "collapsed": true,
    "jupyter": {
     "outputs_hidden": true
    }
   },
   "outputs": [
    {
     "data": {
      "image/png": "[encoded data removed]",
      "text/plain": [
       "<IPython.core.display.Image object>"
      ]
     },
     "execution_count": 19,
     "metadata": {},
     "output_type": "execute_result"
    }
   ],
   "source": [
    "keras.utils.plot_model(model, \"my_mnist_model.png\", show_shapes=True)"
   ]
  },
  {
   "cell_type": "code",
   "execution_count": null,
   "metadata": {
    "collapsed": true,
    "jupyter": {
     "outputs_hidden": true
    }
   },
   "outputs": [],
   "source": []
  },
  {
   "cell_type": "code",
   "execution_count": 20,
   "metadata": {
    "collapsed": true,
    "jupyter": {
     "outputs_hidden": true
    }
   },
   "outputs": [
    {
     "data": {
      "text/plain": [
       "'dense'"
      ]
     },
     "execution_count": 20,
     "metadata": {},
     "output_type": "execute_result"
    }
   ],
   "source": [
    "hidden_layer1 = model.layers[1]\n",
    "hidden_layer1.name"
   ]
  },
  {
   "cell_type": "code",
   "execution_count": 21,
   "metadata": {
    "collapsed": true,
    "jupyter": {
     "outputs_hidden": true
    }
   },
   "outputs": [
    {
     "data": {
      "text/plain": [
       "'dense_1'"
      ]
     },
     "execution_count": 21,
     "metadata": {},
     "output_type": "execute_result"
    }
   ],
   "source": [
    "hidden_layer2 = model.layers[2]\n",
    "hidden_layer2.name"
   ]
  },
  {
   "cell_type": "code",
   "execution_count": 22,
   "metadata": {
    "collapsed": true,
    "jupyter": {
     "outputs_hidden": true
    }
   },
   "outputs": [],
   "source": [
    "weights, biases = hidden_layer2.get_weights()"
   ]
  },
  {
   "cell_type": "code",
   "execution_count": 23,
   "metadata": {
    "collapsed": true,
    "jupyter": {
     "outputs_hidden": true
    }
   },
   "outputs": [
    {
     "data": {
      "text/plain": [
       "(300, 100)"
      ]
     },
     "execution_count": 23,
     "metadata": {},
     "output_type": "execute_result"
    }
   ],
   "source": [
    "weights.shape"
   ]
  },
  {
   "cell_type": "code",
   "execution_count": 24,
   "metadata": {
    "collapsed": true,
    "jupyter": {
     "outputs_hidden": true
    }
   },
   "outputs": [
    {
     "data": {
      "text/plain": [
       "(100,)"
      ]
     },
     "execution_count": 24,
     "metadata": {},
     "output_type": "execute_result"
    }
   ],
   "source": [
    "biases.shape"
   ]
  },
  {
   "cell_type": "code",
   "execution_count": 25,
   "metadata": {
    "collapsed": true,
    "jupyter": {
     "outputs_hidden": true
    }
   },
   "outputs": [
    {
     "data": {
      "text/plain": [
       "{'name': 'dense',\n",
       " 'trainable': True,\n",
       " 'dtype': 'float32',\n",
       " 'units': 300,\n",
       " 'activation': 'relu',\n",
       " 'use_bias': True,\n",
       " 'kernel_initializer': {'class_name': 'GlorotUniform',\n",
       "  'config': {'seed': None}},\n",
       " 'bias_initializer': {'class_name': 'Zeros', 'config': {}},\n",
       " 'kernel_regularizer': None,\n",
       " 'bias_regularizer': None,\n",
       " 'activity_regularizer': None,\n",
       " 'kernel_constraint': None,\n",
       " 'bias_constraint': None}"
      ]
     },
     "execution_count": 25,
     "metadata": {},
     "output_type": "execute_result"
    }
   ],
   "source": [
    "hidden_layer1.get_config()"
   ]
  },
  {
   "cell_type": "markdown",
   "metadata": {},
   "source": [
    "**What are Activations, Initializers, Regularizers and Constraints**"
   ]
  },
  {
   "cell_type": "code",
   "execution_count": 26,
   "metadata": {
    "collapsed": true,
    "jupyter": {
     "outputs_hidden": true
    }
   },
   "outputs": [],
   "source": [
    "output_layer = model.layers[3]"
   ]
  },
  {
   "cell_type": "code",
   "execution_count": 27,
   "metadata": {
    "collapsed": true,
    "jupyter": {
     "outputs_hidden": true
    }
   },
   "outputs": [
    {
     "data": {
      "text/plain": [
       "'dense_2'"
      ]
     },
     "execution_count": 27,
     "metadata": {},
     "output_type": "execute_result"
    }
   ],
   "source": [
    "output_layer.name"
   ]
  },
  {
   "cell_type": "code",
   "execution_count": 28,
   "metadata": {
    "collapsed": true,
    "jupyter": {
     "outputs_hidden": true
    }
   },
   "outputs": [
    {
     "data": {
      "text/plain": [
       "{'name': 'dense_2',\n",
       " 'trainable': True,\n",
       " 'dtype': 'float32',\n",
       " 'units': 10,\n",
       " 'activation': 'softmax',\n",
       " 'use_bias': True,\n",
       " 'kernel_initializer': {'class_name': 'GlorotUniform',\n",
       "  'config': {'seed': None}},\n",
       " 'bias_initializer': {'class_name': 'Zeros', 'config': {}},\n",
       " 'kernel_regularizer': None,\n",
       " 'bias_regularizer': None,\n",
       " 'activity_regularizer': None,\n",
       " 'kernel_constraint': None,\n",
       " 'bias_constraint': None}"
      ]
     },
     "execution_count": 28,
     "metadata": {},
     "output_type": "execute_result"
    }
   ],
   "source": [
    "config_of_output_layer = output_layer.get_config()\n",
    "config_of_output_layer"
   ]
  },
  {
   "cell_type": "code",
   "execution_count": 29,
   "metadata": {
    "collapsed": true,
    "jupyter": {
     "outputs_hidden": true
    }
   },
   "outputs": [],
   "source": [
    "output_layer_weights,output_layer_biases = output_layer.get_weights()"
   ]
  },
  {
   "cell_type": "code",
   "execution_count": 30,
   "metadata": {
    "collapsed": true,
    "jupyter": {
     "outputs_hidden": true
    }
   },
   "outputs": [
    {
     "data": {
      "text/plain": [
       "(100, 10)"
      ]
     },
     "execution_count": 30,
     "metadata": {},
     "output_type": "execute_result"
    }
   ],
   "source": [
    "output_layer_weights.shape"
   ]
  },
  {
   "cell_type": "code",
   "execution_count": 31,
   "metadata": {
    "collapsed": true,
    "jupyter": {
     "outputs_hidden": true
    }
   },
   "outputs": [
    {
     "data": {
      "text/plain": [
       "array([[ 1.12742752e-01,  6.00438714e-02, -2.25429326e-01,\n",
       "        -7.32669234e-02,  4.96883690e-03, -5.71009815e-02,\n",
       "        -1.99350551e-01, -2.23567635e-01, -9.94094461e-02,\n",
       "        -1.35171115e-02],\n",
       "       [ 9.04370248e-02, -1.99351788e-01,  2.02026099e-01,\n",
       "        -1.36191919e-01,  9.39141810e-02, -1.93547606e-02,\n",
       "         1.67981148e-01,  2.00545996e-01, -1.38766289e-01,\n",
       "         1.25488609e-01],\n",
       "       [ 4.67847884e-02, -1.07247218e-01,  1.78341419e-01,\n",
       "        -2.08489627e-01, -3.60859334e-02,  1.82345212e-01,\n",
       "         1.34853154e-01, -1.86066300e-01, -1.42891139e-01,\n",
       "        -1.03244305e-01],\n",
       "       [-4.89864200e-02, -1.76399082e-01, -5.41257560e-02,\n",
       "         2.08106577e-01,  1.28894538e-01,  2.07589895e-01,\n",
       "        -2.13480458e-01, -1.18598342e-02,  7.23187029e-02,\n",
       "         3.06938589e-02],\n",
       "       [-1.68816119e-01, -9.32020694e-02, -7.88614601e-02,\n",
       "        -1.73261091e-01,  6.70591891e-02, -2.11411119e-02,\n",
       "         8.81972015e-02, -9.24687833e-02, -3.95725667e-03,\n",
       "        -1.09632604e-01],\n",
       "       [ 9.91530716e-02,  1.04149550e-01, -1.45426705e-01,\n",
       "        -1.20718949e-01,  1.40780151e-01,  2.20351696e-01,\n",
       "         9.55250859e-02, -9.83045995e-02,  2.29425728e-02,\n",
       "        -2.09903523e-01],\n",
       "       [-1.43484324e-01, -2.14057267e-02, -1.31305486e-01,\n",
       "         1.73965544e-01,  2.94668972e-02, -8.55763406e-02,\n",
       "         8.64025950e-02, -5.02029657e-02,  9.83853340e-02,\n",
       "         9.51973498e-02],\n",
       "       [ 1.01038098e-01,  1.57675594e-01,  2.29332834e-01,\n",
       "         2.05640525e-01, -1.32360846e-01,  1.00129545e-01,\n",
       "         1.84200704e-02,  1.06974095e-02, -7.23346323e-02,\n",
       "         2.19269991e-01],\n",
       "       [ 2.28428453e-01, -8.84511769e-02,  2.09724993e-01,\n",
       "         4.23445404e-02,  1.87418163e-02, -1.10311933e-01,\n",
       "        -2.84871459e-03,  6.74027205e-03,  9.08220112e-02,\n",
       "        -6.03463352e-02],\n",
       "       [ 4.73174453e-03,  1.95836425e-01, -1.35993063e-01,\n",
       "        -4.56390679e-02, -1.11590512e-01,  1.93821490e-01,\n",
       "         1.74877793e-01, -1.55209467e-01,  7.45626688e-02,\n",
       "         1.40653759e-01],\n",
       "       [-2.18013301e-01,  3.17489207e-02, -9.58642513e-02,\n",
       "         2.11037397e-01, -3.58919352e-02,  1.53877378e-01,\n",
       "        -1.32345751e-01, -1.04200989e-01, -1.05353281e-01,\n",
       "         1.14030689e-01],\n",
       "       [ 1.97946340e-01,  1.74567014e-01,  1.48233563e-01,\n",
       "         2.11353391e-01,  2.03146100e-01, -7.22482651e-02,\n",
       "         1.52453750e-01, -1.13208540e-01,  2.21974850e-02,\n",
       "        -6.77775592e-02],\n",
       "       [-1.92741305e-02,  2.29410172e-01, -3.41316462e-02,\n",
       "         5.52159548e-02,  7.83063471e-02,  1.42653257e-01,\n",
       "         1.67489320e-01, -3.28197032e-02,  1.84857935e-01,\n",
       "        -1.66051254e-01],\n",
       "       [ 1.13005459e-01, -3.13315392e-02,  1.16544157e-01,\n",
       "        -1.73596591e-02,  1.10585988e-03,  4.53399420e-02,\n",
       "        -5.14244288e-02, -1.77215397e-01,  5.55554628e-02,\n",
       "        -1.30624101e-01],\n",
       "       [ 1.21762097e-01,  5.13137877e-03, -1.07979730e-01,\n",
       "        -1.12634227e-01, -1.95691884e-01,  1.41411602e-01,\n",
       "         3.06295455e-02, -2.24864364e-01, -8.20560902e-02,\n",
       "        -3.38535607e-02],\n",
       "       [-2.06598490e-02,  2.78079510e-02, -1.29093379e-02,\n",
       "        -2.10702226e-01,  7.96957314e-03, -1.10026278e-01,\n",
       "        -1.74049839e-01,  1.62871212e-01,  2.09267616e-01,\n",
       "        -1.90673202e-01],\n",
       "       [ 1.76175296e-01,  2.03683972e-02, -1.82756245e-01,\n",
       "        -7.85149485e-02,  8.88781548e-02, -2.04018310e-01,\n",
       "         2.58451700e-02, -1.90163046e-01, -1.96196020e-01,\n",
       "         1.28392875e-03],\n",
       "       [ 1.20943516e-01, -1.50509477e-02, -1.78246915e-01,\n",
       "        -2.22380921e-01, -3.12273204e-03,  2.32751518e-01,\n",
       "         2.15453684e-01, -1.80916041e-02, -3.66429985e-03,\n",
       "        -2.28017285e-01],\n",
       "       [-2.06566244e-01, -1.81744218e-01, -1.07844353e-01,\n",
       "         1.29270792e-01, -1.54350176e-01, -1.30401373e-01,\n",
       "        -1.87126666e-01, -2.13576615e-01, -2.15470836e-01,\n",
       "        -6.64992630e-02],\n",
       "       [ 1.29648477e-01, -2.28159890e-01,  2.18504697e-01,\n",
       "         8.93747211e-02,  2.21476376e-01,  4.85718548e-02,\n",
       "        -9.51267332e-02,  1.24064088e-01,  1.96206212e-01,\n",
       "        -2.96307653e-02],\n",
       "       [-2.49676257e-02, -6.92087710e-02, -2.04968542e-01,\n",
       "         3.11881006e-02, -1.60689577e-01,  2.32636929e-01,\n",
       "         1.55788630e-01,  9.77067947e-02,  1.07956886e-01,\n",
       "         1.72372460e-01],\n",
       "       [-2.03716740e-01, -9.51893777e-02, -2.16430411e-01,\n",
       "         2.09458053e-01, -6.80240095e-02,  1.03138685e-01,\n",
       "         1.43685132e-01,  2.31844962e-01,  5.06852269e-02,\n",
       "        -8.06041062e-02],\n",
       "       [ 1.18144751e-01, -7.24874735e-02, -1.41779885e-01,\n",
       "         2.26741642e-01, -1.63092613e-01, -6.07043207e-02,\n",
       "        -5.81215322e-03, -2.31004596e-01, -1.26799151e-01,\n",
       "         1.44443065e-01],\n",
       "       [-5.02937287e-02, -9.09313560e-03, -7.79834539e-02,\n",
       "         1.57113373e-03, -2.00763226e-01, -1.12934023e-01,\n",
       "         2.07397848e-01,  4.30086255e-03,  2.03510821e-01,\n",
       "        -1.99680358e-01],\n",
       "       [ 9.43382084e-02, -5.76892793e-02, -1.90554261e-01,\n",
       "        -8.95622075e-02, -1.55551583e-02,  8.14269781e-02,\n",
       "        -2.17030779e-01,  3.03981900e-02, -4.86794114e-03,\n",
       "        -1.06328115e-01],\n",
       "       [-2.10601330e-01,  2.19133586e-01,  9.36533809e-02,\n",
       "         1.56074762e-01, -4.10043746e-02,  1.56369627e-01,\n",
       "        -1.96099415e-01, -9.05172229e-02,  2.07775384e-01,\n",
       "         4.56272662e-02],\n",
       "       [ 1.86889231e-01,  1.92460239e-01,  2.76995897e-02,\n",
       "         1.75203800e-01, -1.72763616e-01, -4.00623381e-02,\n",
       "         4.05385494e-02, -2.12740496e-01, -9.83071625e-02,\n",
       "        -2.04154849e-03],\n",
       "       [ 2.04099417e-02,  2.03714609e-01,  2.27603495e-01,\n",
       "         1.45299256e-01,  3.30224037e-02, -1.63102195e-01,\n",
       "        -2.28601620e-01,  6.71181679e-02,  1.89621568e-01,\n",
       "        -1.32558018e-01],\n",
       "       [-1.79437235e-01, -2.53446549e-02, -2.27259830e-01,\n",
       "        -9.72680748e-03, -8.65158737e-02, -1.92240000e-01,\n",
       "         1.09937012e-01, -8.88422281e-02, -2.16461807e-01,\n",
       "        -2.04767019e-01],\n",
       "       [ 1.99630082e-01, -1.08357474e-01,  5.31962514e-02,\n",
       "        -6.63710833e-02, -8.96304250e-02, -1.08956113e-01,\n",
       "        -3.69477868e-02, -6.94417953e-03, -1.35179430e-01,\n",
       "        -1.16388239e-01],\n",
       "       [-1.82902813e-01, -5.68391383e-03,  1.51385069e-01,\n",
       "         2.16339648e-01,  1.77867413e-02,  2.98676789e-02,\n",
       "        -1.42436951e-01, -2.53392011e-02,  3.41504514e-02,\n",
       "        -4.34881449e-03],\n",
       "       [ 1.19712830e-01,  2.78647244e-03, -9.33524072e-02,\n",
       "        -2.20011964e-01,  2.16343611e-01,  1.19225085e-01,\n",
       "        -1.27061635e-01,  1.63549334e-01,  2.27640748e-01,\n",
       "        -1.10452421e-01],\n",
       "       [-1.99293822e-01,  9.70436633e-03, -7.09466785e-02,\n",
       "         5.80017269e-03, -1.19822174e-02, -1.64589435e-02,\n",
       "        -6.15730882e-04,  1.74006820e-02,  2.17658997e-01,\n",
       "        -5.74681610e-02],\n",
       "       [-1.96945369e-02,  1.35640502e-02, -2.13832483e-01,\n",
       "         7.97899663e-02, -6.11169189e-02,  2.15325952e-01,\n",
       "         2.18230188e-02, -3.43573093e-03,  6.26028180e-02,\n",
       "        -1.93354934e-01],\n",
       "       [-5.99762797e-03, -1.83693334e-01, -2.25566089e-01,\n",
       "         1.85544044e-01,  4.84588742e-03, -1.02081105e-01,\n",
       "        -9.77173448e-03,  1.62303656e-01,  8.26414824e-02,\n",
       "         1.33375764e-01],\n",
       "       [-2.04784840e-01,  2.06692427e-01,  1.81050628e-01,\n",
       "        -8.67227912e-02, -1.69920921e-02,  1.66254044e-01,\n",
       "         1.97163224e-02,  1.50694609e-01, -2.63331831e-02,\n",
       "        -4.05731797e-03],\n",
       "       [ 3.79209220e-03, -1.87527359e-01, -9.92566496e-02,\n",
       "        -1.01926684e-01,  7.10143447e-02, -1.53160453e-01,\n",
       "        -1.32702291e-03,  4.06152010e-02, -1.21099487e-01,\n",
       "         1.73721135e-01],\n",
       "       [-2.26281211e-01,  1.08734608e-01,  7.61842430e-02,\n",
       "        -1.47025734e-01, -7.32860714e-02, -2.06194818e-02,\n",
       "        -1.40442058e-01, -5.08297980e-02,  1.30302101e-01,\n",
       "        -6.83967620e-02],\n",
       "       [ 1.29604548e-01,  9.86818373e-02, -1.13978982e-04,\n",
       "         1.81202590e-01,  1.12265378e-01,  8.78709555e-03,\n",
       "        -1.86594397e-01, -9.92550999e-02,  1.93947047e-01,\n",
       "         1.85812831e-01],\n",
       "       [ 4.37085927e-02,  5.19863069e-02,  1.83007717e-01,\n",
       "         1.36634201e-01, -3.83979827e-02,  1.16817594e-01,\n",
       "         3.98628414e-02, -2.17415273e-01, -1.52315795e-02,\n",
       "         4.88274395e-02],\n",
       "       [-6.80403858e-02,  1.25895828e-01,  7.91344643e-02,\n",
       "         3.25739384e-05, -1.80184335e-01, -2.17059672e-01,\n",
       "        -1.65418535e-02, -7.16979504e-02, -3.37172002e-02,\n",
       "         1.40298724e-01],\n",
       "       [ 6.40985072e-02, -1.60442293e-01,  1.74721420e-01,\n",
       "         2.15427577e-01, -1.55483365e-01,  1.48853511e-01,\n",
       "        -8.75139832e-02,  1.47026807e-01,  7.57081509e-02,\n",
       "        -1.59714356e-01],\n",
       "       [ 2.24607855e-01,  1.43523246e-01, -1.27433538e-02,\n",
       "        -1.33015335e-01,  2.32344657e-01, -2.12352276e-01,\n",
       "         7.07857013e-02, -1.28294736e-01,  3.59174907e-02,\n",
       "         1.52278334e-01],\n",
       "       [ 1.75219774e-01,  1.12639636e-01, -1.78578779e-01,\n",
       "        -1.94420248e-01, -1.32227033e-01,  1.04298651e-01,\n",
       "         1.55404210e-03,  3.88070941e-02, -1.65570661e-01,\n",
       "        -7.88090080e-02],\n",
       "       [ 8.99816155e-02, -3.89510840e-02,  1.31274134e-01,\n",
       "        -5.19903004e-03, -1.52610809e-01,  1.16614372e-01,\n",
       "        -2.72770077e-02,  2.28886813e-01,  5.11238575e-02,\n",
       "         2.31443226e-01],\n",
       "       [-1.11760795e-01,  1.88155413e-01, -1.01172030e-01,\n",
       "        -2.27839097e-01,  2.12448537e-02, -1.05824023e-01,\n",
       "         1.08522415e-01,  1.03879988e-01, -3.87753993e-02,\n",
       "        -2.95481235e-02],\n",
       "       [-1.91103011e-01, -1.42232537e-01, -3.09969932e-02,\n",
       "        -3.39398086e-02, -7.29839951e-02,  1.35010064e-01,\n",
       "         4.01337147e-02,  2.16838449e-01,  1.32536024e-01,\n",
       "        -3.58032882e-02],\n",
       "       [ 1.00960702e-01, -3.90592217e-02,  7.97575712e-03,\n",
       "         3.36945355e-02, -1.77697092e-02,  1.41886562e-01,\n",
       "         1.14062667e-01,  1.34221435e-01,  1.69851601e-01,\n",
       "         4.08819318e-02],\n",
       "       [-1.49173588e-02, -3.40353101e-02,  1.76137328e-01,\n",
       "         2.08897710e-01, -1.95934370e-01, -1.55918583e-01,\n",
       "        -8.87561440e-02,  1.71865463e-01,  2.43141949e-02,\n",
       "        -1.17995851e-01],\n",
       "       [-1.91521138e-01,  5.88495731e-02,  2.96891332e-02,\n",
       "        -9.24046338e-02, -1.98886827e-01, -2.52095610e-02,\n",
       "        -7.46457875e-02, -2.06460670e-01, -4.08393145e-03,\n",
       "         1.28853291e-01],\n",
       "       [ 1.47074461e-05, -1.04341805e-01, -1.41774088e-01,\n",
       "        -1.18324436e-01, -1.80869609e-01, -4.17639911e-02,\n",
       "        -1.93907365e-01,  7.09341466e-02, -2.12085947e-01,\n",
       "        -2.31064066e-01],\n",
       "       [ 5.69486916e-02,  1.51643902e-01, -6.97894841e-02,\n",
       "         2.19643474e-01,  6.61056340e-02,  2.10394859e-02,\n",
       "         6.51438236e-02,  1.03909820e-02,  6.70376122e-02,\n",
       "        -1.78157821e-01],\n",
       "       [-6.52741939e-02, -1.88908726e-01,  2.31946647e-01,\n",
       "         1.76723480e-01,  4.35483456e-02,  1.20392770e-01,\n",
       "         1.27879620e-01, -8.78682882e-02, -1.15587078e-01,\n",
       "         2.58855522e-02],\n",
       "       [-1.80813313e-01,  1.38632268e-01, -1.20819628e-01,\n",
       "        -1.72196940e-01, -1.05834052e-01,  2.66952217e-02,\n",
       "        -1.88839346e-01,  8.75616968e-02,  2.26554841e-01,\n",
       "         1.23998106e-01],\n",
       "       [-9.31029022e-02, -1.38334244e-01,  7.68235922e-02,\n",
       "        -2.25021511e-01,  1.93942666e-01,  2.25518197e-01,\n",
       "         1.94379717e-01, -7.79475421e-02,  1.06602013e-01,\n",
       "        -1.71187088e-01],\n",
       "       [-2.92547941e-02, -1.53320819e-01,  1.17078245e-01,\n",
       "         8.87891650e-02, -5.17972261e-02, -1.61884531e-01,\n",
       "        -9.98247266e-02,  8.76711011e-02, -3.72603834e-02,\n",
       "         1.16334170e-01],\n",
       "       [ 1.95412397e-01,  1.86874360e-01,  1.36448443e-01,\n",
       "        -1.36011064e-01, -1.34789109e-01, -1.59322351e-01,\n",
       "        -1.05758324e-01,  2.92247832e-02, -1.73741907e-01,\n",
       "        -1.67288333e-02],\n",
       "       [-8.64085704e-02,  3.71648371e-02,  1.80018008e-01,\n",
       "         1.85083777e-01, -1.99760050e-01,  1.25117600e-02,\n",
       "        -1.52779594e-01, -1.68958664e-01, -4.07963991e-03,\n",
       "         1.62763268e-01],\n",
       "       [ 5.36134243e-02, -8.38526189e-02,  1.56162977e-01,\n",
       "         2.21749663e-01,  9.18066502e-02,  1.42021924e-01,\n",
       "         7.44385421e-02,  2.31681705e-01,  1.08948708e-01,\n",
       "        -2.26908758e-01],\n",
       "       [ 2.79329419e-02, -1.75942436e-01, -1.28624588e-01,\n",
       "         1.40103996e-01, -1.72557980e-01, -1.63951218e-02,\n",
       "        -3.49457711e-02,  1.96388513e-01, -6.51750118e-02,\n",
       "        -1.01937056e-01],\n",
       "       [ 1.08679771e-01, -1.63979083e-02, -1.69919193e-01,\n",
       "         5.45982718e-02, -1.29807070e-01, -5.93855381e-02,\n",
       "        -1.86164588e-01, -1.27365619e-01, -2.47102976e-03,\n",
       "         2.10228264e-01],\n",
       "       [-1.70153558e-01, -2.68479139e-02, -1.03888333e-01,\n",
       "         1.99362069e-01, -1.67375386e-01, -1.08073875e-01,\n",
       "        -1.44026011e-01,  1.70996636e-01,  1.29496962e-01,\n",
       "         1.17672175e-01],\n",
       "       [-4.39851135e-02, -2.43654698e-02, -9.84039903e-03,\n",
       "        -9.12227184e-02, -4.71929908e-02,  3.48967314e-02,\n",
       "         1.15335107e-01,  7.71381557e-02, -1.01085499e-01,\n",
       "         1.19001031e-01],\n",
       "       [-1.23704933e-01,  5.34429848e-02,  1.38750523e-01,\n",
       "        -1.01531848e-01,  1.58708185e-01,  1.88073665e-01,\n",
       "         2.30765343e-01, -1.77344128e-01, -4.42028344e-02,\n",
       "        -1.93096176e-01],\n",
       "       [-1.49303883e-01, -3.77520174e-02, -2.22947165e-01,\n",
       "         1.30451709e-01, -5.28349280e-02,  1.39381886e-02,\n",
       "        -9.24954563e-02, -7.11864531e-02, -7.43696541e-02,\n",
       "         1.39865577e-01],\n",
       "       [-1.73052400e-01, -1.50746346e-01, -5.46296835e-02,\n",
       "        -1.40763849e-01, -7.84163326e-02,  1.54015452e-01,\n",
       "        -2.05494121e-01,  4.25505638e-02, -2.29955167e-02,\n",
       "        -2.25412726e-01],\n",
       "       [-1.54138193e-01,  7.39070475e-02,  1.09845251e-01,\n",
       "         2.28661418e-01, -2.15664208e-02, -1.39817461e-01,\n",
       "         6.04997873e-02, -2.90073454e-03, -2.25063384e-01,\n",
       "         2.12000698e-01],\n",
       "       [-1.79634914e-01,  1.66713774e-01,  1.32819772e-01,\n",
       "         1.32043004e-01,  1.77200794e-01, -1.17209725e-01,\n",
       "        -8.37397575e-02, -1.82375327e-01,  2.01898813e-02,\n",
       "         1.00491583e-01],\n",
       "       [-4.51468229e-02, -3.06750387e-02, -1.59948945e-01,\n",
       "        -1.79897010e-01, -2.00873524e-01, -2.17506692e-01,\n",
       "         1.64277554e-01, -1.03214070e-01,  2.07842916e-01,\n",
       "         7.31887519e-02],\n",
       "       [ 9.68791246e-02, -1.83023080e-01, -8.41374993e-02,\n",
       "         5.14091253e-02, -1.83082834e-01,  7.45618641e-02,\n",
       "        -2.14397773e-01,  1.24937415e-01,  8.43987167e-02,\n",
       "        -1.24216542e-01],\n",
       "       [ 1.86894745e-01,  1.55817240e-01,  1.42154902e-01,\n",
       "        -2.26239949e-01,  4.17255759e-02, -2.19680652e-01,\n",
       "         1.24220043e-01, -7.87434131e-02, -5.29850423e-02,\n",
       "         7.07406104e-02],\n",
       "       [ 2.56880522e-02,  1.88924819e-01,  1.35838002e-01,\n",
       "         1.76922083e-02, -1.73609391e-01, -3.24033052e-02,\n",
       "         1.73548251e-01, -1.56801432e-01, -8.43998194e-02,\n",
       "        -1.48980916e-02],\n",
       "       [-1.54878438e-01,  1.01056874e-01,  1.89404190e-02,\n",
       "        -1.76670849e-02,  1.48405492e-01,  2.01981902e-01,\n",
       "        -6.80746883e-02,  1.42776489e-01, -2.12893844e-01,\n",
       "        -1.31928295e-01],\n",
       "       [-2.25162059e-02, -7.29998946e-03, -2.18679309e-01,\n",
       "        -5.59759736e-02, -2.04957843e-01, -8.99818838e-02,\n",
       "         1.32539362e-01,  7.79850781e-02, -6.46064430e-02,\n",
       "         1.81277663e-01],\n",
       "       [ 1.72588229e-01, -2.05774605e-03,  8.36995542e-02,\n",
       "         7.56440163e-02, -3.13323140e-02,  1.66799366e-01,\n",
       "        -2.02097327e-01, -6.91079348e-02, -1.69953048e-01,\n",
       "         6.98112547e-02],\n",
       "       [ 1.36958510e-02, -1.66041911e-01, -1.68947309e-01,\n",
       "        -1.91564292e-01,  8.55780542e-02,  7.51717687e-02,\n",
       "        -3.32200080e-02, -2.33428627e-01, -1.23155065e-01,\n",
       "        -1.66730464e-01],\n",
       "       [-2.25032866e-01, -8.49773586e-02, -3.70594859e-02,\n",
       "        -6.37557209e-02,  1.26448363e-01, -2.21737683e-01,\n",
       "         1.06572509e-02, -1.00992784e-01,  1.50377214e-01,\n",
       "        -3.88713479e-02],\n",
       "       [ 1.55889183e-01,  9.97245014e-02, -1.93616480e-01,\n",
       "         1.01236939e-01,  1.67443722e-01, -2.23790586e-01,\n",
       "         1.58420891e-01, -4.75205183e-02,  4.23772335e-02,\n",
       "        -4.87169176e-02],\n",
       "       [ 2.00809777e-01,  2.42524445e-02,  1.84110105e-02,\n",
       "         2.28414983e-01, -1.49375215e-01, -3.07748765e-02,\n",
       "         1.21294051e-01, -1.52557194e-01,  2.24990666e-01,\n",
       "         1.29477531e-01],\n",
       "       [-2.26472706e-01,  1.58731610e-01,  3.39019597e-02,\n",
       "         8.27528536e-02, -9.99723971e-02,  9.03260708e-02,\n",
       "         1.63741112e-01,  6.25731349e-02, -7.08715171e-02,\n",
       "         1.42964870e-01],\n",
       "       [-4.19852287e-02,  2.28729129e-01,  1.97220534e-01,\n",
       "        -1.37151390e-01, -5.72283566e-03,  2.06711352e-01,\n",
       "         1.99470371e-01, -2.32758105e-01,  1.85869247e-01,\n",
       "         1.50831580e-01],\n",
       "       [ 1.99492216e-01, -9.15399194e-03, -5.24072200e-02,\n",
       "        -1.82630688e-01,  2.96981335e-02,  1.40437335e-01,\n",
       "         1.75155401e-01,  1.38031453e-01, -7.62771219e-02,\n",
       "         2.47135460e-02],\n",
       "       [-8.04662853e-02, -1.31219923e-02, -3.07363421e-02,\n",
       "        -1.04983047e-01, -1.25652313e-01,  1.33173704e-01,\n",
       "        -4.74867225e-03, -3.97497863e-02,  1.86601073e-01,\n",
       "        -1.84029162e-01],\n",
       "       [-1.51067078e-01, -7.59860128e-02, -2.26007819e-01,\n",
       "        -1.52614549e-01, -3.35088372e-02, -2.28995085e-03,\n",
       "         7.84087479e-02, -9.72412825e-02, -2.74761766e-02,\n",
       "         2.13125765e-01],\n",
       "       [ 1.48733079e-01,  6.57341182e-02, -4.85758483e-03,\n",
       "         1.10975772e-01, -2.22948670e-01,  2.33015418e-03,\n",
       "         1.90659851e-01,  1.27993882e-01,  1.09929830e-01,\n",
       "        -1.82283074e-02],\n",
       "       [-1.30540967e-01,  8.51179659e-02, -2.10545033e-01,\n",
       "        -1.27118319e-01, -2.01242596e-01, -1.67777136e-01,\n",
       "        -1.19526118e-01, -7.51857460e-02,  1.37775153e-01,\n",
       "        -1.97080374e-01],\n",
       "       [ 1.82996631e-01,  1.75406218e-01,  2.14596659e-01,\n",
       "        -1.70491546e-01, -1.79473996e-01, -1.27201959e-01,\n",
       "        -8.35901499e-03, -3.63823324e-02,  2.00140417e-01,\n",
       "         5.24904132e-02],\n",
       "       [-2.17478856e-01,  1.04628801e-01,  1.69148266e-01,\n",
       "        -1.02621332e-01,  1.01552218e-01, -3.63140106e-02,\n",
       "         2.29454160e-01,  9.56421793e-02,  4.49969172e-02,\n",
       "         4.37431037e-03],\n",
       "       [ 1.27074242e-01,  8.64204764e-02,  1.05065405e-01,\n",
       "         1.27584994e-01, -1.79232210e-01,  6.81195259e-02,\n",
       "         1.51747525e-01,  1.10104859e-01,  1.07952148e-01,\n",
       "        -1.45082146e-01],\n",
       "       [-2.87241340e-02,  2.29379535e-03, -6.27736449e-02,\n",
       "        -1.66881874e-01, -9.11899209e-02,  8.52639973e-03,\n",
       "        -3.15348804e-02, -1.02152824e-01,  6.53363764e-02,\n",
       "         2.32954830e-01],\n",
       "       [-2.26789981e-01,  1.32891834e-01, -7.71867484e-02,\n",
       "         8.12657177e-02,  1.85988396e-01,  1.76000565e-01,\n",
       "         1.79313451e-01,  8.01812410e-02, -1.03223652e-01,\n",
       "         2.28617191e-02],\n",
       "       [-2.85704583e-02,  1.06238186e-01,  1.91848874e-02,\n",
       "        -2.27215171e-01,  1.15717918e-01, -2.30595663e-01,\n",
       "        -4.52581346e-02, -6.75654113e-02, -6.46784902e-02,\n",
       "         1.39897913e-01],\n",
       "       [-1.14842653e-01, -2.20428526e-01,  1.36123866e-01,\n",
       "        -1.25591233e-01, -1.14183761e-01, -3.34240794e-02,\n",
       "         5.36200404e-03,  1.64784968e-01, -1.50891230e-01,\n",
       "         1.81795061e-01],\n",
       "       [ 1.73398852e-02, -1.59086823e-01,  1.38177067e-01,\n",
       "        -1.74656048e-01,  1.22053891e-01, -1.71790406e-01,\n",
       "         8.43703151e-02, -7.19425678e-02,  2.55008936e-02,\n",
       "         1.87590718e-02],\n",
       "       [-1.96317971e-01,  1.14246577e-01, -1.31025523e-01,\n",
       "         4.06768024e-02,  1.62259430e-01, -1.68376893e-01,\n",
       "        -5.43514341e-02, -1.96374148e-01,  1.29471421e-01,\n",
       "         9.09952521e-02],\n",
       "       [ 1.83921695e-01,  1.55890584e-01, -1.61376700e-01,\n",
       "         1.38593495e-01,  1.19753569e-01,  1.38958216e-01,\n",
       "         8.58060122e-02, -1.91453397e-02, -6.18551075e-02,\n",
       "        -2.32215971e-01],\n",
       "       [ 1.69014335e-02,  4.10490334e-02, -1.89699486e-01,\n",
       "         1.86879486e-01,  1.54983908e-01,  1.43518478e-01,\n",
       "        -2.06003457e-01, -5.82245439e-02,  1.62408322e-01,\n",
       "        -7.57378340e-03],\n",
       "       [ 2.12094188e-01,  1.15907460e-01,  3.13612521e-02,\n",
       "        -2.89212018e-02, -1.27224743e-01,  1.68737710e-01,\n",
       "        -1.13248631e-01, -9.25210118e-02, -8.54411870e-02,\n",
       "        -2.19323561e-01],\n",
       "       [ 1.92055792e-01, -2.16875151e-01, -1.01961374e-01,\n",
       "        -1.11394122e-01, -2.48878300e-02,  1.91058695e-01,\n",
       "        -1.56461492e-01, -7.41964281e-02,  9.47111845e-02,\n",
       "        -1.73285097e-01],\n",
       "       [ 8.39972198e-02, -2.22526252e-01, -9.87635255e-02,\n",
       "        -7.99964964e-02, -6.91010803e-02, -3.67884785e-02,\n",
       "         1.68826580e-01, -4.09603864e-02, -3.06508690e-02,\n",
       "         3.43215168e-02]], dtype=float32)"
      ]
     },
     "execution_count": 31,
     "metadata": {},
     "output_type": "execute_result"
    }
   ],
   "source": [
    "output_layer_weights"
   ]
  },
  {
   "cell_type": "code",
   "execution_count": 32,
   "metadata": {
    "collapsed": true,
    "jupyter": {
     "outputs_hidden": true
    }
   },
   "outputs": [
    {
     "data": {
      "text/plain": [
       "(10,)"
      ]
     },
     "execution_count": 32,
     "metadata": {},
     "output_type": "execute_result"
    }
   ],
   "source": [
    "output_layer_biases.shape"
   ]
  },
  {
   "cell_type": "code",
   "execution_count": 33,
   "metadata": {
    "collapsed": true,
    "jupyter": {
     "outputs_hidden": true
    }
   },
   "outputs": [
    {
     "data": {
      "text/plain": [
       "array([0., 0., 0., 0., 0., 0., 0., 0., 0., 0.], dtype=float32)"
      ]
     },
     "execution_count": 33,
     "metadata": {},
     "output_type": "execute_result"
    }
   ],
   "source": [
    "output_layer_biases"
   ]
  },
  {
   "cell_type": "markdown",
   "metadata": {},
   "source": [
    "### Compiling the model"
   ]
  },
  {
   "cell_type": "markdown",
   "metadata": {},
   "source": [
    "After a model is created you must call its `compile()`method to specify the **loss function** and **optimizer** to use.\n",
    "\n",
    "Optionally, you can specify a ***list*** of of extra metrics to compute during training and evaluation like this:"
   ]
  },
  {
   "cell_type": "code",
   "execution_count": 34,
   "metadata": {
    "collapsed": true,
    "jupyter": {
     "outputs_hidden": true
    }
   },
   "outputs": [],
   "source": [
    "model.compile(loss=\"sparse_categorical_crossentropy\",\n",
    "              optimizer=\"sgd\",\n",
    "              metrics=[\"accuracy\"])"
   ]
  },
  {
   "cell_type": "markdown",
   "metadata": {},
   "source": [
    "This is equivalent to:"
   ]
  },
  {
   "cell_type": "markdown",
   "metadata": {},
   "source": [
    "```python\n",
    "model.compile(loss=keras.losses.sparse_categorical_crossentropy,\n",
    "              optimizer=keras.optimizers.SGD(),\n",
    "              metrics=[keras.metrics.sparse_categorical_accuracy])\n",
    "```"
   ]
  },
  {
   "cell_type": "markdown",
   "metadata": {},
   "source": [
    "**What are Losses (Loss functions),Optimizers and Metrics**"
   ]
  },
  {
   "cell_type": "markdown",
   "metadata": {},
   "source": [
    "### Training and evaluating the model"
   ]
  },
  {
   "cell_type": "code",
   "execution_count": 35,
   "metadata": {
    "collapsed": true,
    "jupyter": {
     "outputs_hidden": true
    }
   },
   "outputs": [
    {
     "name": "stdout",
     "output_type": "stream",
     "text": [
      "Train on 55000 samples, validate on 5000 samples\n",
      "Epoch 1/30\n",
      "55000/55000 [==============================] - 5s 95us/sample - loss: 0.7228 - accuracy: 0.7623 - val_loss: 0.5304 - val_accuracy: 0.8162\n",
      "Epoch 2/30\n",
      "55000/55000 [==============================] - 4s 79us/sample - loss: 0.4837 - accuracy: 0.8321 - val_loss: 0.4498 - val_accuracy: 0.8444\n",
      "Epoch 3/30\n",
      "55000/55000 [==============================] - 4s 78us/sample - loss: 0.4379 - accuracy: 0.8472 - val_loss: 0.4172 - val_accuracy: 0.8552\n",
      "Epoch 4/30\n",
      "55000/55000 [==============================] - 4s 78us/sample - loss: 0.4126 - accuracy: 0.8554 - val_loss: 0.3900 - val_accuracy: 0.8650\n",
      "Epoch 5/30\n",
      "55000/55000 [==============================] - 4s 78us/sample - loss: 0.3928 - accuracy: 0.8627 - val_loss: 0.3957 - val_accuracy: 0.8624\n",
      "Epoch 6/30\n",
      "55000/55000 [==============================] - 4s 78us/sample - loss: 0.3775 - accuracy: 0.8669 - val_loss: 0.3735 - val_accuracy: 0.8742\n",
      "Epoch 7/30\n",
      "55000/55000 [==============================] - 4s 79us/sample - loss: 0.3645 - accuracy: 0.8711 - val_loss: 0.3671 - val_accuracy: 0.8686\n",
      "Epoch 8/30\n",
      "55000/55000 [==============================] - 4s 79us/sample - loss: 0.3524 - accuracy: 0.8743 - val_loss: 0.3622 - val_accuracy: 0.8720\n",
      "Epoch 9/30\n",
      "55000/55000 [==============================] - 4s 79us/sample - loss: 0.3413 - accuracy: 0.8787 - val_loss: 0.3652 - val_accuracy: 0.8722\n",
      "Epoch 10/30\n",
      "55000/55000 [==============================] - 4s 78us/sample - loss: 0.3323 - accuracy: 0.8817 - val_loss: 0.3491 - val_accuracy: 0.8788\n",
      "Epoch 11/30\n",
      "55000/55000 [==============================] - 4s 80us/sample - loss: 0.3247 - accuracy: 0.8837 - val_loss: 0.3389 - val_accuracy: 0.8802\n",
      "Epoch 12/30\n",
      "55000/55000 [==============================] - 4s 81us/sample - loss: 0.3170 - accuracy: 0.8861 - val_loss: 0.3409 - val_accuracy: 0.8810\n",
      "Epoch 13/30\n",
      "55000/55000 [==============================] - 4s 80us/sample - loss: 0.3093 - accuracy: 0.8889 - val_loss: 0.3298 - val_accuracy: 0.8834\n",
      "Epoch 14/30\n",
      "55000/55000 [==============================] - 4s 81us/sample - loss: 0.3028 - accuracy: 0.8915 - val_loss: 0.3221 - val_accuracy: 0.8842\n",
      "Epoch 15/30\n",
      "55000/55000 [==============================] - 4s 82us/sample - loss: 0.2961 - accuracy: 0.8943 - val_loss: 0.3244 - val_accuracy: 0.8836\n",
      "Epoch 16/30\n",
      "55000/55000 [==============================] - 5s 91us/sample - loss: 0.2898 - accuracy: 0.8952 - val_loss: 0.3277 - val_accuracy: 0.8820\n",
      "Epoch 17/30\n",
      "55000/55000 [==============================] - 4s 81us/sample - loss: 0.2833 - accuracy: 0.8983 - val_loss: 0.3114 - val_accuracy: 0.8896\n",
      "Epoch 18/30\n",
      "55000/55000 [==============================] - 4s 82us/sample - loss: 0.2775 - accuracy: 0.9013 - val_loss: 0.3265 - val_accuracy: 0.8854\n",
      "Epoch 19/30\n",
      "55000/55000 [==============================] - 5s 85us/sample - loss: 0.2730 - accuracy: 0.9017 - val_loss: 0.3594 - val_accuracy: 0.8662\n",
      "Epoch 20/30\n",
      "55000/55000 [==============================] - 5s 83us/sample - loss: 0.2683 - accuracy: 0.9030 - val_loss: 0.3013 - val_accuracy: 0.8918\n",
      "Epoch 21/30\n",
      "55000/55000 [==============================] - 5s 82us/sample - loss: 0.2627 - accuracy: 0.9060 - val_loss: 0.3181 - val_accuracy: 0.8822\n",
      "Epoch 22/30\n",
      "55000/55000 [==============================] - 5s 83us/sample - loss: 0.2585 - accuracy: 0.9063 - val_loss: 0.3165 - val_accuracy: 0.8872\n",
      "Epoch 23/30\n",
      "55000/55000 [==============================] - 5s 83us/sample - loss: 0.2547 - accuracy: 0.9083 - val_loss: 0.3057 - val_accuracy: 0.8924\n",
      "Epoch 24/30\n",
      "55000/55000 [==============================] - 5s 85us/sample - loss: 0.2485 - accuracy: 0.9099 - val_loss: 0.3007 - val_accuracy: 0.8932\n",
      "Epoch 25/30\n",
      "55000/55000 [==============================] - 5s 93us/sample - loss: 0.2451 - accuracy: 0.9123 - val_loss: 0.3085 - val_accuracy: 0.8888\n",
      "Epoch 26/30\n",
      "55000/55000 [==============================] - 5s 91us/sample - loss: 0.2407 - accuracy: 0.9149 - val_loss: 0.3191 - val_accuracy: 0.8840\n",
      "Epoch 27/30\n",
      "55000/55000 [==============================] - 5s 88us/sample - loss: 0.2360 - accuracy: 0.9147 - val_loss: 0.2995 - val_accuracy: 0.8900\n",
      "Epoch 28/30\n",
      "55000/55000 [==============================] - 5s 84us/sample - loss: 0.2329 - accuracy: 0.9157 - val_loss: 0.3026 - val_accuracy: 0.8934\n",
      "Epoch 29/30\n",
      "55000/55000 [==============================] - 5s 83us/sample - loss: 0.2290 - accuracy: 0.9177 - val_loss: 0.2988 - val_accuracy: 0.8956\n",
      "Epoch 30/30\n",
      "55000/55000 [==============================] - 5s 83us/sample - loss: 0.2253 - accuracy: 0.9184 - val_loss: 0.3265 - val_accuracy: 0.8840\n"
     ]
    }
   ],
   "source": [
    "history = model.fit(X_train, y_train, epochs=30,\n",
    "                    validation_data=(X_valid, y_valid))"
   ]
  },
  {
   "cell_type": "code",
   "execution_count": 37,
   "metadata": {
    "collapsed": true,
    "jupyter": {
     "outputs_hidden": true
    }
   },
   "outputs": [
    {
     "data": {
      "text/plain": [
       "{'batch_size': 32,\n",
       " 'epochs': 30,\n",
       " 'steps': 1719,\n",
       " 'samples': 55000,\n",
       " 'verbose': 0,\n",
       " 'do_validation': True,\n",
       " 'metrics': ['loss', 'accuracy', 'val_loss', 'val_accuracy']}"
      ]
     },
     "execution_count": 37,
     "metadata": {},
     "output_type": "execute_result"
    }
   ],
   "source": [
    "history.params"
   ]
  },
  {
   "cell_type": "code",
   "execution_count": 38,
   "metadata": {
    "collapsed": true,
    "jupyter": {
     "outputs_hidden": true
    }
   },
   "outputs": [
    {
     "name": "stdout",
     "output_type": "stream",
     "text": [
      "[0, 1, 2, 3, 4, 5, 6, 7, 8, 9, 10, 11, 12, 13, 14, 15, 16, 17, 18, 19, 20, 21, 22, 23, 24, 25, 26, 27, 28, 29]\n"
     ]
    }
   ],
   "source": [
    "print(history.epoch)"
   ]
  },
  {
   "cell_type": "code",
   "execution_count": 39,
   "metadata": {
    "collapsed": true,
    "jupyter": {
     "outputs_hidden": true
    }
   },
   "outputs": [
    {
     "data": {
      "text/plain": [
       "dict_keys(['loss', 'accuracy', 'val_loss', 'val_accuracy'])"
      ]
     },
     "execution_count": 39,
     "metadata": {},
     "output_type": "execute_result"
    }
   ],
   "source": [
    "history.history.keys()"
   ]
  },
  {
   "cell_type": "code",
   "execution_count": 40,
   "metadata": {
    "collapsed": true,
    "jupyter": {
     "outputs_hidden": true
    }
   },
   "outputs": [
    {
     "data": {
      "text/plain": [
       "(0, 1)"
      ]
     },
     "execution_count": 40,
     "metadata": {},
     "output_type": "execute_result"
    },
    {
     "data": {
      "image/png": "[encoded data removed]",
      "text/plain": [
       "<Figure size 576x360 with 1 Axes>"
      ]
     },
     "metadata": {
      "needs_background": "light"
     },
     "output_type": "display_data"
    }
   ],
   "source": [
    "import pandas as pd\n",
    "\n",
    "pd.DataFrame(history.history).plot(figsize=(8, 5))\n",
    "plt.grid(True)\n",
    "plt.gca().set_ylim(0, 1)\n"
   ]
  },
  {
   "cell_type": "markdown",
   "metadata": {},
   "source": [
    "**Exercise:** plot the above graph using Seaborn or Altair and how do you save this graph in png format in your project folder"
   ]
  },
  {
   "cell_type": "code",
   "execution_count": 41,
   "metadata": {
    "collapsed": true,
    "jupyter": {
     "outputs_hidden": true
    }
   },
   "outputs": [
    {
     "name": "stdout",
     "output_type": "stream",
     "text": [
      "10000/1 [================================================================================================================================================================================================================================================================================================================================================================================================================================================================================================================================================================================================================================================================================================================================================================================================================================================================================================================================================================================================================================================================================================================================================================================================================================================================================================================================================================================================================================================================================================================================================================================================================================================================================================================================================================================================================================================================================================================================================================================================================================================================================================================================================================================================================================================================================================================================================================================================================================================================================================================================================================================================================================================================================================================================================================================================================================================================================================================================================================================================================================================================================================================================================================================================================================================================================================================================================================================================================================================================================================================================================================================================================================================================================================================================================================================================================================================================================================================================================================================================================================================================================================================================================================================================================================================================================================================================================================================================================================================================================================================================================================================================================================================================================================================================================================================================================================================================================================================================================================================================================================================================================================================================================================================================================================================================================================================================================================================================================================================================================================================================================================================================================================================================================================================================================================================================================================================================================================================================================================================================================================================================================================================================================================================================================================================================================================================================================================================================================================================================================================================================================================================================================================================================================================================================================================================================================================================================================================================================================================================================================================================================================================================================================================================================================================================================================================================================================================================================================================================================================================================================================================================================================================================================================================================================================================================================================================================================================================================================================================================================================================================================================================================================================================================================================================================================================================================================================================================================================================================================================================================================================================================================================================================================================================================================================================================================================================================================================================================================================================================================================================================================================================================================================================================================================================================================================================================================================================================================================================================================================================================================================================================================================================================================================================================================================================================================================================================================================================================================================================================================================================================================================================================================================================================================================================================================================================================================================================================================================================================================================================================================================================================================================================================================================================================================================================================================================================================================================================================================================================================================================================================================================================================================================================================================================================================================================================================================================================================================================================================================================================================================================================================================================================================================================================================================================================================================================================================================================================================================================================================================================================================================================================================================================================================================================================================================================================================================================================================================================================================================================================================================================================================================================================================================================================================================================================================================================================================================================================================================================================================================================================================================================================================================================================================================================================================================================================================================================================================================================================================================================================================================================================================================================================================================================================================================================================================================================================================================================================================================================================================================================================================================================================================================================================================================================================================================================================================================================================================================================================================================================================================================================================================================================================================================================================================================================================================================================================================================================================================================================================================================================================================================================================================================================================================================================================================================================================================================================================================================================================================================================================================================================================================================================================================================================================================================================================================================================================================================================================================================================================================================================================================================================================================================================================================================================================================================================================================================================================================================================================================================================================================================================================================================================================================================================================================================================================================================================================================================================================================================================================================================================================================================================================================================================================================================================================================================================================================================================================================================================================================================================================================================================================================================================================================================================================================================================================================================================================================================================================================================================================================================================================================================================================================================================================================================================================================================================================================================================================================================================================================================================================================================================================================================================================================================================================================================================================================================================================================================================================================================================================================================================================================================================================================================================================================================================================================================================================================================================================================================================================================================================================================================================================================================================================================================================================================================================================================================================================================================================================================================================================================================================================================================================================================================================================================================================================================================================================================================================================================================================================================================================================================================================================================================================================================================================================================================================================================================================================================================================================================================================================================================================================================================================================================================================================================================================================================================================================================================================================================================================================================================================================================================================================================================================================================================================================================================================================================================================================================================================================================================================================================================================================================================================================================================================================================================================================================================================================================================================================================================================================================================================================================================================================================================================================================================================================================================================================================================================================================================================================================================================================================================================================================================================================================================================================================================================================================================================================================================================================================================================================================================================================================================================================================================================================================================================================================================================================================================================================================================================================================================================================================================================================================================================================================================================================================================================================================================================================================================================================================================================================================================================================================================================================================================================================================================================================================================================================================================================================================================================================================================================================================================================================================================================================================================================================================================================================================================================================================================================================================================================================================================================================================================================================================================================================================================================================================================================================================================================================================================================================================================================================================================================================================================================================================================================================================================================================================================================================================================================================================================================================================================================================================================================================================================================================================================================================================================================================================================================================================================================================================================================================================================================================================================================================================================================================================================================================================================================================================================================================================================================================================================================================================================================================================================================================================================================================================================================================================================================================================================================================================================================================================================================================================================================================================================================================================================================================================================================================================================================================================================================================================================================================================================================================================================================================================================================================================================================================================================================================================================================================================================================================================================================================================================================================================================================================================================================================================================================================================================================================================================================================================================================================================================================================================================================================================================================================================================================================================================================================================================================================================================================================================================================================================================================================================================================================================================================================================================================================================================================================================================================================================================================================================================================================================================================================================================================================================================================================================================================================================================================================================================================================================================================================================================================================================================================================================================================================================================================================================================================================================================================================================================================================================================================================================================================================================================================================================================================================================================================================================================================================================================================================================================================================================================================================================================================================================================================================================================================================================================================================================================================================================================================================================================================================================================================================================================================================================================================================================================================================================================================================================================================================================================================================================================================================================================================================================================================================================================================================================================================================================================================================================================================================================================================================================================================================================================================================================================================================================================================================================================================================================================================================================================================================================================================================================================================================================================================================================================================================================================================================================================================================================================================================================================================================================================================================================================================================================================================================================================================================================================================================================================================================================================================================================================================================================================================================================================================================================================================================================================================================================================================================================================================================================================================================================================================================================================================================================================================================================================================================================================================================================================================================================================================================================================================================================================================================================================================================================================================================================================================================================================================================================================================================================================================================================================================================================================================================================================================================================================================================================================================================================================================================================================================================================================================================================================================================================================================================================================================================================================================================================================================================================================================================================================================================================================================================================================================================================================================================================================================================================================================================================================================================================================================================================================================================================================================================================================================================================================================================================================================================================================================================================================================================================================================================================================================================================================================================================================================================================================================================================================================================================================================================================================================================================================================================================================================================================================================================================================================================================================================================================================================================================================================================================================================================================================================================================================================================================================================================================================================================================================================================================================================================================================================================================================================================================================================================================================================================================================================================================================================================================================================================================================================================================================================================================================================================================================================================================================================================================================================================================================================================================================================================================================================================================================================================================================================================================================================================================================================================================================================================================================================================================================================================================================================================================================================================================================================================================================================================================================================================================================================================================================================================================================================================================================================================================================================================================================================================================================================================================================================================================================================================================================================================================================================================================================================================================================================================================================================================================================================================================================================================================================================================================================================================================================================================================================================================================================================================================================================================================================================================================================================================================================================================================================================================================================================================================================================================================================================================================================================================================================================================================================================================================================================================================================================================================================================================================================================================================================================================================================================================================================================================================================================================================================================================================================================================================================================================================================================================================================================================================================================================================================================================================================================================================================================================================================================================================================================================================================================================================================================================================================================================================================================================================================================================================================================================================================================================================================================================================================================================================================================================================================================================================================================================================================================================================================================================================================================================================================================================================================================================================================================================================================================================================================================================================================================================================================================================================================================================================================================================================================================================================================================================================================================================================================================================================================================================================================================================================================================================================================================================================================================================================================================================================================================================================================================================================================================================================================================================================================================================================================================================================================================================================================================================================================================================================================================================================================================================================================================================================================================================================================================================================================================================================================================================================================================================================================================================================================================================================================================================================================================================================================================================================================================================================================================================================================================================================================================================================================================================================================================================================================================================================================================================================================================================================================================================================================================================================================================================================================================================================================================================================================================================================================================================================================================================================================================================================================================================================================================================================================================================================================================================================================================================================================================================================================================================================================================================================================================================================================================================================================================================================================================================================================================================================================================================================================================================================================================================================================================================================================================================================================================================================================================================================================================================================================================================================================================================================================================================================================================================================================================================================================================================================================================================================================================================================================================================================================================================================================================================================================================================================================================================================================================================================================================================================================================================================================================================================================================================================================================================================================================================================================================================================================================================================================================================================================================================================================================================================================================================================================================================================================================================================================================================================================================================================================================================================================================================================================================================================================================================================================================================================================================================================================================================================================================================================================================================================================================================================================================================================================================================================================================================================================================================================================================================================================================================================================================================================================================================================================================================================================================================================================================================================================================================================================================================================================================================================================================================================================================================================================================================================================================================================================================================================================================================================================================================================================================================================================================================================================================================================================================================================================================================================================================================================================================================================================================================================================================================================================================================================================================================================================================================================================================================================================================================================================================================================================================================================================================================================================================================================================================================================================================================================================================================================================================================================================================================================================================================================================================================================================================================================================================================================================================================================================================================================================================================================================================================================================================================================================================================================================================================================================================================================================================================================================================================================================================================================================================================================================================================================================================================================================================================================================================================================================================================================================================================================================================================================================================================================================================================================================================================================================================================================================================================================================================================================================================================================================================================================================================================================================================================================================================================================================================================================================================================================================================================================================================================================================================================================================================================================================================================================================================================================================================================================================================================================================================================================================================================================================================================================================================================================================================================================================================================================================================================================================================================================================================================================================================================================================================================================================================================================================================================================================================================================================================================================================================================================================================================================================================================================================================================================================================================================================================================================================================================================================================================================================================================================================================================================================================================================================================================================================================================================================================================================================================================================================================================================================================================================================================================================================================================================================================================================================================================================================================================================================================================================================================================================================================================================================================================================================================================================================================================================================================================================================================================================================================================================================================================================================================================================================================================================================================================================================================================================================================================================================================================================================================================================================================================================================================================================================================================================================================================================================================================================================================================================================================================================================================================================================================================================================================================================================================================================================================================================================================================================================================================================================================================================================================================================================================================================================================================================================================================================================================================================================================================================================================================================================================================================================================================================================================================================================================================================================================================================================================================================================================================================================================================================================================================================================================================================================================================================================================================================================================================================================================================================================================================================================================================================================================================================================================================================================================================================================================================================================================================================================================================================================================================================================================================================================================================================================================================================================================================================================================================================================================================================================================================================================================================================================================================================================================================================================================================================================================================================================================================================================================================================================================================================================================================================================================================================================================================================================================================================================================================================================================================================================================================================================================================================================================================================================================================================================================================================================================================================================================================================================================================================================================================================================================================================================================================================================================================================================================================================================================================================================================================================================================================================================================================================================================================================================================================================================================================================================================================================================================================================================================================================================================================================================================================================================================================================================================================================================================================================================================================================================================================================================================================================================================================================================================================================================================================================================================================================================================================================================================================================================================================================================================================================================================================================================================================================================================================================================================================================================================================================================================================================================================================================================================================================================================================================================================================================================================================================================================================================================================================================================================================================================================================================================================================================================================================================================================================================================================================================================================================================================================================================================================================================================================================================================================================================================================================================================================================================================================================================================================================================================================================================================================================================================================================================================================================================================================================================================================================================================================================================================================================================================================================================================================================================================================================================================================================================================================================================================================================================================================================================================================================================================================================================================================================================================================================================================================================================================================================================================================================================================================================================================================================================================================================================================================================================================================================================================================================================================================================================================================================================================================================================================================================================================================================================================================================================================================================================================================================================================================================================================================================================================================================================================================================================================================================================================================================================================================================================================================================================================================================================================================================================================================================================================================================================================================================================================================================================================================================================================================================================================================================================================================================================================================================================================================================================================================================================================================================================================================================================================================================================================================================================================================================================================================================================================================================================================================================================================================================================================================================================================================================================================================================================================================================================================================================================================================================================================================================================================================================================================================================================================================================================================================================================================================================================================================================================================================================================================================================================================================================================================================================================================================================================================================================================================================================================================================================================================================================================================================================================================================================================================================================================================================================================================================================================================================================================================================================================================================================================================================================================================================================================================================================================================================================================================================================================================================================================================================================================================================================================================================================================================================================================================================================================================================================================================================================================================================================================================================================================================================================================================================================================================================================================================================================================================================================================================================================================================================================================================================================================================================================================================================================================================================================================================================================================================================================================================================================================================================================================================================================================================================================================================================================================================================================================================================================================================================================================================================================================================================================================================================================================================================================================================================================================================================================================================================================================================================================================================================================================================================================================================================================================================================================================================================================================================================================================================================================================================================================================================================================================================================================================================================================================================================================================================================================================================================================================================================================================================================================================================================================================================================================================================================================================================================================================================================================================================================================================================================================================================================================================================================================================================================================================================================================================================================================================================================================================================================================================================================================================================================================================================================================================================================================================================================================================================================================================================================================================================================================================================================================================================================================================================================================================================================================================================================================================================================================================================================================================================================================================================================================================================================================================================================================================================================================================================================================================================================================================================================================================================================================================================================================================================================================================================================================================================================================================================================================================================================================================================================================================================================================================================================================================================================================================================================================================================================================================================================================================================================================================================================================================================================================================================================================================================================================================================================================================================================================================================================================================================================================================================================================================================================================================================================================================================================================================================================================================================================================================================================================================================================================================================================================================================================================================================================================================================================================================================================================================================================================================================================================================================================================================================================================================================================================================================================================================================================================================================================================================================================================================================================================================================================================================================================================================================================================================================================================================================================================================================================================================================================================================================================================================================================================================================================================================================================================================================================================================================================================================================================================================================================================================================================================================================================================================================================================================================================================================================================================================================================================================================================================================================================================================================================================================================================================================================================================================================================================================================================================================================================================================================================================================================================================================================================================================================================================================================================================================================================================================================================================================================================================================================================================================================================================================================================================================================================================================================================================================================================================================================================================================================================================================================================================================================================================================================================================================================================================================================================================================================================================================================================================================================================================================================================================================================================================================================================================================================================================================================================================================================================================================================================================================================================================================================================================================================================================================================================================================================================================================================================================================================================================================================================================================================================================================================================================================================================================================================================================================================================================================================================================================================================================================================================================================================================================================================================================================================================================================================================================================================================================================================================================================================================================================================================================================================================================================================================================================================================================================================================================================================================================================================================================================================================================================================================================================================================================================================================================================================================================================================================================================================================================================================================================================================================================================================================================================================================================================================================================================================================================================================================================================================================================================================================================================================================================================================================================================================================================================================================================================================================================================================================================================================================================================================================================================================================================================================================================================================================================================================================================================================================================================================================================================================================================================================================================================================================================================================================================================================================================================================================================================================================================================================================================================================================================================================================================================================================================================================================================================================================================================================================================================================================================================================================================================================================================================================================================================================================================================================================================================================================================================================================================================================================================================================================================================================================================================================================================================================================================================================================================================================================================================================================================================================================================================================================================================================================================================================================================================================================================================================================================================================================================================================================================================================================================================================================================================================================================================================================================================================================================================================================================================================================================================================================================================================================================================================================================================================================================================================================================================================================================================================================================================================================================================================================================================================================================================================================================================================================================================================================================================================================================================================================================================================================================================================================================================================================================================================================================================================================================================================================================================================================================================================================================================================================================================================================================================================================================================================================================================================================================================================================================================================================================================================================================================================================================================================================================================================================================================================================================================================================================================================================================================================================================================================================================================================================================================================================================================================================================================================================================================================================================================================================================================================================================================================================================================================================================================================================================================================================================================================================================================================================================================================================================================================================================================================================================================================================================================================================================================================================================================================================================================================================================================================================================================================================================================================================================================================================================================================================================================================================================================================================================================================================================================================================================================================================================================================================================================================================================================================================================================================================================================================================================================================================================================================================================================================================================================================================================================================================================================================================================================================================================================================================================================================================================================================================================================================================================================================================================================================================================================================================================================================================================================================================================================================================================================================================================================================================================================================================================================================================================================================================================================================================================================================================================================================================================================================================================================================================================================================================================================================================================================================================================================================================================================================================================================================================================================================================================================================================================================================================================================================================================================================================================================================================================================================================================================================================================================================================================================================================================================================================================================================================================================================================================================================================================================================================================================================================================================================================================================================================================================================================================================================================================================================================================================================================================================================================================================================================================================================================================================================================================================================================================================================================================================================================================================================================================================================================================================================================================================================================================================================================================================================================================================================================================================================================================================================================================================================================================================================================================================================================================================================================================================================================================================================================================================================================================================================================================================================================================================================================================================================================================================================================================================================================================================================================================================================================================================================================================================================================================================================================================================================================================================================================================================================================================================================================================================================================================================================================================================================================================================================================================================================================================================================================================================================================================================================================================================================================================================================================================================================================================================================================================================================================================================================================================================================================================================================================================================================================================================================================================================================================================================================================================================================================================================================================================================================================================================================================================================================================================================================================================================================================================================================================================================================================================================================================================================================================================================================================================================================================================================================================================================================================================================================================================================================================================================================================================================================================================================================================================================================================================================================================================================================================================================================================================================================================================================================================================================================================================================================================================================================================================================================================================================================================================================================================================================================================================================================================================================================================================================================================================================================================================================================================================================================================================================================================================================================================================================================================================================================================================================================================================================================================================================================================================================================================================================================================================================================================================================================================================================================================================================================================================================================================================================================================================================================================================================================================================================================================================================================================================================================================================================================================================================================================================================================================================================================================================================================================================================================================================================================================================================================================================================================================================================================================================================================================================================================================================================================================================================================================================================================================================================================================================================================================================================================================================================================================================================================================================================================================================================================================================================================================================================================================================================================================================================================================================================================================================================================================================================================================================================================================================================================================================================================================================================================================================================================================================================================================================================================================================================================================================================================================================================================================================================================================================================================================================================================================================================================================================================================================================================================================================================================================================================================================================================================================================================================================================================================================================================================================================================================================================================================================================================================================================================================================================================================================================================================================================================================================================================================================================================================================================================================================================================================================================================================================================================================================================================================================================================================================================================================================================================================================================================================================================================================================================================================================================================================================================================================================================================================================================================================================================================================================================================================================================================================================================================================================================================================================================================================================================================================================================================================================================================================================================================================================================================================================================================================================================================================================================================================================================================================================================================================================================================================================================================================================================================================================================================================================================================================================================================================================================================================================================================================================================================================================================================================================================================================================================================================================================================================================================================================================================================================================================================================================================================================================================================================================================================================================================================================================================================================================================================================================================================================================================================================================================================================================================================================================================================================================================================================================================================================================================================================================================================================================================================================================================================================================================================================================================================================================================================================================================================================================================================================================================================================================================================================================================================================================================================================================================================================================================================================================================================================================================================================================================================================================================================================================================================================================================================================================================================================================================================================================================================================================================================================================================================================================================================================================================================================================================================================================================================================================================================================================================================================================================================================================================================================================================================================================================================================================================================================================================================================================================================================================================================================================================================================================================================================================================================================================================================================================================================================================================================================================================================================================================================================================================================================================================================================================================================================================================================================================================================================================================================================================================================================================================================================================================================================================================================================================================================================================================================================================================================================================================================================================================================================================================================================================================================================================================================================================================================================================================================================================================================================================================================================================================================================================================================================================================================================================================================================================================================================================================================================================================================================================================================================================================================================================================================================================================================================================================================================================================================================================================================================================================================================================================================================================================================================================================================================================================================================================================================================================================================================================================================================================================================================================================================================================================================================================================================================================================================================================================================================================================================================================================================================================================================================================================================================================================================================================================================================================================================================================================================================================================================================================================================================================================================================================================================================================================================================================================================================================================================================================================================================================================================================================================================================================================================================================================================================================================================================================================================================================================================================================================================================================================================================================================================================================================================================================================================================================================================================================================================================================================================================================================================================================================================================================================================================================================================================================================================================================================================================================================================================================================================================================================================================================================================================================================================================================================================================================================================================================================================================================================================================================================================================================================================================================================================================================================================================================================================================================================================================================================================================================================================================================================================================================================================================================================================================================================================================================================================================================================================================================================================================================================================================================================================================================================================================================================================================================================================================================================================================================================================================================================================================================================================================================================================================================================================================================================================================================================================================================================================================================================================================================================================================================================================================================================================================================================================================================================================================================================================================================================================================================================================================================================================================================================================================================================================================================================================================================================================================================================================================================================================================================================================================================================================================================================================================================================================================================================================================================================================================================================================================================================================================================================================================================================================================================================================================================================================================================================================================================================================================================================================================================================================================================================================================================================================================================================================================================================================================================================================================================================================================================================================================================================================================================================================================================================================================================================================================================================================================================================================================================================================================================================================================================================================================================================================================================================================================================================================================================================================================================================================================================================================================================================================================================================================================================================================================================================================================================================================================================================================================================================================================================================================================================================================================================================================================================================================================================================================================================================================================================================================================================================================================================================================================================================================================================================================================================================================================================================================================================================================================================================================================================================================================================================================================================================================================================================================================================================================================================================================================================================================================================================================================================================================================================================================================================================================================================================================================================================================================================================================================================================================================================================================================================================================================================================================================================================================================================================================================================================================================================================================================================================================================================================================================================================================================================================================================================================================================================================================================================================================================================================================================================================================================================================================================================================================================================================================================================================================================================================================================================================================================================================================================================================================================================================================================================================================================================================================================================================================================================================================================================================================================================================================================================================================================================================================================================================================================================================================================================================================================================================================================================================================================================================================================================================================================================================================================================================================================================================================================================================================================================================================================================================================================================================================================================================================================================================================================================================================================================================================================================================================================================================================================================================================================================================================================================================================================================================================================================================================================================================================================================================================================================================================================================================================================================================================================================================================================================================================================================================================================================================================================================================================================================================================================================================================================================================================================================================================================================================================================================================================================================================================================================================================================================================================================================================================================================================================================================================================================================================================================================================================================================================================================================================================================================================================================================================================================================================================================================================================================================================================================================================================================================================================================================================================================================================================================================================================================================================================================================================================================================================================================================================================================================================================================================================================================================================================================================================================================================================================================================================================================================================================================================================================================================================================================================================================================================================================================================================================================================================================================================================================================================================================================================================================================================================================================================================================================================================================================================================================================================================================================================================================================================================================================================================================================================================================================================================================================================================================================================================================================================================================================================================================================================================================================================================================================================================================================================================================================================================================================================================================================================================================================================================================================================================================================================================================================================================================================================================================================================================================================================================================================================================================================================================================================================================================================================================================================================================================================================================================================================================================================================================================================================================================================================================================================================================================================================================================================================================================================================================================================================================================================================================================================================================================================================================================================================================================================================================================================================================================================================================================================================================================================================================================================================================================================================================================================================================================================================================================================================================================================================================================================================================================================================================================================================================================================================================================================================================================================================================================================================================================================================================================================================================================================================================================================================================================================================================================================================================================================================================================================================================================================================================================================================================================================================================================================================================================================================================================================================================================================================================================================================================================================================================================================================================================================================================================================================================================================================================================================================================================================================================================================================================================================================================================================================================================================================================================================================================================================================================================================================================================================================================================================================================================================================================================================================================================================================================================================================================================================================================================================================================================================================================================================================================================================================================================================================================================================================================================================================================================================================================================================================================================================================================================================================================================================================================================================================================================================================================================================================================================================================================================================================================================================================================================================================================================================================================================================================================================================================================================================================================================================================================================================================================================================================================================================================================================================================================================================================================================================================================================================================================================================================================================================================================================================================================================================================================================================================================================================================================================================================================================================================================================================================================================================================================================================================================================================================================================================================================================================================================================================================================================================================================================================================================================================================================================================================================================================================================================================================================================================================================================================================================================================================================================================================================================================================================================================================================================================================================================================================================================================================================================================================================================================================================================================================================================================================================================================================================================================================================================================================================================================================================================================================================================================================================================================================================================================================================================================================================================================================================================================================================================================================================================================================================================================================================================================================================================================================================================================================================================================================================================================================================================================================================================================================================================================================================================================================================================================================================================================================================================================================================================================================================================================================================================================================================================================================================================================================================================================================================================================================================================================================================================================================================================================================================================================================================================================================================================================================================================================================================================================================================================================================================================================================================================================================================================================================================================================================================================================================================================================================================================================================================================================================================================================================================================================================================================================================================================================================================================================================================================================================================================================================================================================================================================================================================================================================================================================================================================================================================================================================================================================================================================================================================================================================================================================================================================================================================================================================================================================================================================================================================================================================================================================================================================================================================================================================================================================================================================================================================================================================================================================================================================================================================================================================================================================================================================================================================================================================================================================================================================================================================================================================================================================================================================================================================================================================================================================================================================================================================================================================================================================================================================================================================================================================================================================================================================================================================================================================================================================================================================================================================================================================================================================================================================================================================================================================================================================================================================================================================================================================================================================================================================================================================================================================================================================================================================================================================================================================================================================================================================================================================================================================================================================================================================================================================================================================================================================================================================================================================================================================================================================================================================================================================================================================================================================================================================================================================================================================================================================================================================================================================================================================================================================================================================================================================================================================================================================================================================================================================================================================================================================================================================================================================================================================================================================================================================================================================================================================================================================================================================================================================================================================================================================================================================================================================================================================================================================================================================================================================================================================================================================================================================================================================================================================================================================================================================================================================================================================================================================================================================================================================================================================================================================================================================================================================================================================================================================================================================================================================================================================================================================================================================================================================================================================================================================================================================================================================================================================================================================================================================================================================================================================================================================================================================================================================================================================================================================================================================================================================================================================================================================================================================================================================================================================================================================================================================================================================================================================================================================================================================================================================================================================================================================================================================================================================================================================================================================================================================================================================================================================================================================================================================================================================================================================================================================================================================================================================================================================================================================================================================================================================================================================================================================================================================================================================================================================================================================================================================================================================================================================================================================================================================================================================================================================================================================================================================================================================================================================================================================================================================================================================================================================================================================================================================================================================================================================================================================================================================================================================================================================================================================================================================================================================================================================================================================================================================================================================================================================================================================================================================================================================================================================================================================================================================================================================================================================================================================================================================================================================================================================================================================================================================================================================================================================================================================================================================================================================================================================================================================================================================================================================================================================================================================================================================================================================================================================================================================================================================================================================================================================================================================================================================================================================================================================================================================================================================================================================================================================================================================================================================================================================================================================================================================================================================================================================================================================================================================================================================================================================================================================================================================================================================================================================================================================================================================================================================================================================================================================================================================================================================================================================================================================================================================================================================================================================================================================================================================================================================================================================================================================================================================================================================================================================================================================================================================================================================================================================================================================================================================================================================================================================================================================================================================================================================================================================================================================================================================================================================================================================================================================================================================================================================================================================================================================================================================================================================================================================================================================================================================================================================================================================================================================================================================================================================================================================================================================================================================================================================================================================================================================================================================================================================================================================================================================================================================================================================================================================================================================================================================================================================================================================================================================================================================================================================================================================================================================================================================================================================================================================================================================================================================================================================================================================================================================================================================================================================================================================================================================================================================================================================================================================================================================================================================================================================================================================================================================================================================================================================================================================================================================================================================================================================================================================================================================================================================================================================================================================================================================================================================================================================================================================================================================================================================================================================================================================================================================================================================================================================================================================================================================================================================================================================================================================================================================================================================================================================================================================================================================================================================================================================================================================================================================================================================================================================================================================================================================================================================================================================================================================================================================================================================================================================================================================================================================================================================================================================================================================================================================================================================================================================================================================================================================================================================================================================================================================================================================================================================================================================================================================================================================================================================================================================================================================================================================================================================================================================================================================================================================================================================================================================================================================================================================================================================================================================================================================================================================================================================================================================================================================================================================================================================================================================================================================================================================================================================================================================================================================================================================================================================================================================================================================================================================================================================================================================================================================================================================================================================================================================================================================================================================================================================================================================================================================================================================================================================================================================================================================================================================================================================================================================================================================================================================================================================================================================================================================================================================================================================================================================================================================================================================================================================================================================================================================================================================================================================================================================================================================================================================================================================================================================================================================================================================================================================================================================================================================================================================================================================================================================================================================================================================================================================================================================================================================================================================================================================================================================================================================================================================================================================================================================================================================================================================================================================================================================================================================================================================================================================================================================================================================================================================================================================================================================================================================================================================================================================================================================================================================================================================================================================================================================================================================================================================================================================================================================================================================================================================================================================================================================================================================================================================================================================================================================================================================================================================================================================================================================================================================================================================================================================================================================================================================================================================================================================================================================================================================================================================================================================================================================================================================================================================================================================================================================================================================================================================================================================================================================================================================================================================================================================================================================================================================================================================================================================================================================================================================================================================================================================================================================================================================================================================================================================================================================================================================================================================================================================================================================================================================================================================================================================================================================================================================================================================================================================================================================================================================================================================================================================================================================================================================================================================================================================================================================================================================================================================================================================================================================================================================================================================================================================================================================================================================================================================================================================================================================================================================================================================================================================================================================================================================================================================================================================================================================================================================================================================================================================================================================================================================================================================================================================================================================================================================================================================================================================================================================================================================================================================================================================================================================================================================================================================================================================================================================================================================================================================================================================================================================================================================================================================================================================================================================================================================================================================================================================================================================================================================================================================================================================================================================================================================================================================================================================================================================================================================================================================================================================================================================================================================================================================================================================================================================================================================================================================================================================================================================================================================================================================================================================================================================================================================================================================================================================================================================================================================================================================================================================================================================================================================================================================================================================================================================================================================================================================================================================================================================================================================================================================================================================================================================================================================================================================================================================================================================================================================================================================================================================================================================================================================================================================================================================================================================================================================================================================================================================================================================================================================================================================================================================================================================================================================================================================================================================================================================================================================================================================================================================================================================================================================================================================================================================================================================================================================================================================================================================================================================================================================================================================================================================================================================================================================================================================================================================================================================================================================================================================================================================================================================================================================================================================================================================================================================================================================================================================================================================================================================================================================================================================================================================================================================================================================================================================================================================================================================================================================================================================================================================================================================================================================================================================================================================================================================================================================================================================================================================================================================================================================================================================================================================================================================================================================================================================================================================================================================================================================================================================================================================================================================================================================================================================================================================================================================================================================================================================================================================================================================================================================================================================================================================================================================================================================================================================================================================================================================================================================================================================================================================================================================================================================================================================================================================================================================================================================================================================================================================================================================================================================================================================================================================================================================================================================================================================================================================================================================================================================================================================================================================================================================================================================================================================================================================================================================================================================================================================================================================================================================================================================================================================================================================================================================================================================================================================================================================================================================================================================================================================================================================================================================================================================================================================================================================================================================================================================================================================================================================================================================================================================================================================================================================================================================================================================================================================================================================================================================================================================================================================================================================================================================================================================================================================================================================================================================================================================================================================================================================================================================================================================================================================================================================================================================================================================================================================================================================================================================================================================================================================================================================================================================================================================================================================================================================================================================================================================================================================================================================================================================================================================================================================================================================================================================================================================================================================================================================================================================================================================================================================================================================================================================================================================================================================================================================================================================================================================================================================================================================================================================================================================================================================================================================================================================================================================================================================================================================================================================================================================================================================================================================================================================================================================================================================================================================================================================================================================================================================================================================================================================================================================================================================================================================================================================================================================================================================================================================================================================================================================================================================================================================================================================================================================================================================================================================================================================================================================================================================================================================================================================================================================================================================================================================================================================================================================================================================================================================================================================================================================================================================================================================================================================================================================================================================================================================================================================================================================================================================================================================================================================================================================================================================================================================================================================================================================================================================================================================================================================================================================================================================================================================================================================================================================================================================================================================================================================================================================================================================================================================================================================================================================================================================================================================================================================================================================================================================================================================================================================================================================================================================================================================================================================================================================================================================================================================================================================================================================================================================================================================================================================================================================================================================================================================================================================================================================================================================================================================================================================================================================================================================================================================================================================================================================================================================================================================================================================================================================================================================================================================================================================================================================================================================================================================================================================================================================================================================================================================================================================================================================================================================================================================================================================================================================================================================================================================================================================================================================================================================================================================================================================================================================================================================================================================================================================================================================================================================================================================================================================================================================================================================================================================================================================================================================================================================================================================================================================================================================================================================================================================================================================================================================================================================================================================================================================================================================================================================================================================================================================================================================================================================================================================================================================================================================================================================================================================================================================================================================================================================================================================================================================================================================================================================================================================================================================================================================================================================================================================================================================================================================================================================================================================================================================================================================================================================================================================================================================================================================================================================================================================================================================================================================================================================================================================================================================================================================================================================================================================================================================================================================================================================================================================================================================================================================================================================================================================================================================================================================================================================================================================================================================================================================================================================================================================================================================================================================================================================================================================================================================================================================================================================================================================================================================================================================================================================================================================================================================================================================================================================================================================================================================================================================================================================================================================================================================================================================================================================================================================================================================================================================================================================================================================================================================================================================================================================================================================================================================================================================================================================================================================================================================================================================================================================================================================================================================================================================================================================================================================================================================================================================================================================================================================================================================================================================================================================================================================================================================================================================================================================================================================================================================================================================================================================================================================================================================================================================================================================================================================================================================================================================================================================================================================================================================================================================================================================================================================================================================================================================================================================================================================================================================================================================================================================================================================================================================================================================================================================================================================================================================================================================================================================================================================================================================================================================================================================================================================================================================================================================================================================================================================================================================================================================================================================================================================================================================================================================================================================================================================================================================================================================================================================================================================================================================================================================================================================================================================================================================================================================================================================================================================================================================================================================================================================================================================================================================================================================================================================================================================================================================================================================================================================================================================================================================================================================================================================================================================================================================================================================================================================================================================================================================================================================================================================================================================================================================================================================================================================================================================================================================================================================================================================================================================================================================================================================================================================================================================================================================================================================================================================================================================================================================================================================================================================================================================================================================================================================================================================================================================================================================================================================================================================================================================================================================================================================================================================================================================================================================================================================================================================================================================================================================================================================================================================================================================================================================================================================================================================================================================================================================================================================================================================================================================================================================================================================================================================================================================================================================================================================================================================================================================================================================================================================================================================================================================================================================================================================================================================================================================================================================================================================================================================================================================================================================================================================================================================================================================================================================================================================================================================================================================================================================================================================================================================================================================================================================================================================================================================================================================================================================================================================================================================================================================================================================================================================================================================================================================================================================================================================================================================================================================================================================================================================================================================================================================================================================================================================================================================================================================================================================================================================================================================================================================================================================================================================================================================================================================================================================================================================================================================================================================================================================================================================================================================================================================================================================================================================================================================================================================================================================================================================================================================================================================================================================================================================================================================================================================================================================================================================================================================================================================================================================================================================================================================================================================================================================================================================================================================================================================================================================================================================================================================================================================================================================================================================================================================================================================================================================================================================================================================================================================================================================================================================================================================================================================================================================================================================================================================================================================================================================================================================================================================================================================================================================================================================================================================================================================================================================================================================================================================================================================================================================================================================================================================================================================================================================================================================================================================================================================================================================================================================================================================================================================================================================================================================================================================================================================================================================================================================================================================================================================================================================================================================================================================================================================================================================================================================================================================================================================================================================================================================================================================================================================================================================================================================================================================================================================================================================================================================================================================================================================================================================================================================================================================================================================================================================================================================================================================================================================================================================================================================================================================================================================================================================================================================================================================================================================================================================================================================================================================================================================================================================================================================================================================================================================================================================================================================================================================================================================================================================================================================================================================================================================================================================================================================================================================================================================================================================================================================================================================================================================================================================================================================================================================================================================================================================================================================================================================================================================================================================================================================================================================================================================================================================================================================================================================================================================================================================================================================================================================================================================================================================================================================================================================================================================================================================================================================================================================================================================================================================================================================================================================================================================================================================================================================================================================================================================================================================================================================================================================================================================================================================================================================================================================================================================================================================================================================================================================================================================================================================================================================================================================================================================================================================================================================================================================================================================================================================================================================================================================================================================================================================================================================================================================================================================================================================================================================================================================================================================================================================================================================================================================================================================================================================================================================================================================================================================================================================================================================================================================================================================================================================================================================================================================================================================================================================================================================================================================================================================================================================================================================================================================================================================================================================================================================================================================================================================================================================================================================================================================================================================================================================================================================================================================================================================================================================================================================================================================================================================================================================================================================================================================================================================================================================================================================================================================================================================================================================================================================================================================================================================================================================================================================================================================================================================================================================================================================================================================================================================================================================================================================================================================================================================================================================================================================================================================================================================================================================================================================================================================================================================================================================================================================================================================================================================================================================================================================================================================================================================================================================================================================================================================================================================================================================================================================================================================================================================================================================================================================================================================================================================================================================================================================================================================================================================================================================================================================================================================================================================================================================================================================================================================================================================================================================================================================================================================================================================================================================================================================================================================================================================================================================================================================================================================================================================================================================================================================================================================================================================================================================================================================================================================================================================================================================================================================================================================================================================================================================================================================================================================================================================================================================================================================================================================================================================================================================================================================================================================================================================================================================================================================================================================================================================================================================================================================================================================================================================================================================================================================================================================================================================================================================================================================================================================================================================================================================================================================================================================================================================================================================================================================================================================================================================================================================================================================================================================================================================================================================================================================================================================================================================================================================================================================================================================================================================================================================================================================================================================================================================================================================================================================================================================================================================================================================================================================================================================================================================================================================================================================================================================================================================================================================================================================================================================================================================================================================================================================================================================================================================================================================================================================================================================================================================================================================================================================================================================================================================================================================================================================================================================================================================================================================================================================================================================================================================================================================================================================================================================================================================================================================================================================================================================================================================================================================================================================================================================================================================================================================================================================================================================================================================================================================================================================================================================================================================================================================================================================================================================================================================================================================================================================================================================================================================================================================================================================================================================================================================================================================================================================================================================================================================================================================================================================================================================================================================================================================================================================================================================================================================================================================================================================================================================================================================================================================================================================================================================================================================================================================================================================================================================================================================================================================================================================================================================================================================================================================================================================================================================================================================================================================================================================================================================================================================================================================================================================================================================================================================================================================================================================================================================================================================================================================================================================================================================================================================================================================================================================================================================================================================================================================================================================================================================================================================================================================================================================================================================================================================================================================================================================================================================================================================================================================================================================================================================================================================================================================================================================================================================================================================================================================================================================================================================================================================================================================================================================================================================================================================================================================================================================================================================================================================================================================================================================================================================================================================================================================================================================================================================================================================================================================================================================================================================================================================================================================================================================================================================================================================================================================================================================================================================================================================================================================================================================================================================================================================================================================================================================================================================================================================================================================================================================================================================================================================================================================================================================================================================================================================================================================================================================================================================================================================================================================================================================================================================================================================================================================================================================================================================================================================================================================================================================================================================================================================================================================================================================================================================================================================================================================================================================================================================================================================================================================================================================================================================================================================================================================================================================================================================================================================================================================================================================================================================================================================================================================================================================================================================================================================================================================================================================================================================================================================================================================================================================================================================================================================================================================================================================================================================================================================================================================================================================================================================================================================================================================================================================================================================================================================================================================================================================================================================================================================================================================================================================================================================================================================================================================================================================================================================================================================================================================================================================================================================================================================================================================================================================================================================================================================================================================================================================================================================================================================================================================================================================================================================================================================================================================================================================================================================================================================================================================================================================================================================================================================================================================================================================================================================================================================================================================================================================================================================================================================================================================================================================================================================================================================================================================================================================================================================================================================================================================================================================================================================================================================================================================================================================================================================================================================================================================================================================================================================================================================================================================================================================================================================================================================================================================================================================================================================================================================================================================================================================================================================================================================================================================================================================================================================================================================================================================================================================================================================================================================================================================================================================================================================================================================================================================================================================================================================================================================================================================================================================================================================================================================================================================================================================================================================================================================================================================================================================================================================================================================================================================================================================================================================================================================================================================================================================================================================================================================================================================================================================================================================================================================================================================================================================================================================================================================================================================================================================================================================================================================================================================================================================================================================================================================================================================================================================================================================================================================================================================================================================================================================================================================================================================================================================================================================================================================================================================================================================================================================================================================================================================================================================================================================================================================================================================================================================================================================================================================================================================================================================================================================================================================================================================================================================================================================================================================================================================================================================================================================================================================================================================================================================================================================================================================================================================================================================================================================================================================================================================================================================================================================================================================================================================================================================================================================================================================================================================================================================================================================================================================================================================================================================================================================================================================================================================================================================================================================================================================================================================================================================================================================================================================================================================================================================================================================================================================================================================================================================================================================================================================================================================================================================================================================================================================================================================================================================================================================================================================================================================================================================================================================================================================================================================================================================================================================================================================================================================================================================================================================================================================================================================================================================================================================================================================================================================================================================================================================================================================================================================================================================================================================================================================================================================================================================================================================================================================================================================================================================================================================================================================================================================================================================================================================================================================================================================================================================================================================================================================================================================================================================================================================================================================================================================================================================================================================================================================================================================================================================================================================================================================================================================================================================================================================================================================================================================================================================================================================================================================================================================================================================================================================================================================================================================================================================================================================================================================================================================================================================================================================================================================================================================================================================================================================================================================================================================================================================================================================================================================================================================================================================================================================================================================================================================================================================================================================================================================================================================================================================================================================================================================================================================================================================================================================================================================================================================================================================================================================================================================================================================================================================================================================================================================================================================================================================================================================================================================================================================================================================================================================================================================================================================================================================================================================================================================================================================================================================================================================================================================================================================================================================================================================================================================================================================================================================================================================================================================================================================================================================================================================================================================================================================================================================================================================================================================================================================================================================================================================================================================================================================================================================================================================================================================================================================================================================================================================================================================================================================================================================================================================================================================================================================================================================================================================================================================================================================================================================================================================================================================================================================================================================================================================================================================================================================================================================================================================================================================================================================================================================================================================================================================================================================================================================================================================================================================================================================================================================================================================================================================================================================================================================================================================================================================================================================================================================================================================================================================================================================================================================================================================================================================================================================================================================================================================================================================================================================================================================================================================================================================================================================================================================================================================================================================================================================================================================================================================================================================================================================================================================================================================================================================================================================================================================================================================================================================================================================================================================================================================================================================================================================================================================================================================================================================================================================================================================================================================================================================================================================================================================================================================================================================================================================================================================================================================================================================================================================================================================================================================================================================================================================================================================================================================================================================================================================================================================================================================================================================================================================================================================================================================================================================================================================================================================================================================================================================================================================================================================================================================================================================================================================================================================================================================================================================================================================================================================================================================================================================================================================================================================================================================================================================================================================================================================================================================================================================================================================================================================================================================================================================================================================================================================================================================================================================================================================================================================================================================================================================================================================================================================================================================================================================================================================================================================================================================================================================================================================================================================================================================================================================================================================================================================================================================================================================================================================================================================================================================================================================================================================================================================================================================================================================================================================================================================================================================================================================================================================================================================================================================================================================================================================================================================================================================================================================================================================================================================================================================================================================================================================================================================================================================================================================================================================================================================================================================================================================================================================================================================================================================================================================================================================================================================================================================================================================================================================================================================================================================================================================================================================================================================================================================================================================================================================================================================================================================================================================================================================================================================================================================================================================================================================================================================================================================================================================================================================================================================================================================================================================================================================================================================================================================================================================================================================================================================================================================================================================================================================================================================================================================================================================================================================================================================================================================================================================================================================================================================================================================================================================================================================================================================================================================================================================================================================================================================================================================================================================================================================================================================================================================================================================================================================================================================================================================================================================================================================================================================================================================================================================================================================================================================================================================================================================================================================================================================================================================================================================================================================================================================================================================================================================================================================================================================================================================================================================================================================================================================================================================================================================================================================================================================================================================================================================================================================================================================================================================================================================================================================================================================================================================================================================================================================================================================================================================================================================================================================================================================================================================================================================================================================================================================================================================================================================================================================================================================================================================================================================================================================================================================================================================================================================================================================================================================================================================================================================================================================================================================================================================================================================================================================================================================================================================================================================================================================================================================================================================================================================================================================================================================================================================================================================================================================================================================================================================================================================================================================================================================================================================================================================================================================================================================================================================================================================================================================================================================================================================================================================================================================================================================================================================================================================================================================================================================================================================================================================================================================================================================================================================================================================================================================================================================================================================================================================================================================================================================================================================================================================================================================================================================================================================================================================================================================================================================================================================================================================================================================================================================================================================================================================================================================================================================================================================================================================================================================================================================================================================================================================================================================================================================================================================================================================================================================================================================================================================================================================================================================================================================================================================================================================================================================================================================================================================================================================================================================================================================================================================================================================================================================================================================================================================================================================================================================================================================================================================================================================================================================================================================================================================================================================================================================================================================================================================================================================================================================================================================================================================================================================================================================================================================================================================================================================================================================================================================================================================================================================================================================================================================================================================================================================================================================================================================================================================================================================================================================================================================================================================================================================================================================================================================================================================================================================================================================================================================================================================================================================================================================================================================================================================================================================================================================================================================================================================================================================================================================================================================================================================================================================================================================================================================================================================================================================================================================================================================================================================================================================================================================================================================================================================================================================================================================================================================================================================================================================================================================================================================================================================================================================================================================================================================================================================================================================================================================================================================================================================================================================================================================================================================================================================================================================================================================================================================================================================================================================================================================================================================================================================================================================================================================================================================================================================================================================================================================================================================================================================================================================================================================================================================================================================================================================================================================================================================================================================================================================================================================================================================================================================================================================================================================================================================================================================================================================================================================================================================================================================================================================================================================================================================================================================================================================================================================================================================================================================================================================================================================================================================================================================================================================================================================================================================================================================================================================================================] - 0s 41us/sample - loss: 0.3188 - accuracy: 0.8681\n"
     ]
    },
    {
     "data": {
      "text/plain": [
       "[0.3610996503472328, 0.8681]"
      ]
     },
     "execution_count": 41,
     "metadata": {},
     "output_type": "execute_result"
    }
   ],
   "source": [
    "model.evaluate(X_test, y_test)"
   ]
  },
  {
   "cell_type": "markdown",
   "metadata": {},
   "source": [
    "### Using the model to make predictions and Saving the Model"
   ]
  },
  {
   "cell_type": "code",
   "execution_count": 42,
   "metadata": {
    "collapsed": true,
    "jupyter": {
     "outputs_hidden": true
    }
   },
   "outputs": [
    {
     "data": {
      "text/plain": [
       "array([[0.  , 0.  , 0.  , 0.  , 0.  , 0.01, 0.  , 0.01, 0.  , 0.98],\n",
       "       [0.  , 0.  , 1.  , 0.  , 0.  , 0.  , 0.  , 0.  , 0.  , 0.  ],\n",
       "       [0.  , 1.  , 0.  , 0.  , 0.  , 0.  , 0.  , 0.  , 0.  , 0.  ]],\n",
       "      dtype=float32)"
      ]
     },
     "execution_count": 42,
     "metadata": {},
     "output_type": "execute_result"
    }
   ],
   "source": [
    "X_new = X_test[:3]\n",
    "y_proba = model.predict(X_new)\n",
    "y_proba.round(2)"
   ]
  },
  {
   "cell_type": "code",
   "execution_count": null,
   "metadata": {
    "collapsed": true,
    "jupyter": {
     "outputs_hidden": true
    }
   },
   "outputs": [],
   "source": []
  },
  {
   "cell_type": "code",
   "execution_count": 43,
   "metadata": {
    "collapsed": true,
    "jupyter": {
     "outputs_hidden": true
    }
   },
   "outputs": [
    {
     "data": {
      "text/plain": [
       "array([9, 2, 1], dtype=int64)"
      ]
     },
     "execution_count": 43,
     "metadata": {},
     "output_type": "execute_result"
    }
   ],
   "source": [
    "y_pred = model.predict_classes(X_new)\n",
    "y_pred"
   ]
  },
  {
   "cell_type": "code",
   "execution_count": 44,
   "metadata": {
    "collapsed": true,
    "jupyter": {
     "outputs_hidden": true
    }
   },
   "outputs": [
    {
     "data": {
      "text/plain": [
       "array(['Ankle boot', 'Pullover', 'Trouser'], dtype='<U11')"
      ]
     },
     "execution_count": 44,
     "metadata": {},
     "output_type": "execute_result"
    }
   ],
   "source": [
    "np.array(class_names)[y_pred]"
   ]
  },
  {
   "cell_type": "code",
   "execution_count": 45,
   "metadata": {
    "collapsed": true,
    "jupyter": {
     "outputs_hidden": true
    }
   },
   "outputs": [
    {
     "data": {
      "text/plain": [
       "array([9, 2, 1], dtype=uint8)"
      ]
     },
     "execution_count": 45,
     "metadata": {},
     "output_type": "execute_result"
    }
   ],
   "source": [
    "y_new = y_test[:3]\n",
    "y_new"
   ]
  },
  {
   "cell_type": "code",
   "execution_count": 47,
   "metadata": {},
   "outputs": [
    {
     "data": {
      "image/png": "[encoded data removed]",
      "text/plain": [
       "<Figure size 518.4x172.8 with 3 Axes>"
      ]
     },
     "metadata": {
      "needs_background": "light"
     },
     "output_type": "display_data"
    }
   ],
   "source": [
    "plt.figure(figsize=(7.2, 2.4))\n",
    "for index, image in enumerate(X_new):\n",
    "    plt.subplot(1, 3, index + 1)\n",
    "    plt.imshow(image, cmap=\"binary\", interpolation=\"nearest\")\n",
    "    plt.axis('off')\n",
    "    plt.title(class_names[y_test[index]], fontsize=12)\n",
    "plt.subplots_adjust(wspace=0.2, hspace=0.5)\n",
    "\n"
   ]
  },
  {
   "cell_type": "code",
   "execution_count": 48,
   "metadata": {
    "collapsed": true,
    "jupyter": {
     "outputs_hidden": true
    }
   },
   "outputs": [],
   "source": [
    "model.save(\"my_keras_model.h5\")"
   ]
  },
  {
   "cell_type": "markdown",
   "metadata": {},
   "source": [
    "**Exercise:** Load this saved model and use it to predict the last ten examples/instances of test set and compare the results with the ground truths."
   ]
  },
  {
   "cell_type": "markdown",
   "metadata": {},
   "source": [
    "### Using Callbacks during Training"
   ]
  },
  {
   "cell_type": "code",
   "execution_count": 49,
   "metadata": {
    "collapsed": true,
    "jupyter": {
     "outputs_hidden": true
    }
   },
   "outputs": [],
   "source": [
    "keras.backend.clear_session()\n",
    "np.random.seed(42)\n",
    "tf.random.set_seed(42)"
   ]
  },
  {
   "cell_type": "code",
   "execution_count": 50,
   "metadata": {
    "collapsed": true,
    "jupyter": {
     "outputs_hidden": true
    }
   },
   "outputs": [],
   "source": [
    "model = keras.models.Sequential()\n",
    "model.add(keras.layers.Flatten(input_shape=[28, 28]))\n",
    "model.add(keras.layers.Dense(300, activation=\"relu\"))\n",
    "model.add(keras.layers.Dense(100, activation=\"relu\"))\n",
    "model.add(keras.layers.Dense(10, activation=\"softmax\"))"
   ]
  },
  {
   "cell_type": "code",
   "execution_count": 51,
   "metadata": {
    "collapsed": true,
    "jupyter": {
     "outputs_hidden": true
    }
   },
   "outputs": [],
   "source": [
    "model.compile(loss=\"sparse_categorical_crossentropy\",\n",
    "              optimizer=\"sgd\",\n",
    "              metrics=[\"accuracy\"])"
   ]
  },
  {
   "cell_type": "code",
   "execution_count": 52,
   "metadata": {
    "collapsed": true,
    "jupyter": {
     "outputs_hidden": true
    }
   },
   "outputs": [],
   "source": [
    "checkpoint_cb = keras.callbacks.ModelCheckpoint(\"my_kera_model_02.h5\")"
   ]
  },
  {
   "cell_type": "code",
   "execution_count": null,
   "metadata": {
    "collapsed": true,
    "jupyter": {
     "outputs_hidden": true
    }
   },
   "outputs": [],
   "source": [
    "history = model.fit(X_train, y_train, epochs=10, callbacks=[checkpoint_cb])"
   ]
  },
  {
   "cell_type": "code",
   "execution_count": 53,
   "metadata": {
    "collapsed": true,
    "jupyter": {
     "outputs_hidden": true
    }
   },
   "outputs": [],
   "source": [
    "checkpoint_cb = keras.callbacks.ModelCheckpoint(\"my_kera_model_03.h5\", save_best_only=True)"
   ]
  },
  {
   "cell_type": "code",
   "execution_count": 54,
   "metadata": {
    "collapsed": true,
    "jupyter": {
     "outputs_hidden": true
    }
   },
   "outputs": [
    {
     "name": "stdout",
     "output_type": "stream",
     "text": [
      "Train on 55000 samples, validate on 5000 samples\n",
      "Epoch 1/10\n",
      "55000/55000 [==============================] - 5s 92us/sample - loss: 0.7228 - accuracy: 0.7623 - val_loss: 0.5304 - val_accuracy: 0.8162\n",
      "Epoch 2/10\n",
      "55000/55000 [==============================] - 5s 84us/sample - loss: 0.4837 - accuracy: 0.8321 - val_loss: 0.4498 - val_accuracy: 0.8444\n",
      "Epoch 3/10\n",
      "55000/55000 [==============================] - 5s 83us/sample - loss: 0.4379 - accuracy: 0.8472 - val_loss: 0.4172 - val_accuracy: 0.8552\n",
      "Epoch 4/10\n",
      "55000/55000 [==============================] - 5s 84us/sample - loss: 0.4126 - accuracy: 0.8554 - val_loss: 0.3900 - val_accuracy: 0.8650\n",
      "Epoch 5/10\n",
      "55000/55000 [==============================] - 5s 84us/sample - loss: 0.3928 - accuracy: 0.8627 - val_loss: 0.3957 - val_accuracy: 0.8624\n",
      "Epoch 6/10\n",
      "55000/55000 [==============================] - 5s 83us/sample - loss: 0.3775 - accuracy: 0.8669 - val_loss: 0.3735 - val_accuracy: 0.8742\n",
      "Epoch 7/10\n",
      "55000/55000 [==============================] - 5s 84us/sample - loss: 0.3645 - accuracy: 0.8711 - val_loss: 0.3671 - val_accuracy: 0.8686\n",
      "Epoch 8/10\n",
      "55000/55000 [==============================] - 5s 83us/sample - loss: 0.3524 - accuracy: 0.8743 - val_loss: 0.3622 - val_accuracy: 0.8720\n",
      "Epoch 9/10\n",
      "55000/55000 [==============================] - 5s 85us/sample - loss: 0.3413 - accuracy: 0.8787 - val_loss: 0.3652 - val_accuracy: 0.8722\n",
      "Epoch 10/10\n",
      "55000/55000 [==============================] - 5s 84us/sample - loss: 0.3323 - accuracy: 0.8817 - val_loss: 0.3491 - val_accuracy: 0.8788\n"
     ]
    }
   ],
   "source": [
    "history = model.fit(X_train, y_train, epochs=10,\n",
    "                    validation_data=(X_valid, y_valid), callbacks=[checkpoint_cb])"
   ]
  },
  {
   "cell_type": "code",
   "execution_count": 55,
   "metadata": {
    "collapsed": true,
    "jupyter": {
     "outputs_hidden": true
    }
   },
   "outputs": [],
   "source": [
    "early_stopping_cb = keras.callbacks.EarlyStopping(patience=10, restore_best_weights=True)"
   ]
  },
  {
   "cell_type": "code",
   "execution_count": 56,
   "metadata": {
    "collapsed": true,
    "jupyter": {
     "outputs_hidden": true
    }
   },
   "outputs": [
    {
     "name": "stdout",
     "output_type": "stream",
     "text": [
      "Train on 55000 samples, validate on 5000 samples\n",
      "Epoch 1/10\n",
      "55000/55000 [==============================] - 5s 84us/sample - loss: 0.3245 - accuracy: 0.8847 - val_loss: 0.3438 - val_accuracy: 0.8768\n",
      "Epoch 2/10\n",
      "55000/55000 [==============================] - 5s 84us/sample - loss: 0.3158 - accuracy: 0.8872 - val_loss: 0.3342 - val_accuracy: 0.8794\n",
      "Epoch 3/10\n",
      "55000/55000 [==============================] - 5s 85us/sample - loss: 0.3078 - accuracy: 0.8897 - val_loss: 0.3274 - val_accuracy: 0.8822\n",
      "Epoch 4/10\n",
      "55000/55000 [==============================] - 5s 86us/sample - loss: 0.3019 - accuracy: 0.8917 - val_loss: 0.3258 - val_accuracy: 0.8844\n",
      "Epoch 5/10\n",
      "55000/55000 [==============================] - 5s 87us/sample - loss: 0.2956 - accuracy: 0.8950 - val_loss: 0.3256 - val_accuracy: 0.8866\n",
      "Epoch 6/10\n",
      "55000/55000 [==============================] - 5s 85us/sample - loss: 0.2892 - accuracy: 0.8971 - val_loss: 0.3177 - val_accuracy: 0.8892\n",
      "Epoch 7/10\n",
      "55000/55000 [==============================] - 5s 84us/sample - loss: 0.2841 - accuracy: 0.8972 - val_loss: 0.3205 - val_accuracy: 0.8850\n",
      "Epoch 8/10\n",
      "55000/55000 [==============================] - 5s 84us/sample - loss: 0.2779 - accuracy: 0.8998 - val_loss: 0.3248 - val_accuracy: 0.8844\n",
      "Epoch 9/10\n",
      "55000/55000 [==============================] - 5s 83us/sample - loss: 0.2724 - accuracy: 0.9031 - val_loss: 0.3279 - val_accuracy: 0.8822\n",
      "Epoch 10/10\n",
      "55000/55000 [==============================] - 5s 84us/sample - loss: 0.2675 - accuracy: 0.9034 - val_loss: 0.3133 - val_accuracy: 0.8892\n"
     ]
    }
   ],
   "source": [
    "history = model.fit(X_train, y_train, epochs=10,\n",
    "                    validation_data=(X_valid, y_valid), callbacks=[checkpoint_cb, early_stopping_cb])"
   ]
  },
  {
   "cell_type": "markdown",
   "metadata": {},
   "source": [
    "Note: We can easily write our own custom callbacks. As an example of how to do that is here:"
   ]
  },
  {
   "cell_type": "markdown",
   "metadata": {},
   "source": [
    "The following custom callback will displaythe ratio between validation loss and training loss during training, which can detect overfitting"
   ]
  },
  {
   "cell_type": "code",
   "execution_count": 57,
   "metadata": {
    "collapsed": true,
    "jupyter": {
     "outputs_hidden": true
    }
   },
   "outputs": [],
   "source": [
    "class PrintValTrainRatioCallback(keras.callbacks.Callback):\n",
    "    def on_epoch_end(self,epoch,logs):\n",
    "        print(\"\\nval/train: {:.2f}\".format(logs[\"val_loss\"]/logs[\"loss\"]))"
   ]
  },
  {
   "cell_type": "code",
   "execution_count": 58,
   "metadata": {
    "collapsed": true,
    "jupyter": {
     "outputs_hidden": true
    }
   },
   "outputs": [],
   "source": [
    "val_train_ratio_cb = PrintValTrainRatioCallback()"
   ]
  },
  {
   "cell_type": "code",
   "execution_count": 59,
   "metadata": {
    "collapsed": true,
    "jupyter": {
     "outputs_hidden": true
    }
   },
   "outputs": [
    {
     "name": "stdout",
     "output_type": "stream",
     "text": [
      "Train on 55000 samples, validate on 5000 samples\n",
      "Epoch 1/10\n",
      "54656/55000 [============================>.] - ETA: 0s - loss: 0.2629 - accuracy: 0.9054\n",
      "val/train: 1.18\n",
      "55000/55000 [==============================] - 5s 84us/sample - loss: 0.2631 - accuracy: 0.9053 - val_loss: 0.3094 - val_accuracy: 0.8862\n",
      "Epoch 2/10\n",
      "54752/55000 [============================>.] - ETA: 0s - loss: 0.2576 - accuracy: 0.9080\n",
      "val/train: 1.20\n",
      "55000/55000 [==============================] - 5s 84us/sample - loss: 0.2573 - accuracy: 0.9081 - val_loss: 0.3094 - val_accuracy: 0.8916\n",
      "Epoch 3/10\n",
      "54720/55000 [============================>.] - ETA: 0s - loss: 0.2526 - accuracy: 0.9095\n",
      "val/train: 1.20\n",
      "55000/55000 [==============================] - 5s 85us/sample - loss: 0.2524 - accuracy: 0.9096 - val_loss: 0.3027 - val_accuracy: 0.8916\n",
      "Epoch 4/10\n",
      "54624/55000 [============================>.] - ETA: 0s - loss: 0.2491 - accuracy: 0.9102\n",
      "val/train: 1.22\n",
      "55000/55000 [==============================] - 5s 95us/sample - loss: 0.2488 - accuracy: 0.9104 - val_loss: 0.3035 - val_accuracy: 0.8940\n",
      "Epoch 5/10\n",
      "54816/55000 [============================>.] - ETA: 0s - loss: 0.2448 - accuracy: 0.9124\n",
      "val/train: 1.24\n",
      "55000/55000 [==============================] - 5s 89us/sample - loss: 0.2447 - accuracy: 0.9125 - val_loss: 0.3042 - val_accuracy: 0.8914\n",
      "Epoch 6/10\n",
      "54816/55000 [============================>.] - ETA: 0s - loss: 0.2400 - accuracy: 0.9133\n",
      "val/train: 1.24\n",
      "55000/55000 [==============================] - 5s 97us/sample - loss: 0.2399 - accuracy: 0.9134 - val_loss: 0.2985 - val_accuracy: 0.8950\n",
      "Epoch 7/10\n",
      "54688/55000 [============================>.] - ETA: 0s - loss: 0.2364 - accuracy: 0.9158\n",
      "val/train: 1.29\n",
      "55000/55000 [==============================] - 5s 98us/sample - loss: 0.2363 - accuracy: 0.9158 - val_loss: 0.3039 - val_accuracy: 0.8900\n",
      "Epoch 8/10\n",
      "54944/55000 [============================>.] - ETA: 0s - loss: 0.2321 - accuracy: 0.9169\n",
      "val/train: 1.35\n",
      "55000/55000 [==============================] - 5s 92us/sample - loss: 0.2322 - accuracy: 0.9169 - val_loss: 0.3127 - val_accuracy: 0.8916\n",
      "Epoch 9/10\n",
      "54816/55000 [============================>.] - ETA: 0s - loss: 0.2284 - accuracy: 0.9187\n",
      "val/train: 1.37\n",
      "55000/55000 [==============================] - 5s 93us/sample - loss: 0.2283 - accuracy: 0.9188 - val_loss: 0.3139 - val_accuracy: 0.8870\n",
      "Epoch 10/10\n",
      "54432/55000 [============================>.] - ETA: 0s - loss: 0.2246 - accuracy: 0.9189\n",
      "val/train: 1.33\n",
      "55000/55000 [==============================] - 5s 89us/sample - loss: 0.2245 - accuracy: 0.9190 - val_loss: 0.2995 - val_accuracy: 0.8904\n"
     ]
    }
   ],
   "source": [
    "history = model.fit(X_train, y_train, epochs=10,\n",
    "                    validation_data=(X_valid, y_valid), callbacks=[checkpoint_cb, early_stopping_cb,val_train_ratio_cb])"
   ]
  },
  {
   "cell_type": "markdown",
   "metadata": {},
   "source": [
    "Think of : `on_train_begin()` , `on_train_end()`\n",
    "            `on_epoch_begin()` , `on_epoch_end()`\n",
    "            `on_batch_begin()` , `on_batch_end()`"
   ]
  },
  {
   "cell_type": "markdown",
   "metadata": {},
   "source": [
    "### TensorBoard"
   ]
  },
  {
   "cell_type": "code",
   "execution_count": 76,
   "metadata": {
    "collapsed": true,
    "jupyter": {
     "outputs_hidden": true
    }
   },
   "outputs": [],
   "source": [
    "import os\n",
    "root_logdir = os.path.join(os.curdir, \"my_logs\")"
   ]
  },
  {
   "cell_type": "code",
   "execution_count": 77,
   "metadata": {
    "collapsed": true,
    "jupyter": {
     "outputs_hidden": true
    }
   },
   "outputs": [
    {
     "data": {
      "text/plain": [
       "'.\\\\my_logs\\\\run_2019_11_04-10_39_48'"
      ]
     },
     "execution_count": 77,
     "metadata": {},
     "output_type": "execute_result"
    }
   ],
   "source": [
    "def get_run_logdir():\n",
    "    import time\n",
    "    run_id = time.strftime(\"run_%Y_%m_%d-%H_%M_%S\")\n",
    "    return os.path.join(root_logdir, run_id)\n",
    "\n",
    "run_logdir = get_run_logdir()\n",
    "run_logdir"
   ]
  },
  {
   "cell_type": "code",
   "execution_count": 78,
   "metadata": {
    "collapsed": true,
    "jupyter": {
     "outputs_hidden": true
    }
   },
   "outputs": [],
   "source": [
    "keras.backend.clear_session()\n",
    "np.random.seed(42)\n",
    "tf.random.set_seed(42)"
   ]
  },
  {
   "cell_type": "code",
   "execution_count": 79,
   "metadata": {
    "collapsed": true,
    "jupyter": {
     "outputs_hidden": true
    }
   },
   "outputs": [],
   "source": [
    "model = keras.models.Sequential()\n",
    "model.add(keras.layers.Flatten(input_shape=[28, 28]))\n",
    "model.add(keras.layers.Dense(300, activation=\"relu\"))\n",
    "model.add(keras.layers.Dense(100, activation=\"relu\"))\n",
    "model.add(keras.layers.Dense(10, activation=\"softmax\"))"
   ]
  },
  {
   "cell_type": "code",
   "execution_count": 80,
   "metadata": {
    "collapsed": true,
    "jupyter": {
     "outputs_hidden": true
    }
   },
   "outputs": [],
   "source": [
    "model.compile(loss=\"sparse_categorical_crossentropy\",\n",
    "              optimizer=\"sgd\",\n",
    "              metrics=[\"accuracy\"])"
   ]
  },
  {
   "cell_type": "code",
   "execution_count": 81,
   "metadata": {
    "collapsed": true,
    "jupyter": {
     "outputs_hidden": true
    }
   },
   "outputs": [
    {
     "name": "stdout",
     "output_type": "stream",
     "text": [
      "Train on 55000 samples, validate on 5000 samples\n",
      "Epoch 1/30\n",
      "55000/55000 [==============================] - 5s 93us/sample - loss: 0.7228 - accuracy: 0.7623 - val_loss: 0.5304 - val_accuracy: 0.8162\n",
      "Epoch 2/30\n",
      "55000/55000 [==============================] - 5s 88us/sample - loss: 0.4837 - accuracy: 0.8321 - val_loss: 0.4498 - val_accuracy: 0.8444\n",
      "Epoch 3/30\n",
      "55000/55000 [==============================] - 5s 83us/sample - loss: 0.4379 - accuracy: 0.8472 - val_loss: 0.4172 - val_accuracy: 0.8552\n",
      "Epoch 4/30\n",
      "55000/55000 [==============================] - 5s 84us/sample - loss: 0.4126 - accuracy: 0.8554 - val_loss: 0.3900 - val_accuracy: 0.8650\n",
      "Epoch 5/30\n",
      "55000/55000 [==============================] - 5s 84us/sample - loss: 0.3928 - accuracy: 0.8627 - val_loss: 0.3957 - val_accuracy: 0.8624\n",
      "Epoch 6/30\n",
      "55000/55000 [==============================] - 5s 85us/sample - loss: 0.3775 - accuracy: 0.8669 - val_loss: 0.3735 - val_accuracy: 0.8742\n",
      "Epoch 7/30\n",
      "55000/55000 [==============================] - 5s 86us/sample - loss: 0.3645 - accuracy: 0.8711 - val_loss: 0.3671 - val_accuracy: 0.8686\n",
      "Epoch 8/30\n",
      "55000/55000 [==============================] - 5s 89us/sample - loss: 0.3524 - accuracy: 0.8743 - val_loss: 0.3622 - val_accuracy: 0.8720\n",
      "Epoch 9/30\n",
      "55000/55000 [==============================] - 5s 89us/sample - loss: 0.3413 - accuracy: 0.8787 - val_loss: 0.3652 - val_accuracy: 0.8722\n",
      "Epoch 10/30\n",
      "55000/55000 [==============================] - 5s 87us/sample - loss: 0.3323 - accuracy: 0.8817 - val_loss: 0.3491 - val_accuracy: 0.8788\n",
      "Epoch 11/30\n",
      "55000/55000 [==============================] - 5s 88us/sample - loss: 0.3247 - accuracy: 0.8837 - val_loss: 0.3389 - val_accuracy: 0.8802\n",
      "Epoch 12/30\n",
      "55000/55000 [==============================] - 5s 88us/sample - loss: 0.3170 - accuracy: 0.8861 - val_loss: 0.3409 - val_accuracy: 0.8810\n",
      "Epoch 13/30\n",
      "55000/55000 [==============================] - 5s 88us/sample - loss: 0.3093 - accuracy: 0.8889 - val_loss: 0.3298 - val_accuracy: 0.8834\n",
      "Epoch 14/30\n",
      "55000/55000 [==============================] - 5s 90us/sample - loss: 0.3028 - accuracy: 0.8915 - val_loss: 0.3221 - val_accuracy: 0.8842\n",
      "Epoch 15/30\n",
      "55000/55000 [==============================] - 5s 91us/sample - loss: 0.2961 - accuracy: 0.8943 - val_loss: 0.3244 - val_accuracy: 0.8836\n",
      "Epoch 16/30\n",
      "55000/55000 [==============================] - 5s 94us/sample - loss: 0.2898 - accuracy: 0.8952 - val_loss: 0.3277 - val_accuracy: 0.8820\n",
      "Epoch 17/30\n",
      "55000/55000 [==============================] - 5s 89us/sample - loss: 0.2833 - accuracy: 0.8983 - val_loss: 0.3114 - val_accuracy: 0.8896\n",
      "Epoch 18/30\n",
      "55000/55000 [==============================] - 5s 89us/sample - loss: 0.2775 - accuracy: 0.9013 - val_loss: 0.3265 - val_accuracy: 0.8854\n",
      "Epoch 19/30\n",
      "55000/55000 [==============================] - 5s 90us/sample - loss: 0.2730 - accuracy: 0.9017 - val_loss: 0.3594 - val_accuracy: 0.8662\n",
      "Epoch 20/30\n",
      "55000/55000 [==============================] - 5s 90us/sample - loss: 0.2683 - accuracy: 0.9030 - val_loss: 0.3013 - val_accuracy: 0.8918\n",
      "Epoch 21/30\n",
      "55000/55000 [==============================] - 5s 97us/sample - loss: 0.2627 - accuracy: 0.9060 - val_loss: 0.3181 - val_accuracy: 0.8822\n",
      "Epoch 22/30\n",
      "55000/55000 [==============================] - 5s 92us/sample - loss: 0.2585 - accuracy: 0.9063 - val_loss: 0.3165 - val_accuracy: 0.8872\n",
      "Epoch 23/30\n",
      "55000/55000 [==============================] - 5s 92us/sample - loss: 0.2547 - accuracy: 0.9083 - val_loss: 0.3057 - val_accuracy: 0.8924\n",
      "Epoch 24/30\n",
      "55000/55000 [==============================] - 5s 91us/sample - loss: 0.2485 - accuracy: 0.9099 - val_loss: 0.3007 - val_accuracy: 0.8932\n",
      "Epoch 25/30\n",
      "55000/55000 [==============================] - 5s 92us/sample - loss: 0.2451 - accuracy: 0.9123 - val_loss: 0.3085 - val_accuracy: 0.8888\n",
      "Epoch 26/30\n",
      "55000/55000 [==============================] - 5s 91us/sample - loss: 0.2407 - accuracy: 0.9149 - val_loss: 0.3191 - val_accuracy: 0.8840\n",
      "Epoch 27/30\n",
      "55000/55000 [==============================] - 5s 91us/sample - loss: 0.2360 - accuracy: 0.9147 - val_loss: 0.2995 - val_accuracy: 0.8900\n",
      "Epoch 28/30\n",
      "55000/55000 [==============================] - 5s 92us/sample - loss: 0.2329 - accuracy: 0.9157 - val_loss: 0.3026 - val_accuracy: 0.8934\n",
      "Epoch 29/30\n",
      "55000/55000 [==============================] - 5s 94us/sample - loss: 0.2290 - accuracy: 0.9177 - val_loss: 0.2988 - val_accuracy: 0.8956\n",
      "Epoch 30/30\n",
      "55000/55000 [==============================] - 5s 97us/sample - loss: 0.2253 - accuracy: 0.9184 - val_loss: 0.3265 - val_accuracy: 0.8840\n"
     ]
    }
   ],
   "source": [
    "tensorboard_cb = keras.callbacks.TensorBoard(run_logdir)\n",
    "history = model.fit(X_train, y_train, epochs=30,\n",
    "                    validation_data=(X_valid, y_valid),\n",
    "                    callbacks=[checkpoint_cb, tensorboard_cb])"
   ]
  },
  {
   "cell_type": "code",
   "execution_count": null,
   "metadata": {},
   "outputs": [],
   "source": []
  }
 ],
 "metadata": {
  "kernelspec": {
   "display_name": "Python 3",
   "language": "python",
   "name": "python3"
  },
  "language_info": {
   "codemirror_mode": {
    "name": "ipython",
    "version": 3
   },
   "file_extension": ".py",
   "mimetype": "text/x-python",
   "name": "python",
   "nbconvert_exporter": "python",
   "pygments_lexer": "ipython3",
   "version": "3.6.9"
  }
 },
 "nbformat": 4,
 "nbformat_minor": 4
}
