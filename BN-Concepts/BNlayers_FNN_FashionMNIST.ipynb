{
 "cells": [
  {
   "cell_type": "markdown",
   "metadata": {},
   "source": [
    "## Batch Normalization"
   ]
  },
  {
   "cell_type": "markdown",
   "metadata": {},
   "source": [
    "Note: read accompanying BN concepts notebook first,and then do this project."
   ]
  },
  {
   "cell_type": "code",
   "execution_count": 1,
   "metadata": {},
   "outputs": [],
   "source": [
    "import tensorflow as tf\n",
    "from tensorflow import keras\n",
    "\n",
    "import numpy as np\n",
    "import pandas as pd\n",
    "\n",
    "%matplotlib inline\n",
    "import matplotlib.pyplot as plt"
   ]
  },
  {
   "cell_type": "code",
   "execution_count": 2,
   "metadata": {},
   "outputs": [],
   "source": [
    "(X_train, y_train), (X_test, y_test) = keras.datasets.fashion_mnist.load_data()\n",
    "X_train = X_train / 255.0\n",
    "X_test = X_test / 255.0\n"
   ]
  },
  {
   "cell_type": "markdown",
   "metadata": {},
   "source": [
    "### Without BN layers\n"
   ]
  },
  {
   "cell_type": "code",
   "execution_count": 23,
   "metadata": {
    "collapsed": true,
    "jupyter": {
     "outputs_hidden": true
    }
   },
   "outputs": [],
   "source": [
    "keras.backend.clear_session()\n",
    "np.random.seed(42)\n",
    "tf.random.set_seed(42)"
   ]
  },
  {
   "cell_type": "code",
   "execution_count": 3,
   "metadata": {},
   "outputs": [],
   "source": [
    "model = keras.models.Sequential([\n",
    "    keras.layers.Flatten(input_shape=[28, 28]),\n",
    "    keras.layers.Dense(300, activation=\"relu\"),\n",
    "    keras.layers.Dense(100, activation=\"relu\"),\n",
    "    keras.layers.Dense(10, activation=\"softmax\")\n",
    "])"
   ]
  },
  {
   "cell_type": "code",
   "execution_count": 4,
   "metadata": {},
   "outputs": [
    {
     "name": "stdout",
     "output_type": "stream",
     "text": [
      "Model: \"sequential\"\n",
      "_________________________________________________________________\n",
      "Layer (type)                 Output Shape              Param #   \n",
      "=================================================================\n",
      "flatten (Flatten)            (None, 784)               0         \n",
      "_________________________________________________________________\n",
      "dense (Dense)                (None, 300)               235500    \n",
      "_________________________________________________________________\n",
      "dense_1 (Dense)              (None, 100)               30100     \n",
      "_________________________________________________________________\n",
      "dense_2 (Dense)              (None, 10)                1010      \n",
      "=================================================================\n",
      "Total params: 266,610\n",
      "Trainable params: 266,610\n",
      "Non-trainable params: 0\n",
      "_________________________________________________________________\n"
     ]
    }
   ],
   "source": [
    "model.summary()"
   ]
  },
  {
   "cell_type": "code",
   "execution_count": 5,
   "metadata": {},
   "outputs": [],
   "source": [
    "model.compile(loss=\"sparse_categorical_crossentropy\",\n",
    "              optimizer=\"sgd\",\n",
    "              metrics=[\"accuracy\"])"
   ]
  },
  {
   "cell_type": "code",
   "execution_count": 6,
   "metadata": {},
   "outputs": [
    {
     "name": "stdout",
     "output_type": "stream",
     "text": [
      "Train on 54000 samples, validate on 6000 samples\n",
      "Epoch 1/10\n",
      "54000/54000 [==============================] - 6s 103us/sample - loss: 0.7128 - accuracy: 0.7681 - val_loss: 0.5151 - val_accuracy: 0.8210\n",
      "Epoch 2/10\n",
      "54000/54000 [==============================] - 5s 85us/sample - loss: 0.4901 - accuracy: 0.8299 - val_loss: 0.4510 - val_accuracy: 0.8390\n",
      "Epoch 3/10\n",
      "54000/54000 [==============================] - 5s 88us/sample - loss: 0.4465 - accuracy: 0.8435 - val_loss: 0.4824 - val_accuracy: 0.8350\n",
      "Epoch 4/10\n",
      "54000/54000 [==============================] - 5s 92us/sample - loss: 0.4185 - accuracy: 0.8533 - val_loss: 0.4423 - val_accuracy: 0.8462\n",
      "Epoch 5/10\n",
      "54000/54000 [==============================] - 5s 87us/sample - loss: 0.3985 - accuracy: 0.8600 - val_loss: 0.4351 - val_accuracy: 0.8508\n",
      "Epoch 6/10\n",
      "54000/54000 [==============================] - 5s 88us/sample - loss: 0.3823 - accuracy: 0.8661 - val_loss: 0.4146 - val_accuracy: 0.8500\n",
      "Epoch 7/10\n",
      "54000/54000 [==============================] - 5s 92us/sample - loss: 0.3678 - accuracy: 0.8708 - val_loss: 0.3942 - val_accuracy: 0.8607\n",
      "Epoch 8/10\n",
      "54000/54000 [==============================] - 5s 91us/sample - loss: 0.3558 - accuracy: 0.8730 - val_loss: 0.3968 - val_accuracy: 0.8582\n",
      "Epoch 9/10\n",
      "54000/54000 [==============================] - 5s 93us/sample - loss: 0.3456 - accuracy: 0.8759 - val_loss: 0.3721 - val_accuracy: 0.8667\n",
      "Epoch 10/10\n",
      "54000/54000 [==============================] - 5s 92us/sample - loss: 0.3351 - accuracy: 0.8806 - val_loss: 0.3547 - val_accuracy: 0.8743\n"
     ]
    }
   ],
   "source": [
    "history = model.fit(X_train, y_train, epochs=10,\n",
    "                    validation_split=0.10)"
   ]
  },
  {
   "cell_type": "code",
   "execution_count": 7,
   "metadata": {},
   "outputs": [
    {
     "data": {
      "text/plain": [
       "(0, 1)"
      ]
     },
     "execution_count": 7,
     "metadata": {},
     "output_type": "execute_result"
    },
    {
     "data": {
      "image/png": "[encoded data removed]",
      "text/plain": [
       "<Figure size 576x360 with 1 Axes>"
      ]
     },
     "metadata": {
      "needs_background": "light"
     },
     "output_type": "display_data"
    }
   ],
   "source": [
    "import pandas as pd\n",
    "\n",
    "pd.DataFrame(history.history).plot(figsize=(8, 5))\n",
    "plt.grid(True)\n",
    "plt.gca().set_ylim(0, 1)\n"
   ]
  },
  {
   "cell_type": "markdown",
   "metadata": {},
   "source": [
    "### With BN Before Activation Layer (original proposal)"
   ]
  },
  {
   "cell_type": "markdown",
   "metadata": {},
   "source": [
    "Sometimes applying BN before the activation function works better (there's a debate on this topic). Moreover, the layer before a `BatchNormalization` layer does not need to have bias terms, since the `BatchNormalization` layer has same as well in the form of **beta**, it would be a waste of parameters, so you can set `use_bias=False` when creating those layers:"
   ]
  },
  {
   "cell_type": "code",
   "execution_count": 8,
   "metadata": {},
   "outputs": [],
   "source": [
    "model = keras.models.Sequential([\n",
    "    keras.layers.Flatten(input_shape=[28, 28]),\n",
    "    keras.layers.BatchNormalization(),\n",
    "    keras.layers.Dense(300, use_bias=False),\n",
    "    keras.layers.BatchNormalization(),\n",
    "    keras.layers.Activation(\"relu\"),\n",
    "    keras.layers.Dense(100, use_bias=False),\n",
    "    keras.layers.Activation(\"relu\"),\n",
    "    keras.layers.BatchNormalization(),\n",
    "    keras.layers.Dense(10, activation=\"softmax\")\n",
    "])"
   ]
  },
  {
   "cell_type": "code",
   "execution_count": 9,
   "metadata": {},
   "outputs": [
    {
     "name": "stdout",
     "output_type": "stream",
     "text": [
      "Model: \"sequential_1\"\n",
      "_________________________________________________________________\n",
      "Layer (type)                 Output Shape              Param #   \n",
      "=================================================================\n",
      "flatten_1 (Flatten)          (None, 784)               0         \n",
      "_________________________________________________________________\n",
      "batch_normalization (BatchNo (None, 784)               3136      \n",
      "_________________________________________________________________\n",
      "dense_3 (Dense)              (None, 300)               235200    \n",
      "_________________________________________________________________\n",
      "batch_normalization_1 (Batch (None, 300)               1200      \n",
      "_________________________________________________________________\n",
      "activation (Activation)      (None, 300)               0         \n",
      "_________________________________________________________________\n",
      "dense_4 (Dense)              (None, 100)               30000     \n",
      "_________________________________________________________________\n",
      "activation_1 (Activation)    (None, 100)               0         \n",
      "_________________________________________________________________\n",
      "batch_normalization_2 (Batch (None, 100)               400       \n",
      "_________________________________________________________________\n",
      "dense_5 (Dense)              (None, 10)                1010      \n",
      "=================================================================\n",
      "Total params: 270,946\n",
      "Trainable params: 268,578\n",
      "Non-trainable params: 2,368\n",
      "_________________________________________________________________\n"
     ]
    }
   ],
   "source": [
    "model.summary()"
   ]
  },
  {
   "cell_type": "code",
   "execution_count": null,
   "metadata": {
    "collapsed": true,
    "jupyter": {
     "outputs_hidden": true
    }
   },
   "outputs": [],
   "source": []
  },
  {
   "cell_type": "code",
   "execution_count": 10,
   "metadata": {},
   "outputs": [],
   "source": [
    "model.compile(loss=\"sparse_categorical_crossentropy\",\n",
    "              optimizer=keras.optimizers.SGD(lr=1e-3),\n",
    "              metrics=[\"accuracy\"])"
   ]
  },
  {
   "cell_type": "code",
   "execution_count": 11,
   "metadata": {},
   "outputs": [
    {
     "name": "stdout",
     "output_type": "stream",
     "text": [
      "Train on 54000 samples, validate on 6000 samples\n",
      "Epoch 1/10\n",
      "54000/54000 [==============================] - 9s 160us/sample - loss: 0.8690 - accuracy: 0.7140 - val_loss: 0.5726 - val_accuracy: 0.8070\n",
      "Epoch 2/10\n",
      "54000/54000 [==============================] - 7s 138us/sample - loss: 0.5756 - accuracy: 0.8040 - val_loss: 0.4854 - val_accuracy: 0.8295\n",
      "Epoch 3/10\n",
      "54000/54000 [==============================] - 8s 142us/sample - loss: 0.5148 - accuracy: 0.8223 - val_loss: 0.4449 - val_accuracy: 0.8438\n",
      "Epoch 4/10\n",
      "54000/54000 [==============================] - 8s 144us/sample - loss: 0.4759 - accuracy: 0.8349 - val_loss: 0.4224 - val_accuracy: 0.8498\n",
      "Epoch 5/10\n",
      "54000/54000 [==============================] - 8s 145us/sample - loss: 0.4507 - accuracy: 0.8418 - val_loss: 0.4066 - val_accuracy: 0.8567\n",
      "Epoch 6/10\n",
      "54000/54000 [==============================] - 8s 149us/sample - loss: 0.4336 - accuracy: 0.8490 - val_loss: 0.3923 - val_accuracy: 0.8642\n",
      "Epoch 7/10\n",
      "54000/54000 [==============================] - 9s 159us/sample - loss: 0.4162 - accuracy: 0.8540 - val_loss: 0.3841 - val_accuracy: 0.8657\n",
      "Epoch 8/10\n",
      "54000/54000 [==============================] - 8s 152us/sample - loss: 0.4067 - accuracy: 0.8591 - val_loss: 0.3766 - val_accuracy: 0.8688\n",
      "Epoch 9/10\n",
      "54000/54000 [==============================] - 8s 152us/sample - loss: 0.3975 - accuracy: 0.8611 - val_loss: 0.3702 - val_accuracy: 0.8705\n",
      "Epoch 10/10\n",
      "54000/54000 [==============================] - 8s 152us/sample - loss: 0.3881 - accuracy: 0.8638 - val_loss: 0.3646 - val_accuracy: 0.8727\n"
     ]
    }
   ],
   "source": [
    "history = model.fit(X_train, y_train, epochs=10,\n",
    "                    validation_split=0.10)"
   ]
  },
  {
   "cell_type": "code",
   "execution_count": 12,
   "metadata": {},
   "outputs": [
    {
     "data": {
      "text/plain": [
       "(0, 1)"
      ]
     },
     "execution_count": 12,
     "metadata": {},
     "output_type": "execute_result"
    },
    {
     "data": {
      "image/png": "[encoded data removed]",
      "text/plain": [
       "<Figure size 576x360 with 1 Axes>"
      ]
     },
     "metadata": {
      "needs_background": "light"
     },
     "output_type": "display_data"
    }
   ],
   "source": [
    "\n",
    "\n",
    "pd.DataFrame(history.history).plot(figsize=(8, 5))\n",
    "plt.grid(True)\n",
    "plt.gca().set_ylim(0, 1)\n"
   ]
  },
  {
   "cell_type": "markdown",
   "metadata": {},
   "source": [
    "### With BN After Activation Layer"
   ]
  },
  {
   "cell_type": "code",
   "execution_count": 13,
   "metadata": {},
   "outputs": [],
   "source": [
    "model = keras.models.Sequential([\n",
    "    keras.layers.Flatten(input_shape=[28, 28]),\n",
    "    keras.layers.BatchNormalization(),\n",
    "    keras.layers.Dense(300),\n",
    "    keras.layers.Activation(\"relu\"),\n",
    "    keras.layers.BatchNormalization(),\n",
    "    keras.layers.Dense(100),\n",
    "    keras.layers.Activation(\"relu\"),\n",
    "    keras.layers.BatchNormalization(),\n",
    "    keras.layers.Dense(10, activation=\"softmax\")\n",
    "])"
   ]
  },
  {
   "cell_type": "code",
   "execution_count": 14,
   "metadata": {},
   "outputs": [
    {
     "name": "stdout",
     "output_type": "stream",
     "text": [
      "Model: \"sequential_2\"\n",
      "_________________________________________________________________\n",
      "Layer (type)                 Output Shape              Param #   \n",
      "=================================================================\n",
      "flatten_2 (Flatten)          (None, 784)               0         \n",
      "_________________________________________________________________\n",
      "batch_normalization_3 (Batch (None, 784)               3136      \n",
      "_________________________________________________________________\n",
      "dense_6 (Dense)              (None, 300)               235500    \n",
      "_________________________________________________________________\n",
      "activation_2 (Activation)    (None, 300)               0         \n",
      "_________________________________________________________________\n",
      "batch_normalization_4 (Batch (None, 300)               1200      \n",
      "_________________________________________________________________\n",
      "dense_7 (Dense)              (None, 100)               30100     \n",
      "_________________________________________________________________\n",
      "activation_3 (Activation)    (None, 100)               0         \n",
      "_________________________________________________________________\n",
      "batch_normalization_5 (Batch (None, 100)               400       \n",
      "_________________________________________________________________\n",
      "dense_8 (Dense)              (None, 10)                1010      \n",
      "=================================================================\n",
      "Total params: 271,346\n",
      "Trainable params: 268,978\n",
      "Non-trainable params: 2,368\n",
      "_________________________________________________________________\n"
     ]
    }
   ],
   "source": [
    "model.summary()"
   ]
  },
  {
   "cell_type": "code",
   "execution_count": 15,
   "metadata": {},
   "outputs": [
    {
     "data": {
      "text/plain": [
       "[('batch_normalization_3/gamma:0', True),\n",
       " ('batch_normalization_3/beta:0', True),\n",
       " ('batch_normalization_3/moving_mean:0', False),\n",
       " ('batch_normalization_3/moving_variance:0', False)]"
      ]
     },
     "execution_count": 15,
     "metadata": {},
     "output_type": "execute_result"
    }
   ],
   "source": [
    "bn1 = model.layers[1]\n",
    "[(var.name, var.trainable) for var in bn1.variables]"
   ]
  },
  {
   "cell_type": "code",
   "execution_count": 16,
   "metadata": {},
   "outputs": [
    {
     "data": {
      "text/plain": [
       "[<tf.Operation 'cond/Identity' type=Identity>,\n",
       " <tf.Operation 'cond_1/Identity' type=Identity>]"
      ]
     },
     "execution_count": 16,
     "metadata": {},
     "output_type": "execute_result"
    }
   ],
   "source": [
    "bn1.updates"
   ]
  },
  {
   "cell_type": "code",
   "execution_count": 17,
   "metadata": {},
   "outputs": [],
   "source": [
    "model.compile(loss=\"sparse_categorical_crossentropy\",\n",
    "              optimizer=keras.optimizers.SGD(lr=1e-3),\n",
    "              metrics=[\"accuracy\"])"
   ]
  },
  {
   "cell_type": "code",
   "execution_count": 18,
   "metadata": {},
   "outputs": [
    {
     "name": "stdout",
     "output_type": "stream",
     "text": [
      "Train on 54000 samples, validate on 6000 samples\n",
      "Epoch 1/10\n",
      "54000/54000 [==============================] - 9s 160us/sample - loss: 0.8658 - accuracy: 0.7118 - val_loss: 0.5721 - val_accuracy: 0.8015\n",
      "Epoch 2/10\n",
      "54000/54000 [==============================] - 8s 140us/sample - loss: 0.5760 - accuracy: 0.8022 - val_loss: 0.4934 - val_accuracy: 0.8233\n",
      "Epoch 3/10\n",
      "54000/54000 [==============================] - 8s 143us/sample - loss: 0.5171 - accuracy: 0.8197 - val_loss: 0.4572 - val_accuracy: 0.8340\n",
      "Epoch 4/10\n",
      "54000/54000 [==============================] - 8s 146us/sample - loss: 0.4806 - accuracy: 0.8316 - val_loss: 0.4334 - val_accuracy: 0.8453\n",
      "Epoch 5/10\n",
      "54000/54000 [==============================] - 8s 148us/sample - loss: 0.4585 - accuracy: 0.8404 - val_loss: 0.4157 - val_accuracy: 0.8522\n",
      "Epoch 6/10\n",
      "54000/54000 [==============================] - 8s 148us/sample - loss: 0.4391 - accuracy: 0.8460 - val_loss: 0.4052 - val_accuracy: 0.8517\n",
      "Epoch 7/10\n",
      "54000/54000 [==============================] - 8s 149us/sample - loss: 0.4248 - accuracy: 0.8499 - val_loss: 0.3948 - val_accuracy: 0.8588\n",
      "Epoch 8/10\n",
      "54000/54000 [==============================] - 8s 152us/sample - loss: 0.4127 - accuracy: 0.8547 - val_loss: 0.3867 - val_accuracy: 0.8595\n",
      "Epoch 9/10\n",
      "54000/54000 [==============================] - 8s 154us/sample - loss: 0.4011 - accuracy: 0.8580 - val_loss: 0.3810 - val_accuracy: 0.8637\n",
      "Epoch 10/10\n",
      "54000/54000 [==============================] - 8s 152us/sample - loss: 0.3909 - accuracy: 0.8623 - val_loss: 0.3751 - val_accuracy: 0.8635\n"
     ]
    }
   ],
   "source": [
    "history = model.fit(X_train, y_train, epochs=10,\n",
    "                    validation_split=0.10)"
   ]
  },
  {
   "cell_type": "code",
   "execution_count": 19,
   "metadata": {},
   "outputs": [
    {
     "data": {
      "text/plain": [
       "(0, 1)"
      ]
     },
     "execution_count": 19,
     "metadata": {},
     "output_type": "execute_result"
    },
    {
     "data": {
      "image/png": "[encoded data removed]",
      "text/plain": [
       "<Figure size 576x360 with 1 Axes>"
      ]
     },
     "metadata": {
      "needs_background": "light"
     },
     "output_type": "display_data"
    }
   ],
   "source": [
    "\n",
    "\n",
    "pd.DataFrame(history.history).plot(figsize=(8, 5))\n",
    "plt.grid(True)\n",
    "plt.gca().set_ylim(0, 1)\n"
   ]
  },
  {
   "cell_type": "markdown",
   "metadata": {},
   "source": [
    "**conclusion:** If you don't see improvements in accuracy with BN , don't be panic, as that is not the primary goal of BN.\n",
    "- First: BN is meant for DNNs and not for shallow nets like above.\n",
    "- Second: BN's primary goal is to improve speed of training and eliminate the unstable gradients,vanishing gradients and exploding gradients problem.\n",
    "- Third:  BN allows you not to worry too much in choosing the activation function , initialization method and learning rate."
   ]
  },
  {
   "cell_type": "code",
   "execution_count": null,
   "metadata": {},
   "outputs": [],
   "source": []
  }
 ],
 "metadata": {
  "kernelspec": {
   "display_name": "Python 3",
   "language": "python",
   "name": "python3"
  },
  "language_info": {
   "codemirror_mode": {
    "name": "ipython",
    "version": 3
   },
   "file_extension": ".py",
   "mimetype": "text/x-python",
   "name": "python",
   "nbconvert_exporter": "python",
   "pygments_lexer": "ipython3",
   "version": "3.6.9"
  }
 },
 "nbformat": 4,
 "nbformat_minor": 4
}
